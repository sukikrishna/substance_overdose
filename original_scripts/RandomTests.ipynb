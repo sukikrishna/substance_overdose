{
 "cells": [
  {
   "cell_type": "code",
   "execution_count": 1,
   "id": "699b10cc-ba5c-42e8-b31f-609e8f8277ce",
   "metadata": {},
   "outputs": [],
   "source": [
    "file = 'trial_0_11month_predictionresults_batch_1_loss_mean_squared_error_epochs_100'"
   ]
  },
  {
   "cell_type": "code",
   "execution_count": 2,
   "id": "1d9df5c4-00c7-4f35-a7dc-f5b5920ecc25",
   "metadata": {},
   "outputs": [
    {
     "data": {
      "text/plain": [
       "['trial', '0', '11']"
      ]
     },
     "execution_count": 2,
     "metadata": {},
     "output_type": "execute_result"
    }
   ],
   "source": [
    "file.split(\"month\")[0].split(\"_\")"
   ]
  },
  {
   "cell_type": "code",
   "execution_count": 6,
   "id": "6e20dedb-21d0-4e2d-b81c-d6eae45357f3",
   "metadata": {},
   "outputs": [],
   "source": [
    "folder_name = 'batch_1_loss_mse_epoch_100'\n",
    "file_parts = file.split(\"_\")\n",
    "trial_num = int(file_parts[1])\n",
    "batch_size = int(file_parts[5])\n",
    "loss_type = folder_name.split(\"_\")[3]\n",
    "epochs = int(folder_name.split(\"_\")[-1])\n",
    "lookback = int(file_parts[2][:-5])"
   ]
  },
  {
   "cell_type": "code",
   "execution_count": 5,
   "id": "c2ceb86a-7ba8-46bd-89e6-04c88f58a0fa",
   "metadata": {},
   "outputs": [
    {
     "data": {
      "text/plain": [
       "['trial',\n",
       " '0',\n",
       " '11month',\n",
       " 'predictionresults',\n",
       " 'batch',\n",
       " '1',\n",
       " 'loss',\n",
       " 'mean',\n",
       " 'squared',\n",
       " 'error',\n",
       " 'epochs',\n",
       " '100']"
      ]
     },
     "execution_count": 5,
     "metadata": {},
     "output_type": "execute_result"
    }
   ],
   "source": [
    "file_parts"
   ]
  },
  {
   "cell_type": "code",
   "execution_count": 7,
   "id": "9650f8d7-b6c4-471a-a7ad-39af9f7c9d2d",
   "metadata": {},
   "outputs": [
    {
     "data": {
      "text/plain": [
       "0"
      ]
     },
     "execution_count": 7,
     "metadata": {},
     "output_type": "execute_result"
    }
   ],
   "source": [
    "trial_num"
   ]
  },
  {
   "cell_type": "code",
   "execution_count": 8,
   "id": "0a65ce5a-da98-447b-b32a-94ed9a9e137f",
   "metadata": {},
   "outputs": [
    {
     "data": {
      "text/plain": [
       "1"
      ]
     },
     "execution_count": 8,
     "metadata": {},
     "output_type": "execute_result"
    }
   ],
   "source": [
    "batch_size"
   ]
  },
  {
   "cell_type": "code",
   "execution_count": 9,
   "id": "7cf451e7-3ce5-4cb9-a266-e7de8fb4354d",
   "metadata": {},
   "outputs": [
    {
     "data": {
      "text/plain": [
       "'mse'"
      ]
     },
     "execution_count": 9,
     "metadata": {},
     "output_type": "execute_result"
    }
   ],
   "source": [
    "loss_type"
   ]
  },
  {
   "cell_type": "code",
   "execution_count": 10,
   "id": "983b34bb-4c97-4b02-b893-e2da9686bb82",
   "metadata": {},
   "outputs": [
    {
     "data": {
      "text/plain": [
       "100"
      ]
     },
     "execution_count": 10,
     "metadata": {},
     "output_type": "execute_result"
    }
   ],
   "source": [
    "epochs"
   ]
  },
  {
   "cell_type": "code",
   "execution_count": 11,
   "id": "890fa7b0-a22a-4a96-ad20-f92cad6d4cbd",
   "metadata": {},
   "outputs": [
    {
     "data": {
      "text/plain": [
       "11"
      ]
     },
     "execution_count": 11,
     "metadata": {},
     "output_type": "execute_result"
    }
   ],
   "source": [
    "lookback"
   ]
  },
  {
   "cell_type": "code",
   "execution_count": 12,
   "id": "03028421-9945-4a45-a071-b2feaa1ee6b8",
   "metadata": {},
   "outputs": [],
   "source": [
    "import pandas as pd"
   ]
  },
  {
   "cell_type": "code",
   "execution_count": 17,
   "id": "ab3cad0a-0ce7-4f51-a3e5-eaa3029fd05b",
   "metadata": {},
   "outputs": [],
   "source": [
    "df = pd.read_csv(\"tables_seeds/seed42/\" + folder_name + \"/\" + file + \".csv\")"
   ]
  },
  {
   "cell_type": "code",
   "execution_count": 21,
   "id": "e26dd910-a60a-42cf-b0b4-6f64f0ee19ef",
   "metadata": {},
   "outputs": [
    {
     "data": {
      "text/plain": [
       "'2019-01-01'"
      ]
     },
     "execution_count": 21,
     "metadata": {},
     "output_type": "execute_result"
    }
   ],
   "source": [
    "df.iloc[48][\"Month\"]"
   ]
  },
  {
   "cell_type": "code",
   "execution_count": 23,
   "id": "a2b6262c-822b-4124-80b7-6c20c55a1617",
   "metadata": {},
   "outputs": [],
   "source": [
    "import random\n",
    "random.seed()"
   ]
  },
  {
   "cell_type": "code",
   "execution_count": 24,
   "id": "8ed96b14-3cf2-46a0-897a-be0f55f6d37b",
   "metadata": {},
   "outputs": [],
   "source": [
    "random.seed(42)"
   ]
  },
  {
   "cell_type": "code",
   "execution_count": null,
   "id": "5cc82f11-12a1-4606-8bf4-fab180d43b6d",
   "metadata": {},
   "outputs": [],
   "source": []
  }
 ],
 "metadata": {
  "kernelspec": {
   "display_name": "Python 3 (ipykernel)",
   "language": "python",
   "name": "python3"
  },
  "language_info": {
   "codemirror_mode": {
    "name": "ipython",
    "version": 3
   },
   "file_extension": ".py",
   "mimetype": "text/x-python",
   "name": "python",
   "nbconvert_exporter": "python",
   "pygments_lexer": "ipython3",
   "version": "3.10.12"
  }
 },
 "nbformat": 4,
 "nbformat_minor": 5
}
