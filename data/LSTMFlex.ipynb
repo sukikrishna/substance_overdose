{
 "cells": [
  {
   "cell_type": "code",
   "execution_count": 1,
   "id": "a06e7174-7762-463d-a82b-0bf09fbe8299",
   "metadata": {},
   "outputs": [
    {
     "name": "stderr",
     "output_type": "stream",
     "text": [
      "2024-11-01 13:40:41.305878: I tensorflow/core/util/port.cc:153] oneDNN custom operations are on. You may see slightly different numerical results due to floating-point round-off errors from different computation orders. To turn them off, set the environment variable `TF_ENABLE_ONEDNN_OPTS=0`.\n",
      "2024-11-01 13:40:41.332940: E external/local_xla/xla/stream_executor/cuda/cuda_fft.cc:485] Unable to register cuFFT factory: Attempting to register factory for plugin cuFFT when one has already been registered\n",
      "2024-11-01 13:40:41.347010: E external/local_xla/xla/stream_executor/cuda/cuda_dnn.cc:8454] Unable to register cuDNN factory: Attempting to register factory for plugin cuDNN when one has already been registered\n",
      "2024-11-01 13:40:41.350681: E external/local_xla/xla/stream_executor/cuda/cuda_blas.cc:1452] Unable to register cuBLAS factory: Attempting to register factory for plugin cuBLAS when one has already been registered\n",
      "2024-11-01 13:40:41.362193: I tensorflow/core/platform/cpu_feature_guard.cc:210] This TensorFlow binary is optimized to use available CPU instructions in performance-critical operations.\n",
      "To enable the following instructions: AVX2 AVX_VNNI FMA, in other operations, rebuild TensorFlow with the appropriate compiler flags.\n",
      "2024-11-01 13:40:43.114234: W tensorflow/compiler/tf2tensorrt/utils/py_utils.cc:38] TF-TRT Warning: Could not find TensorRT\n"
     ]
    }
   ],
   "source": [
    "import pandas as pd\n",
    "import numpy as np\n",
    "import matplotlib.pyplot as plt\n",
    "from sklearn.preprocessing import MinMaxScaler\n",
    "from keras.models import Sequential\n",
    "from keras.layers import LSTM, Dense\n",
    "from statsmodels.tsa.statespace.sarimax import SARIMAX\n",
    "from sklearn.metrics import mean_squared_error"
   ]
  },
  {
   "cell_type": "code",
   "execution_count": 2,
   "id": "abf46aaf-de8a-4089-8fc5-efdcae818169",
   "metadata": {},
   "outputs": [
    {
     "name": "stderr",
     "output_type": "stream",
     "text": [
      "/tmp/ipykernel_82044/2218601930.py:4: UserWarning: Could not infer format, so each element will be parsed individually, falling back to `dateutil`. To ensure parsing is consistent and as-expected, please specify a format.\n",
      "  df['Month'] = pd.to_datetime(df['Month'])\n"
     ]
    }
   ],
   "source": [
    "# Load the data\n",
    "df = pd.read_excel('state_month_overdose.xlsx')\n",
    "df['Deaths'] = df['Deaths'].apply(lambda x: 0 if x == 'Suppressed' else int(x))\n",
    "df['Month'] = pd.to_datetime(df['Month'])\n",
    "df = df.groupby(['Month']).agg({'Deaths': 'sum'}).reset_index()"
   ]
  },
  {
   "cell_type": "code",
   "execution_count": 3,
   "id": "69ba90c2-c4e4-4e22-a2d4-f990eefd3d97",
   "metadata": {},
   "outputs": [],
   "source": [
    "train = df[df['Month'] <= '2020-02-01']\n",
    "test = df[df['Month'] >= '2020-02-01']"
   ]
  },
  {
   "cell_type": "code",
   "execution_count": 4,
   "id": "42e8b75d-c4a4-43c0-8304-0b2f62d441ea",
   "metadata": {},
   "outputs": [],
   "source": [
    "def create_dataset(dataset, look_back=1):\n",
    "    dataX, dataY = [], []\n",
    "    for i in range(len(dataset)-look_back):\n",
    "        a = dataset.iloc[i:(i+look_back)].values # Use .values to convert to numpy array\n",
    "        dataX.append(a)\n",
    "        dataY.append(dataset.iloc[i + look_back]) # Next value\n",
    "    return np.array(dataX), np.array(dataY)"
   ]
  },
  {
   "cell_type": "code",
   "execution_count": 5,
   "id": "b5fe130c-fccd-450d-a962-1ee84d9e39fb",
   "metadata": {},
   "outputs": [],
   "source": [
    "look_back = 6  # Choose the desired sequence length\n",
    "trainX, trainY = create_dataset(train['Deaths'], look_back)\n",
    "testX, testY = create_dataset(test['Deaths'], look_back)"
   ]
  },
  {
   "cell_type": "code",
   "execution_count": 6,
   "id": "d5435191-460b-4650-a1f7-898894b472e0",
   "metadata": {},
   "outputs": [
    {
     "data": {
      "text/plain": [
       "array([[4696, 5365, 6027],\n",
       "       [5365, 6027, 7419],\n",
       "       [6027, 7419, 6307],\n",
       "       [7419, 6307, 6343],\n",
       "       [6307, 6343, 6165],\n",
       "       [6343, 6165, 5683],\n",
       "       [6165, 5683, 5613],\n",
       "       [5683, 5613, 5613]])"
      ]
     },
     "execution_count": 6,
     "metadata": {},
     "output_type": "execute_result"
    }
   ],
   "source": [
    "testX"
   ]
  },
  {
   "cell_type": "code",
   "execution_count": 7,
   "id": "288a2ce6-2927-442b-bd9a-09db4a73b6c0",
   "metadata": {},
   "outputs": [],
   "source": [
    "trainX = trainX.reshape(trainX.shape[0], trainX.shape[1], 1)\n",
    "testX = testX.reshape(testX.shape[0], testX.shape[1], 1)"
   ]
  },
  {
   "cell_type": "code",
   "execution_count": 8,
   "id": "8668ec44-0eff-465a-b5b0-b535dd8e4d5d",
   "metadata": {},
   "outputs": [
    {
     "data": {
      "text/plain": [
       "array([[4696],\n",
       "       [5365],\n",
       "       [6027]])"
      ]
     },
     "execution_count": 8,
     "metadata": {},
     "output_type": "execute_result"
    }
   ],
   "source": [
    "testX[0]"
   ]
  },
  {
   "cell_type": "code",
   "execution_count": 9,
   "id": "ea51e694-09cf-4c5c-89a4-a9d6b8fd78ab",
   "metadata": {},
   "outputs": [
    {
     "name": "stderr",
     "output_type": "stream",
     "text": [
      "WARNING: All log messages before absl::InitializeLog() is called are written to STDERR\n",
      "I0000 00:00:1730482845.281936   82044 cuda_executor.cc:1001] could not open file to read NUMA node: /sys/bus/pci/devices/0000:01:00.0/numa_node\n",
      "Your kernel may have been built without NUMA support.\n",
      "2024-11-01 13:40:45.397182: W tensorflow/core/common_runtime/gpu/gpu_device.cc:2343] Cannot dlopen some GPU libraries. Please make sure the missing libraries mentioned above are installed properly if you would like to use GPU. Follow the guide at https://www.tensorflow.org/install/gpu for how to download and setup the required libraries for your platform.\n",
      "Skipping registering GPU devices...\n",
      "/home/sukikrishna/.local/lib/python3.10/site-packages/keras/src/layers/rnn/rnn.py:204: UserWarning: Do not pass an `input_shape`/`input_dim` argument to a layer. When using Sequential models, prefer using an `Input(shape)` object as the first layer in the model instead.\n",
      "  super().__init__(**kwargs)\n"
     ]
    },
    {
     "name": "stdout",
     "output_type": "stream",
     "text": [
      "Epoch 1/100\n",
      "\u001b[1m59/59\u001b[0m \u001b[32m━━━━━━━━━━━━━━━━━━━━\u001b[0m\u001b[37m\u001b[0m \u001b[1m1s\u001b[0m 3ms/step - loss: 18353034.0000\n",
      "Epoch 2/100\n",
      "\u001b[1m59/59\u001b[0m \u001b[32m━━━━━━━━━━━━━━━━━━━━\u001b[0m\u001b[37m\u001b[0m \u001b[1m0s\u001b[0m 2ms/step - loss: 11324388.0000\n",
      "Epoch 3/100\n",
      "\u001b[1m59/59\u001b[0m \u001b[32m━━━━━━━━━━━━━━━━━━━━\u001b[0m\u001b[37m\u001b[0m \u001b[1m0s\u001b[0m 1ms/step - loss: 5565400.0000\n",
      "Epoch 4/100\n",
      "\u001b[1m59/59\u001b[0m \u001b[32m━━━━━━━━━━━━━━━━━━━━\u001b[0m\u001b[37m\u001b[0m \u001b[1m0s\u001b[0m 1ms/step - loss: 161486.5781\n",
      "Epoch 5/100\n",
      "\u001b[1m59/59\u001b[0m \u001b[32m━━━━━━━━━━━━━━━━━━━━\u001b[0m\u001b[37m\u001b[0m \u001b[1m0s\u001b[0m 1ms/step - loss: 33370.3164\n",
      "Epoch 6/100\n",
      "\u001b[1m59/59\u001b[0m \u001b[32m━━━━━━━━━━━━━━━━━━━━\u001b[0m\u001b[37m\u001b[0m \u001b[1m0s\u001b[0m 1ms/step - loss: 26832.1934\n",
      "Epoch 7/100\n",
      "\u001b[1m59/59\u001b[0m \u001b[32m━━━━━━━━━━━━━━━━━━━━\u001b[0m\u001b[37m\u001b[0m \u001b[1m0s\u001b[0m 1ms/step - loss: 56662.4922 \n",
      "Epoch 8/100\n",
      "\u001b[1m59/59\u001b[0m \u001b[32m━━━━━━━━━━━━━━━━━━━━\u001b[0m\u001b[37m\u001b[0m \u001b[1m0s\u001b[0m 1ms/step - loss: 47280.6602\n",
      "Epoch 9/100\n",
      "\u001b[1m59/59\u001b[0m \u001b[32m━━━━━━━━━━━━━━━━━━━━\u001b[0m\u001b[37m\u001b[0m \u001b[1m0s\u001b[0m 1ms/step - loss: 36209.0625\n",
      "Epoch 10/100\n",
      "\u001b[1m59/59\u001b[0m \u001b[32m━━━━━━━━━━━━━━━━━━━━\u001b[0m\u001b[37m\u001b[0m \u001b[1m0s\u001b[0m 1ms/step - loss: 42531.7070\n",
      "Epoch 11/100\n",
      "\u001b[1m59/59\u001b[0m \u001b[32m━━━━━━━━━━━━━━━━━━━━\u001b[0m\u001b[37m\u001b[0m \u001b[1m0s\u001b[0m 1ms/step - loss: 35231.9805\n",
      "Epoch 12/100\n",
      "\u001b[1m59/59\u001b[0m \u001b[32m━━━━━━━━━━━━━━━━━━━━\u001b[0m\u001b[37m\u001b[0m \u001b[1m0s\u001b[0m 1ms/step - loss: 42590.4805\n",
      "Epoch 13/100\n",
      "\u001b[1m59/59\u001b[0m \u001b[32m━━━━━━━━━━━━━━━━━━━━\u001b[0m\u001b[37m\u001b[0m \u001b[1m0s\u001b[0m 1ms/step - loss: 51184.1055\n",
      "Epoch 14/100\n",
      "\u001b[1m59/59\u001b[0m \u001b[32m━━━━━━━━━━━━━━━━━━━━\u001b[0m\u001b[37m\u001b[0m \u001b[1m0s\u001b[0m 1ms/step - loss: 34482.2695\n",
      "Epoch 15/100\n",
      "\u001b[1m59/59\u001b[0m \u001b[32m━━━━━━━━━━━━━━━━━━━━\u001b[0m\u001b[37m\u001b[0m \u001b[1m0s\u001b[0m 1ms/step - loss: 55220.5898\n",
      "Epoch 16/100\n",
      "\u001b[1m59/59\u001b[0m \u001b[32m━━━━━━━━━━━━━━━━━━━━\u001b[0m\u001b[37m\u001b[0m \u001b[1m0s\u001b[0m 1ms/step - loss: 43562.2227 \n",
      "Epoch 17/100\n",
      "\u001b[1m59/59\u001b[0m \u001b[32m━━━━━━━━━━━━━━━━━━━━\u001b[0m\u001b[37m\u001b[0m \u001b[1m0s\u001b[0m 1ms/step - loss: 28988.0820\n",
      "Epoch 18/100\n",
      "\u001b[1m59/59\u001b[0m \u001b[32m━━━━━━━━━━━━━━━━━━━━\u001b[0m\u001b[37m\u001b[0m \u001b[1m0s\u001b[0m 1ms/step - loss: 53696.6523\n",
      "Epoch 19/100\n",
      "\u001b[1m59/59\u001b[0m \u001b[32m━━━━━━━━━━━━━━━━━━━━\u001b[0m\u001b[37m\u001b[0m \u001b[1m0s\u001b[0m 1ms/step - loss: 32245.4668 \n",
      "Epoch 20/100\n",
      "\u001b[1m59/59\u001b[0m \u001b[32m━━━━━━━━━━━━━━━━━━━━\u001b[0m\u001b[37m\u001b[0m \u001b[1m0s\u001b[0m 1ms/step - loss: 35448.9062\n",
      "Epoch 21/100\n",
      "\u001b[1m59/59\u001b[0m \u001b[32m━━━━━━━━━━━━━━━━━━━━\u001b[0m\u001b[37m\u001b[0m \u001b[1m0s\u001b[0m 1ms/step - loss: 58721.4180\n",
      "Epoch 22/100\n",
      "\u001b[1m59/59\u001b[0m \u001b[32m━━━━━━━━━━━━━━━━━━━━\u001b[0m\u001b[37m\u001b[0m \u001b[1m0s\u001b[0m 1ms/step - loss: 44082.9297\n",
      "Epoch 23/100\n",
      "\u001b[1m59/59\u001b[0m \u001b[32m━━━━━━━━━━━━━━━━━━━━\u001b[0m\u001b[37m\u001b[0m \u001b[1m0s\u001b[0m 994us/step - loss: 41307.1172\n",
      "Epoch 24/100\n",
      "\u001b[1m59/59\u001b[0m \u001b[32m━━━━━━━━━━━━━━━━━━━━\u001b[0m\u001b[37m\u001b[0m \u001b[1m0s\u001b[0m 1ms/step - loss: 58908.9688\n",
      "Epoch 25/100\n",
      "\u001b[1m59/59\u001b[0m \u001b[32m━━━━━━━━━━━━━━━━━━━━\u001b[0m\u001b[37m\u001b[0m \u001b[1m0s\u001b[0m 1ms/step - loss: 42981.9766\n",
      "Epoch 26/100\n",
      "\u001b[1m59/59\u001b[0m \u001b[32m━━━━━━━━━━━━━━━━━━━━\u001b[0m\u001b[37m\u001b[0m \u001b[1m0s\u001b[0m 1ms/step - loss: 37254.8438\n",
      "Epoch 27/100\n",
      "\u001b[1m59/59\u001b[0m \u001b[32m━━━━━━━━━━━━━━━━━━━━\u001b[0m\u001b[37m\u001b[0m \u001b[1m0s\u001b[0m 1ms/step - loss: 38039.0156\n",
      "Epoch 28/100\n",
      "\u001b[1m59/59\u001b[0m \u001b[32m━━━━━━━━━━━━━━━━━━━━\u001b[0m\u001b[37m\u001b[0m \u001b[1m0s\u001b[0m 1ms/step - loss: 46212.6328\n",
      "Epoch 29/100\n",
      "\u001b[1m59/59\u001b[0m \u001b[32m━━━━━━━━━━━━━━━━━━━━\u001b[0m\u001b[37m\u001b[0m \u001b[1m0s\u001b[0m 1ms/step - loss: 55554.1094\n",
      "Epoch 30/100\n",
      "\u001b[1m59/59\u001b[0m \u001b[32m━━━━━━━━━━━━━━━━━━━━\u001b[0m\u001b[37m\u001b[0m \u001b[1m0s\u001b[0m 1ms/step - loss: 37317.5547\n",
      "Epoch 31/100\n",
      "\u001b[1m59/59\u001b[0m \u001b[32m━━━━━━━━━━━━━━━━━━━━\u001b[0m\u001b[37m\u001b[0m \u001b[1m0s\u001b[0m 1ms/step - loss: 48138.2969\n",
      "Epoch 32/100\n",
      "\u001b[1m59/59\u001b[0m \u001b[32m━━━━━━━━━━━━━━━━━━━━\u001b[0m\u001b[37m\u001b[0m \u001b[1m0s\u001b[0m 1ms/step - loss: 53665.2148\n",
      "Epoch 33/100\n",
      "\u001b[1m59/59\u001b[0m \u001b[32m━━━━━━━━━━━━━━━━━━━━\u001b[0m\u001b[37m\u001b[0m \u001b[1m0s\u001b[0m 1ms/step - loss: 36559.2617\n",
      "Epoch 34/100\n",
      "\u001b[1m59/59\u001b[0m \u001b[32m━━━━━━━━━━━━━━━━━━━━\u001b[0m\u001b[37m\u001b[0m \u001b[1m0s\u001b[0m 1ms/step - loss: 40670.3359\n",
      "Epoch 35/100\n",
      "\u001b[1m59/59\u001b[0m \u001b[32m━━━━━━━━━━━━━━━━━━━━\u001b[0m\u001b[37m\u001b[0m \u001b[1m0s\u001b[0m 1ms/step - loss: 26732.2734\n",
      "Epoch 36/100\n",
      "\u001b[1m59/59\u001b[0m \u001b[32m━━━━━━━━━━━━━━━━━━━━\u001b[0m\u001b[37m\u001b[0m \u001b[1m0s\u001b[0m 1ms/step - loss: 37800.6211\n",
      "Epoch 37/100\n",
      "\u001b[1m59/59\u001b[0m \u001b[32m━━━━━━━━━━━━━━━━━━━━\u001b[0m\u001b[37m\u001b[0m \u001b[1m0s\u001b[0m 1ms/step - loss: 36912.7930\n",
      "Epoch 38/100\n",
      "\u001b[1m59/59\u001b[0m \u001b[32m━━━━━━━━━━━━━━━━━━━━\u001b[0m\u001b[37m\u001b[0m \u001b[1m0s\u001b[0m 1ms/step - loss: 39519.3945\n",
      "Epoch 39/100\n",
      "\u001b[1m59/59\u001b[0m \u001b[32m━━━━━━━━━━━━━━━━━━━━\u001b[0m\u001b[37m\u001b[0m \u001b[1m0s\u001b[0m 1ms/step - loss: 64817.7734\n",
      "Epoch 40/100\n",
      "\u001b[1m59/59\u001b[0m \u001b[32m━━━━━━━━━━━━━━━━━━━━\u001b[0m\u001b[37m\u001b[0m \u001b[1m0s\u001b[0m 1ms/step - loss: 47780.7461\n",
      "Epoch 41/100\n",
      "\u001b[1m59/59\u001b[0m \u001b[32m━━━━━━━━━━━━━━━━━━━━\u001b[0m\u001b[37m\u001b[0m \u001b[1m0s\u001b[0m 1ms/step - loss: 56094.3594\n",
      "Epoch 42/100\n",
      "\u001b[1m59/59\u001b[0m \u001b[32m━━━━━━━━━━━━━━━━━━━━\u001b[0m\u001b[37m\u001b[0m \u001b[1m0s\u001b[0m 1ms/step - loss: 53889.0664 \n",
      "Epoch 43/100\n",
      "\u001b[1m59/59\u001b[0m \u001b[32m━━━━━━━━━━━━━━━━━━━━\u001b[0m\u001b[37m\u001b[0m \u001b[1m0s\u001b[0m 990us/step - loss: 58774.1289\n",
      "Epoch 44/100\n",
      "\u001b[1m59/59\u001b[0m \u001b[32m━━━━━━━━━━━━━━━━━━━━\u001b[0m\u001b[37m\u001b[0m \u001b[1m0s\u001b[0m 1ms/step - loss: 34010.8750\n",
      "Epoch 45/100\n",
      "\u001b[1m59/59\u001b[0m \u001b[32m━━━━━━━━━━━━━━━━━━━━\u001b[0m\u001b[37m\u001b[0m \u001b[1m0s\u001b[0m 1ms/step - loss: 29790.6602\n",
      "Epoch 46/100\n",
      "\u001b[1m59/59\u001b[0m \u001b[32m━━━━━━━━━━━━━━━━━━━━\u001b[0m\u001b[37m\u001b[0m \u001b[1m0s\u001b[0m 1ms/step - loss: 41032.7227\n",
      "Epoch 47/100\n",
      "\u001b[1m59/59\u001b[0m \u001b[32m━━━━━━━━━━━━━━━━━━━━\u001b[0m\u001b[37m\u001b[0m \u001b[1m0s\u001b[0m 1ms/step - loss: 41576.5156\n",
      "Epoch 48/100\n",
      "\u001b[1m59/59\u001b[0m \u001b[32m━━━━━━━━━━━━━━━━━━━━\u001b[0m\u001b[37m\u001b[0m \u001b[1m0s\u001b[0m 1ms/step - loss: 62473.0547\n",
      "Epoch 49/100\n",
      "\u001b[1m59/59\u001b[0m \u001b[32m━━━━━━━━━━━━━━━━━━━━\u001b[0m\u001b[37m\u001b[0m \u001b[1m0s\u001b[0m 1ms/step - loss: 38032.9023\n",
      "Epoch 50/100\n",
      "\u001b[1m59/59\u001b[0m \u001b[32m━━━━━━━━━━━━━━━━━━━━\u001b[0m\u001b[37m\u001b[0m \u001b[1m0s\u001b[0m 991us/step - loss: 46318.6445\n",
      "Epoch 51/100\n",
      "\u001b[1m59/59\u001b[0m \u001b[32m━━━━━━━━━━━━━━━━━━━━\u001b[0m\u001b[37m\u001b[0m \u001b[1m0s\u001b[0m 1ms/step - loss: 46018.1328\n",
      "Epoch 52/100\n",
      "\u001b[1m59/59\u001b[0m \u001b[32m━━━━━━━━━━━━━━━━━━━━\u001b[0m\u001b[37m\u001b[0m \u001b[1m0s\u001b[0m 1ms/step - loss: 38406.6719\n",
      "Epoch 53/100\n",
      "\u001b[1m59/59\u001b[0m \u001b[32m━━━━━━━━━━━━━━━━━━━━\u001b[0m\u001b[37m\u001b[0m \u001b[1m0s\u001b[0m 1ms/step - loss: 37127.9219\n",
      "Epoch 54/100\n",
      "\u001b[1m59/59\u001b[0m \u001b[32m━━━━━━━━━━━━━━━━━━━━\u001b[0m\u001b[37m\u001b[0m \u001b[1m0s\u001b[0m 1ms/step - loss: 32211.8477\n",
      "Epoch 55/100\n",
      "\u001b[1m59/59\u001b[0m \u001b[32m━━━━━━━━━━━━━━━━━━━━\u001b[0m\u001b[37m\u001b[0m \u001b[1m0s\u001b[0m 1ms/step - loss: 37002.0742\n",
      "Epoch 56/100\n",
      "\u001b[1m59/59\u001b[0m \u001b[32m━━━━━━━━━━━━━━━━━━━━\u001b[0m\u001b[37m\u001b[0m \u001b[1m0s\u001b[0m 1ms/step - loss: 44093.2578\n",
      "Epoch 57/100\n",
      "\u001b[1m59/59\u001b[0m \u001b[32m━━━━━━━━━━━━━━━━━━━━\u001b[0m\u001b[37m\u001b[0m \u001b[1m0s\u001b[0m 2ms/step - loss: 37227.0742\n",
      "Epoch 58/100\n",
      "\u001b[1m59/59\u001b[0m \u001b[32m━━━━━━━━━━━━━━━━━━━━\u001b[0m\u001b[37m\u001b[0m \u001b[1m0s\u001b[0m 2ms/step - loss: 37146.3398\n",
      "Epoch 59/100\n",
      "\u001b[1m59/59\u001b[0m \u001b[32m━━━━━━━━━━━━━━━━━━━━\u001b[0m\u001b[37m\u001b[0m \u001b[1m0s\u001b[0m 2ms/step - loss: 48750.0039\n",
      "Epoch 60/100\n",
      "\u001b[1m59/59\u001b[0m \u001b[32m━━━━━━━━━━━━━━━━━━━━\u001b[0m\u001b[37m\u001b[0m \u001b[1m0s\u001b[0m 2ms/step - loss: 38147.1367\n",
      "Epoch 61/100\n",
      "\u001b[1m59/59\u001b[0m \u001b[32m━━━━━━━━━━━━━━━━━━━━\u001b[0m\u001b[37m\u001b[0m \u001b[1m0s\u001b[0m 2ms/step - loss: 76071.5547 \n",
      "Epoch 62/100\n",
      "\u001b[1m59/59\u001b[0m \u001b[32m━━━━━━━━━━━━━━━━━━━━\u001b[0m\u001b[37m\u001b[0m \u001b[1m0s\u001b[0m 1ms/step - loss: 35033.8242\n",
      "Epoch 63/100\n",
      "\u001b[1m59/59\u001b[0m \u001b[32m━━━━━━━━━━━━━━━━━━━━\u001b[0m\u001b[37m\u001b[0m \u001b[1m0s\u001b[0m 909us/step - loss: 60423.9336\n",
      "Epoch 64/100\n",
      "\u001b[1m59/59\u001b[0m \u001b[32m━━━━━━━━━━━━━━━━━━━━\u001b[0m\u001b[37m\u001b[0m \u001b[1m0s\u001b[0m 1ms/step - loss: 30035.4414\n",
      "Epoch 65/100\n",
      "\u001b[1m59/59\u001b[0m \u001b[32m━━━━━━━━━━━━━━━━━━━━\u001b[0m\u001b[37m\u001b[0m \u001b[1m0s\u001b[0m 1ms/step - loss: 54133.9531\n",
      "Epoch 66/100\n",
      "\u001b[1m59/59\u001b[0m \u001b[32m━━━━━━━━━━━━━━━━━━━━\u001b[0m\u001b[37m\u001b[0m \u001b[1m0s\u001b[0m 1ms/step - loss: 43675.6758\n",
      "Epoch 67/100\n",
      "\u001b[1m59/59\u001b[0m \u001b[32m━━━━━━━━━━━━━━━━━━━━\u001b[0m\u001b[37m\u001b[0m \u001b[1m0s\u001b[0m 960us/step - loss: 26525.0137\n",
      "Epoch 68/100\n",
      "\u001b[1m59/59\u001b[0m \u001b[32m━━━━━━━━━━━━━━━━━━━━\u001b[0m\u001b[37m\u001b[0m \u001b[1m0s\u001b[0m 1ms/step - loss: 27298.6074\n",
      "Epoch 69/100\n",
      "\u001b[1m59/59\u001b[0m \u001b[32m━━━━━━━━━━━━━━━━━━━━\u001b[0m\u001b[37m\u001b[0m \u001b[1m0s\u001b[0m 1ms/step - loss: 51085.3555\n",
      "Epoch 70/100\n",
      "\u001b[1m59/59\u001b[0m \u001b[32m━━━━━━━━━━━━━━━━━━━━\u001b[0m\u001b[37m\u001b[0m \u001b[1m0s\u001b[0m 1ms/step - loss: 33368.1992  \n",
      "Epoch 71/100\n",
      "\u001b[1m59/59\u001b[0m \u001b[32m━━━━━━━━━━━━━━━━━━━━\u001b[0m\u001b[37m\u001b[0m \u001b[1m0s\u001b[0m 1ms/step - loss: 48111.0859\n",
      "Epoch 72/100\n",
      "\u001b[1m59/59\u001b[0m \u001b[32m━━━━━━━━━━━━━━━━━━━━\u001b[0m\u001b[37m\u001b[0m \u001b[1m0s\u001b[0m 1ms/step - loss: 35587.2578\n",
      "Epoch 73/100\n",
      "\u001b[1m59/59\u001b[0m \u001b[32m━━━━━━━━━━━━━━━━━━━━\u001b[0m\u001b[37m\u001b[0m \u001b[1m0s\u001b[0m 1ms/step - loss: 58666.6484\n",
      "Epoch 74/100\n",
      "\u001b[1m59/59\u001b[0m \u001b[32m━━━━━━━━━━━━━━━━━━━━\u001b[0m\u001b[37m\u001b[0m \u001b[1m0s\u001b[0m 1ms/step - loss: 40683.2266\n",
      "Epoch 75/100\n",
      "\u001b[1m59/59\u001b[0m \u001b[32m━━━━━━━━━━━━━━━━━━━━\u001b[0m\u001b[37m\u001b[0m \u001b[1m0s\u001b[0m 1ms/step - loss: 43676.6367\n",
      "Epoch 76/100\n",
      "\u001b[1m59/59\u001b[0m \u001b[32m━━━━━━━━━━━━━━━━━━━━\u001b[0m\u001b[37m\u001b[0m \u001b[1m0s\u001b[0m 995us/step - loss: 57747.9180\n",
      "Epoch 77/100\n",
      "\u001b[1m59/59\u001b[0m \u001b[32m━━━━━━━━━━━━━━━━━━━━\u001b[0m\u001b[37m\u001b[0m \u001b[1m0s\u001b[0m 1ms/step - loss: 50231.6719 \n",
      "Epoch 78/100\n",
      "\u001b[1m59/59\u001b[0m \u001b[32m━━━━━━━━━━━━━━━━━━━━\u001b[0m\u001b[37m\u001b[0m \u001b[1m0s\u001b[0m 972us/step - loss: 46583.4727\n",
      "Epoch 79/100\n",
      "\u001b[1m59/59\u001b[0m \u001b[32m━━━━━━━━━━━━━━━━━━━━\u001b[0m\u001b[37m\u001b[0m \u001b[1m0s\u001b[0m 1ms/step - loss: 35711.7383 \n",
      "Epoch 80/100\n",
      "\u001b[1m59/59\u001b[0m \u001b[32m━━━━━━━━━━━━━━━━━━━━\u001b[0m\u001b[37m\u001b[0m \u001b[1m0s\u001b[0m 1ms/step - loss: 38850.3906 \n",
      "Epoch 81/100\n",
      "\u001b[1m59/59\u001b[0m \u001b[32m━━━━━━━━━━━━━━━━━━━━\u001b[0m\u001b[37m\u001b[0m \u001b[1m0s\u001b[0m 1ms/step - loss: 37766.7148\n",
      "Epoch 82/100\n",
      "\u001b[1m59/59\u001b[0m \u001b[32m━━━━━━━━━━━━━━━━━━━━\u001b[0m\u001b[37m\u001b[0m \u001b[1m0s\u001b[0m 1ms/step - loss: 47962.3086\n",
      "Epoch 83/100\n",
      "\u001b[1m59/59\u001b[0m \u001b[32m━━━━━━━━━━━━━━━━━━━━\u001b[0m\u001b[37m\u001b[0m \u001b[1m0s\u001b[0m 1ms/step - loss: 47905.6250\n",
      "Epoch 84/100\n",
      "\u001b[1m59/59\u001b[0m \u001b[32m━━━━━━━━━━━━━━━━━━━━\u001b[0m\u001b[37m\u001b[0m \u001b[1m0s\u001b[0m 974us/step - loss: 45928.4141\n",
      "Epoch 85/100\n",
      "\u001b[1m59/59\u001b[0m \u001b[32m━━━━━━━━━━━━━━━━━━━━\u001b[0m\u001b[37m\u001b[0m \u001b[1m0s\u001b[0m 1ms/step - loss: 45898.5195\n",
      "Epoch 86/100\n",
      "\u001b[1m59/59\u001b[0m \u001b[32m━━━━━━━━━━━━━━━━━━━━\u001b[0m\u001b[37m\u001b[0m \u001b[1m0s\u001b[0m 1ms/step - loss: 58443.5469\n",
      "Epoch 87/100\n",
      "\u001b[1m59/59\u001b[0m \u001b[32m━━━━━━━━━━━━━━━━━━━━\u001b[0m\u001b[37m\u001b[0m \u001b[1m0s\u001b[0m 1ms/step - loss: 36832.7461\n",
      "Epoch 88/100\n",
      "\u001b[1m59/59\u001b[0m \u001b[32m━━━━━━━━━━━━━━━━━━━━\u001b[0m\u001b[37m\u001b[0m \u001b[1m0s\u001b[0m 940us/step - loss: 46014.5039\n",
      "Epoch 89/100\n",
      "\u001b[1m59/59\u001b[0m \u001b[32m━━━━━━━━━━━━━━━━━━━━\u001b[0m\u001b[37m\u001b[0m \u001b[1m0s\u001b[0m 950us/step - loss: 37273.8203\n",
      "Epoch 90/100\n",
      "\u001b[1m59/59\u001b[0m \u001b[32m━━━━━━━━━━━━━━━━━━━━\u001b[0m\u001b[37m\u001b[0m \u001b[1m0s\u001b[0m 919us/step - loss: 25570.5176\n",
      "Epoch 91/100\n",
      "\u001b[1m59/59\u001b[0m \u001b[32m━━━━━━━━━━━━━━━━━━━━\u001b[0m\u001b[37m\u001b[0m \u001b[1m0s\u001b[0m 1ms/step - loss: 52352.0312\n",
      "Epoch 92/100\n",
      "\u001b[1m59/59\u001b[0m \u001b[32m━━━━━━━━━━━━━━━━━━━━\u001b[0m\u001b[37m\u001b[0m \u001b[1m0s\u001b[0m 2ms/step - loss: 54633.7461\n",
      "Epoch 93/100\n",
      "\u001b[1m59/59\u001b[0m \u001b[32m━━━━━━━━━━━━━━━━━━━━\u001b[0m\u001b[37m\u001b[0m \u001b[1m0s\u001b[0m 1ms/step - loss: 56411.3594\n",
      "Epoch 94/100\n",
      "\u001b[1m59/59\u001b[0m \u001b[32m━━━━━━━━━━━━━━━━━━━━\u001b[0m\u001b[37m\u001b[0m \u001b[1m0s\u001b[0m 1ms/step - loss: 42895.5078\n",
      "Epoch 95/100\n",
      "\u001b[1m59/59\u001b[0m \u001b[32m━━━━━━━━━━━━━━━━━━━━\u001b[0m\u001b[37m\u001b[0m \u001b[1m0s\u001b[0m 2ms/step - loss: 44241.2109\n",
      "Epoch 96/100\n",
      "\u001b[1m59/59\u001b[0m \u001b[32m━━━━━━━━━━━━━━━━━━━━\u001b[0m\u001b[37m\u001b[0m \u001b[1m0s\u001b[0m 1ms/step - loss: 32858.6016\n",
      "Epoch 97/100\n",
      "\u001b[1m59/59\u001b[0m \u001b[32m━━━━━━━━━━━━━━━━━━━━\u001b[0m\u001b[37m\u001b[0m \u001b[1m0s\u001b[0m 1ms/step - loss: 37579.5352\n",
      "Epoch 98/100\n",
      "\u001b[1m59/59\u001b[0m \u001b[32m━━━━━━━━━━━━━━━━━━━━\u001b[0m\u001b[37m\u001b[0m \u001b[1m0s\u001b[0m 1ms/step - loss: 29706.0098\n",
      "Epoch 99/100\n",
      "\u001b[1m59/59\u001b[0m \u001b[32m━━━━━━━━━━━━━━━━━━━━\u001b[0m\u001b[37m\u001b[0m \u001b[1m0s\u001b[0m 1ms/step - loss: 47555.2422\n",
      "Epoch 100/100\n",
      "\u001b[1m59/59\u001b[0m \u001b[32m━━━━━━━━━━━━━━━━━━━━\u001b[0m\u001b[37m\u001b[0m \u001b[1m0s\u001b[0m 2ms/step - loss: 39103.1445\n"
     ]
    },
    {
     "data": {
      "text/plain": [
       "<keras.src.callbacks.history.History at 0x7f065147d690>"
      ]
     },
     "execution_count": 9,
     "metadata": {},
     "output_type": "execute_result"
    }
   ],
   "source": [
    "model = Sequential()\n",
    "model.add(LSTM(50, activation='relu', input_shape=(look_back, 1)))\n",
    "model.add(Dense(1))\n",
    "model.compile(loss='mean_squared_error', optimizer='adam')\n",
    "model.fit(trainX, trainY, epochs=100, batch_size=1, verbose=1)"
   ]
  },
  {
   "cell_type": "code",
   "execution_count": 10,
   "id": "8e9005bc-13c4-447e-ac66-9ea6cce7f961",
   "metadata": {},
   "outputs": [
    {
     "data": {
      "text/plain": [
       "(59, 3, 1)"
      ]
     },
     "execution_count": 10,
     "metadata": {},
     "output_type": "execute_result"
    }
   ],
   "source": [
    "trainX.shape"
   ]
  },
  {
   "cell_type": "code",
   "execution_count": 11,
   "id": "c23b6dfc-bb99-4dc5-bbe9-f90c64db3c62",
   "metadata": {},
   "outputs": [
    {
     "data": {
      "text/plain": [
       "(3, 1)"
      ]
     },
     "execution_count": 11,
     "metadata": {},
     "output_type": "execute_result"
    }
   ],
   "source": [
    "trainX[0].shape"
   ]
  },
  {
   "cell_type": "code",
   "execution_count": 12,
   "id": "ae8d99c9-c589-46c8-8aa9-0ef87dc16dc3",
   "metadata": {},
   "outputs": [
    {
     "data": {
      "text/plain": [
       "(3, 1)"
      ]
     },
     "execution_count": 12,
     "metadata": {},
     "output_type": "execute_result"
    }
   ],
   "source": [
    "tst = np.array(train['Deaths'][-look_back:]).reshape((3,1))\n",
    "tst.shape"
   ]
  },
  {
   "cell_type": "code",
   "execution_count": 13,
   "id": "62b0cefd-5487-4dc8-bef2-f88c0dfdbef1",
   "metadata": {},
   "outputs": [
    {
     "data": {
      "text/plain": [
       "(1, 3, 1)"
      ]
     },
     "execution_count": 13,
     "metadata": {},
     "output_type": "execute_result"
    }
   ],
   "source": [
    "tst = np.array([tst])\n",
    "tst.shape"
   ]
  },
  {
   "cell_type": "code",
   "execution_count": 14,
   "id": "ec39232b-59f4-4faf-b881-80801fd929f8",
   "metadata": {},
   "outputs": [
    {
     "name": "stdout",
     "output_type": "stream",
     "text": [
      "\u001b[1m1/1\u001b[0m \u001b[32m━━━━━━━━━━━━━━━━━━━━\u001b[0m\u001b[37m\u001b[0m \u001b[1m0s\u001b[0m 106ms/step\n"
     ]
    },
    {
     "data": {
      "text/plain": [
       "4749.7964"
      ]
     },
     "execution_count": 14,
     "metadata": {},
     "output_type": "execute_result"
    }
   ],
   "source": [
    "model.predict(tst)[0][0]"
   ]
  },
  {
   "cell_type": "code",
   "execution_count": 55,
   "id": "1c7fb0b1-0338-479c-81d6-120ba8880be5",
   "metadata": {},
   "outputs": [
    {
     "name": "stdout",
     "output_type": "stream",
     "text": [
      "\u001b[1m2/2\u001b[0m \u001b[32m━━━━━━━━━━━━━━━━━━━━\u001b[0m\u001b[37m\u001b[0m \u001b[1m0s\u001b[0m 7ms/step \n"
     ]
    }
   ],
   "source": [
    "trainPredict = model.predict(trainX)"
   ]
  },
  {
   "cell_type": "code",
   "execution_count": 56,
   "id": "1ad5ff16-564d-4522-86a6-fe761feac42c",
   "metadata": {},
   "outputs": [
    {
     "data": {
      "text/plain": [
       "59"
      ]
     },
     "execution_count": 56,
     "metadata": {},
     "output_type": "execute_result"
    }
   ],
   "source": [
    "len(trainX)"
   ]
  },
  {
   "cell_type": "code",
   "execution_count": 57,
   "id": "50a0a927-55fc-459c-ab0f-6cf0b8267edf",
   "metadata": {},
   "outputs": [
    {
     "data": {
      "text/plain": [
       "59"
      ]
     },
     "execution_count": 57,
     "metadata": {},
     "output_type": "execute_result"
    }
   ],
   "source": [
    "len(trainPredict)"
   ]
  },
  {
   "cell_type": "code",
   "execution_count": 46,
   "id": "e1611236-852c-4173-b3dc-7e2674b556d7",
   "metadata": {},
   "outputs": [],
   "source": [
    "def generate_forecast(model, initial_sequence, num_predictions=12, look_back):\n",
    "    predictions = []\n",
    "    for_model = initial_sequence\n",
    "    \n",
    "    for _ in range(num_predictions):\n",
    "        # Generate the next prediction\n",
    "        pred = model.predict(for_model)\n",
    "        predictions.append(pred[0][0])\n",
    "        \n",
    "        # Update the input for the next prediction\n",
    "        # We need to construct a new input array of the same shape as the original input\n",
    "        new_input = np.append(for_model[:, 1:], pred[0][0])  # Shift and append the new prediction\n",
    "        for_model = new_input.reshape((1, look_back, 1))\n",
    "\n",
    "    return np.array(predictions)"
   ]
  },
  {
   "cell_type": "code",
   "execution_count": 62,
   "id": "4dc63604-056b-48d8-b0aa-5dea726a8006",
   "metadata": {},
   "outputs": [],
   "source": [
    "# Prepare initial sequence for prediction\n",
    "initial_sequence = np.array(train['Deaths'][-look_back:]).reshape((look_back, 1))\n",
    "initial_sequence = np.array([initial_sequence])\n",
    "# num_test_predictions = len(testX)  # Number of predictions you want to generate"
   ]
  },
  {
   "cell_type": "code",
   "execution_count": 63,
   "id": "acd90223-b10f-449f-8e23-2348f087e1b3",
   "metadata": {},
   "outputs": [
    {
     "data": {
      "text/plain": [
       "array([[[4645],\n",
       "        [4727],\n",
       "        [4696]]])"
      ]
     },
     "execution_count": 63,
     "metadata": {},
     "output_type": "execute_result"
    }
   ],
   "source": [
    "initial_sequence"
   ]
  },
  {
   "cell_type": "code",
   "execution_count": 64,
   "id": "96e678c1-772e-4d95-9e5d-b2a656a59e41",
   "metadata": {},
   "outputs": [
    {
     "data": {
      "text/plain": [
       "(1, 3, 1)"
      ]
     },
     "execution_count": 64,
     "metadata": {},
     "output_type": "execute_result"
    }
   ],
   "source": [
    "initial_sequence.shape"
   ]
  },
  {
   "cell_type": "code",
   "execution_count": 65,
   "id": "c9586ccf-6d0e-4f92-a52e-a08238b5d0bc",
   "metadata": {},
   "outputs": [],
   "source": [
    "# df['Deaths'][61-3+1:61+3]"
   ]
  },
  {
   "cell_type": "code",
   "execution_count": 66,
   "id": "03e7e001-b512-42d4-98a4-f4b933d1aead",
   "metadata": {},
   "outputs": [],
   "source": [
    "# predictions = []\n",
    "# for_model = initial_sequence\n",
    "# pred = model.predict(for_model)\n",
    "# predictions.append(pred[0][0])\n",
    "\n",
    "# np.append(for_model[:, 1:], pred[0][0]).reshape((1,3,1))"
   ]
  },
  {
   "cell_type": "code",
   "execution_count": 68,
   "id": "1bab213b-49cc-41cb-be77-5a339a018817",
   "metadata": {},
   "outputs": [
    {
     "name": "stdout",
     "output_type": "stream",
     "text": [
      "\u001b[1m1/1\u001b[0m \u001b[32m━━━━━━━━━━━━━━━━━━━━\u001b[0m\u001b[37m\u001b[0m \u001b[1m0s\u001b[0m 21ms/step\n",
      "\u001b[1m1/1\u001b[0m \u001b[32m━━━━━━━━━━━━━━━━━━━━\u001b[0m\u001b[37m\u001b[0m \u001b[1m0s\u001b[0m 17ms/step\n",
      "\u001b[1m1/1\u001b[0m \u001b[32m━━━━━━━━━━━━━━━━━━━━\u001b[0m\u001b[37m\u001b[0m \u001b[1m0s\u001b[0m 17ms/step\n",
      "\u001b[1m1/1\u001b[0m \u001b[32m━━━━━━━━━━━━━━━━━━━━\u001b[0m\u001b[37m\u001b[0m \u001b[1m0s\u001b[0m 18ms/step\n",
      "\u001b[1m1/1\u001b[0m \u001b[32m━━━━━━━━━━━━━━━━━━━━\u001b[0m\u001b[37m\u001b[0m \u001b[1m0s\u001b[0m 16ms/step\n",
      "\u001b[1m1/1\u001b[0m \u001b[32m━━━━━━━━━━━━━━━━━━━━\u001b[0m\u001b[37m\u001b[0m \u001b[1m0s\u001b[0m 24ms/step\n",
      "\u001b[1m1/1\u001b[0m \u001b[32m━━━━━━━━━━━━━━━━━━━━\u001b[0m\u001b[37m\u001b[0m \u001b[1m0s\u001b[0m 15ms/step\n",
      "\u001b[1m1/1\u001b[0m \u001b[32m━━━━━━━━━━━━━━━━━━━━\u001b[0m\u001b[37m\u001b[0m \u001b[1m0s\u001b[0m 18ms/step\n",
      "\u001b[1m1/1\u001b[0m \u001b[32m━━━━━━━━━━━━━━━━━━━━\u001b[0m\u001b[37m\u001b[0m \u001b[1m0s\u001b[0m 15ms/step\n",
      "\u001b[1m1/1\u001b[0m \u001b[32m━━━━━━━━━━━━━━━━━━━━\u001b[0m\u001b[37m\u001b[0m \u001b[1m0s\u001b[0m 15ms/step\n",
      "\u001b[1m1/1\u001b[0m \u001b[32m━━━━━━━━━━━━━━━━━━━━\u001b[0m\u001b[37m\u001b[0m \u001b[1m0s\u001b[0m 17ms/step\n",
      "\u001b[1m1/1\u001b[0m \u001b[32m━━━━━━━━━━━━━━━━━━━━\u001b[0m\u001b[37m\u001b[0m \u001b[1m0s\u001b[0m 15ms/step\n"
     ]
    }
   ],
   "source": [
    "testPredict = generate_forecast(model, initial_sequence, look_back)"
   ]
  },
  {
   "cell_type": "code",
   "execution_count": 69,
   "id": "9969d805-b690-4ce2-a046-ff347ebc33f5",
   "metadata": {},
   "outputs": [
    {
     "data": {
      "text/plain": [
       "array([[2786.8418],\n",
       "       [2825.1868],\n",
       "       [2894.6765],\n",
       "       [2817.2715],\n",
       "       [2768.863 ],\n",
       "       [2755.7808],\n",
       "       [2851.636 ],\n",
       "       [2935.4612],\n",
       "       [2928.8113],\n",
       "       [2846.9158],\n",
       "       [2864.5925],\n",
       "       [3095.4946],\n",
       "       [3434.929 ],\n",
       "       [3632.9026],\n",
       "       [3655.4631],\n",
       "       [3539.2266],\n",
       "       [3536.1367],\n",
       "       [3605.4253],\n",
       "       [3655.5837],\n",
       "       [3647.4019],\n",
       "       [3695.1238],\n",
       "       [3857.6316],\n",
       "       [4072.3977],\n",
       "       [4198.4717],\n",
       "       [4235.358 ],\n",
       "       [4167.631 ],\n",
       "       [4193.9927],\n",
       "       [4106.7686],\n",
       "       [4069.0535],\n",
       "       [4025.4387],\n",
       "       [4049.642 ],\n",
       "       [4012.81  ],\n",
       "       [3941.786 ],\n",
       "       [3926.5706],\n",
       "       [3997.9863],\n",
       "       [3968.6956],\n",
       "       [3965.5942],\n",
       "       [3978.1387],\n",
       "       [4094.1113],\n",
       "       [4072.447 ],\n",
       "       [4125.681 ],\n",
       "       [4122.3237],\n",
       "       [4070.9946],\n",
       "       [4024.1965],\n",
       "       [3924.9119],\n",
       "       [3921.5144],\n",
       "       [3916.9155],\n",
       "       [3939.673 ],\n",
       "       [3997.3445],\n",
       "       [4051.9927],\n",
       "       [4148.9526],\n",
       "       [4098.353 ],\n",
       "       [4210.3794],\n",
       "       [4307.9756],\n",
       "       [4367.5806],\n",
       "       [4422.363 ],\n",
       "       [4500.0054],\n",
       "       [4630.1006],\n",
       "       [4696.91  ]], dtype=float32)"
      ]
     },
     "execution_count": 69,
     "metadata": {},
     "output_type": "execute_result"
    }
   ],
   "source": [
    "trainPredict"
   ]
  },
  {
   "cell_type": "code",
   "execution_count": 70,
   "id": "41db4200-8886-4840-a5d7-4180fbf8868e",
   "metadata": {},
   "outputs": [
    {
     "data": {
      "text/plain": [
       "array([4749.7964, 4780.294 , 4799.4297, 4835.1094, 4862.91  , 4891.217 ,\n",
       "       4922.182 , 4951.395 , 4981.3506, 5011.722 , 5041.9053, 5072.4546],\n",
       "      dtype=float32)"
      ]
     },
     "execution_count": 70,
     "metadata": {},
     "output_type": "execute_result"
    }
   ],
   "source": [
    "testPredict"
   ]
  },
  {
   "cell_type": "code",
   "execution_count": 74,
   "id": "1ffc8c54-afd3-4ca1-b76f-e4cfa61c1b23",
   "metadata": {},
   "outputs": [],
   "source": [
    "combined_array = [0] * look_back + trainPredict.flatten().tolist() + testPredict.flatten().tolist()"
   ]
  },
  {
   "cell_type": "code",
   "execution_count": 75,
   "id": "6f97892e-5919-42db-9774-be25af9ebe87",
   "metadata": {},
   "outputs": [
    {
     "data": {
      "text/plain": [
       "74"
      ]
     },
     "execution_count": 75,
     "metadata": {},
     "output_type": "execute_result"
    }
   ],
   "source": [
    "len(combined_array) #some extra test predictions included"
   ]
  },
  {
   "cell_type": "code",
   "execution_count": 76,
   "id": "6d511969-d825-492d-acbe-ac270cec83a9",
   "metadata": {
    "scrolled": true
   },
   "outputs": [
    {
     "data": {
      "text/plain": [
       "[0,\n",
       " 0,\n",
       " 0,\n",
       " 2786.841796875,\n",
       " 2825.186767578125,\n",
       " 2894.676513671875,\n",
       " 2817.271484375,\n",
       " 2768.863037109375,\n",
       " 2755.78076171875,\n",
       " 2851.635986328125,\n",
       " 2935.461181640625,\n",
       " 2928.811279296875,\n",
       " 2846.915771484375,\n",
       " 2864.592529296875,\n",
       " 3095.49462890625,\n",
       " 3434.928955078125,\n",
       " 3632.902587890625,\n",
       " 3655.463134765625,\n",
       " 3539.2265625,\n",
       " 3536.13671875,\n",
       " 3605.42529296875,\n",
       " 3655.583740234375,\n",
       " 3647.40185546875,\n",
       " 3695.123779296875,\n",
       " 3857.631591796875,\n",
       " 4072.397705078125,\n",
       " 4198.4716796875,\n",
       " 4235.35791015625,\n",
       " 4167.630859375,\n",
       " 4193.99267578125,\n",
       " 4106.7685546875,\n",
       " 4069.053466796875,\n",
       " 4025.438720703125,\n",
       " 4049.64208984375,\n",
       " 4012.81005859375,\n",
       " 3941.785888671875,\n",
       " 3926.570556640625,\n",
       " 3997.986328125,\n",
       " 3968.695556640625,\n",
       " 3965.59423828125,\n",
       " 3978.138671875,\n",
       " 4094.111328125,\n",
       " 4072.447021484375,\n",
       " 4125.68115234375,\n",
       " 4122.32373046875,\n",
       " 4070.99462890625,\n",
       " 4024.196533203125,\n",
       " 3924.911865234375,\n",
       " 3921.514404296875,\n",
       " 3916.91552734375,\n",
       " 3939.673095703125,\n",
       " 3997.344482421875,\n",
       " 4051.99267578125,\n",
       " 4148.95263671875,\n",
       " 4098.35302734375,\n",
       " 4210.37939453125,\n",
       " 4307.9755859375,\n",
       " 4367.58056640625,\n",
       " 4422.36279296875,\n",
       " 4500.00537109375,\n",
       " 4630.1005859375,\n",
       " 4696.91015625,\n",
       " 4749.79638671875,\n",
       " 4780.2939453125,\n",
       " 4799.4296875,\n",
       " 4835.109375,\n",
       " 4862.91015625,\n",
       " 4891.216796875,\n",
       " 4922.18212890625,\n",
       " 4951.39501953125,\n",
       " 4981.3505859375,\n",
       " 5011.72216796875,\n",
       " 5041.9052734375,\n",
       " 5072.45458984375]"
      ]
     },
     "execution_count": 76,
     "metadata": {},
     "output_type": "execute_result"
    }
   ],
   "source": [
    "combined_array"
   ]
  },
  {
   "cell_type": "code",
   "execution_count": 78,
   "id": "364400cf-63d1-427b-b265-28ee2c6c6218",
   "metadata": {},
   "outputs": [],
   "source": [
    "df['LSTM Predictions'] = combined_array[:len(df)]"
   ]
  },
  {
   "cell_type": "code",
   "execution_count": 79,
   "id": "934c1399-db6d-4a7d-9b0a-c7f679b4ea13",
   "metadata": {},
   "outputs": [
    {
     "data": {
      "text/html": [
       "<div>\n",
       "<style scoped>\n",
       "    .dataframe tbody tr th:only-of-type {\n",
       "        vertical-align: middle;\n",
       "    }\n",
       "\n",
       "    .dataframe tbody tr th {\n",
       "        vertical-align: top;\n",
       "    }\n",
       "\n",
       "    .dataframe thead th {\n",
       "        text-align: right;\n",
       "    }\n",
       "</style>\n",
       "<table border=\"1\" class=\"dataframe\">\n",
       "  <thead>\n",
       "    <tr style=\"text-align: right;\">\n",
       "      <th></th>\n",
       "      <th>Month</th>\n",
       "      <th>Deaths</th>\n",
       "      <th>LSTM Predictions</th>\n",
       "    </tr>\n",
       "  </thead>\n",
       "  <tbody>\n",
       "    <tr>\n",
       "      <th>0</th>\n",
       "      <td>2015-01-01</td>\n",
       "      <td>2771</td>\n",
       "      <td>0.000000</td>\n",
       "    </tr>\n",
       "    <tr>\n",
       "      <th>1</th>\n",
       "      <td>2015-02-01</td>\n",
       "      <td>2627</td>\n",
       "      <td>0.000000</td>\n",
       "    </tr>\n",
       "    <tr>\n",
       "      <th>2</th>\n",
       "      <td>2015-03-01</td>\n",
       "      <td>2907</td>\n",
       "      <td>0.000000</td>\n",
       "    </tr>\n",
       "    <tr>\n",
       "      <th>3</th>\n",
       "      <td>2015-04-01</td>\n",
       "      <td>2822</td>\n",
       "      <td>2786.841797</td>\n",
       "    </tr>\n",
       "    <tr>\n",
       "      <th>4</th>\n",
       "      <td>2015-05-01</td>\n",
       "      <td>2850</td>\n",
       "      <td>2825.186768</td>\n",
       "    </tr>\n",
       "    <tr>\n",
       "      <th>...</th>\n",
       "      <td>...</td>\n",
       "      <td>...</td>\n",
       "      <td>...</td>\n",
       "    </tr>\n",
       "    <tr>\n",
       "      <th>67</th>\n",
       "      <td>2020-08-01</td>\n",
       "      <td>6165</td>\n",
       "      <td>4891.216797</td>\n",
       "    </tr>\n",
       "    <tr>\n",
       "      <th>68</th>\n",
       "      <td>2020-09-01</td>\n",
       "      <td>5683</td>\n",
       "      <td>4922.182129</td>\n",
       "    </tr>\n",
       "    <tr>\n",
       "      <th>69</th>\n",
       "      <td>2020-10-01</td>\n",
       "      <td>5613</td>\n",
       "      <td>4951.395020</td>\n",
       "    </tr>\n",
       "    <tr>\n",
       "      <th>70</th>\n",
       "      <td>2020-11-01</td>\n",
       "      <td>5613</td>\n",
       "      <td>4981.350586</td>\n",
       "    </tr>\n",
       "    <tr>\n",
       "      <th>71</th>\n",
       "      <td>2020-12-01</td>\n",
       "      <td>5792</td>\n",
       "      <td>5011.722168</td>\n",
       "    </tr>\n",
       "  </tbody>\n",
       "</table>\n",
       "<p>72 rows × 3 columns</p>\n",
       "</div>"
      ],
      "text/plain": [
       "        Month  Deaths  LSTM Predictions\n",
       "0  2015-01-01    2771          0.000000\n",
       "1  2015-02-01    2627          0.000000\n",
       "2  2015-03-01    2907          0.000000\n",
       "3  2015-04-01    2822       2786.841797\n",
       "4  2015-05-01    2850       2825.186768\n",
       "..        ...     ...               ...\n",
       "67 2020-08-01    6165       4891.216797\n",
       "68 2020-09-01    5683       4922.182129\n",
       "69 2020-10-01    5613       4951.395020\n",
       "70 2020-11-01    5613       4981.350586\n",
       "71 2020-12-01    5792       5011.722168\n",
       "\n",
       "[72 rows x 3 columns]"
      ]
     },
     "execution_count": 79,
     "metadata": {},
     "output_type": "execute_result"
    }
   ],
   "source": [
    "df"
   ]
  },
  {
   "cell_type": "code",
   "execution_count": 80,
   "id": "b0e7d068-febc-4749-80a7-9f2e262a8aa8",
   "metadata": {},
   "outputs": [],
   "source": [
    "sarima_model = SARIMAX(train['Deaths'], order=(1, 1, 1), seasonal_order=(1, 1, 1, 12),\n",
    "                enforce_stationarity=False,\n",
    "                enforce_invertibility=False)\n",
    "sarima_result = sarima_model.fit(disp=False)\n",
    "sarima_predictions = sarima_result.predict(start=0, end=len(train) + len(test) - 1, dynamic=False)"
   ]
  },
  {
   "cell_type": "code",
   "execution_count": 81,
   "id": "a0fcf233-966d-44e8-a31a-c6a76265b1be",
   "metadata": {},
   "outputs": [
    {
     "data": {
      "text/plain": [
       "73"
      ]
     },
     "execution_count": 81,
     "metadata": {},
     "output_type": "execute_result"
    }
   ],
   "source": [
    "len(sarima_predictions)"
   ]
  },
  {
   "cell_type": "code",
   "execution_count": 82,
   "id": "1a2d24f1-1769-45b4-b0aa-185137655bee",
   "metadata": {},
   "outputs": [
    {
     "data": {
      "text/plain": [
       "0        0.000000\n",
       "1     2540.838172\n",
       "2     2673.336257\n",
       "3     2865.711655\n",
       "4     2837.851862\n",
       "         ...     \n",
       "68    4958.628025\n",
       "69    5086.221253\n",
       "70    5029.753481\n",
       "71    5205.366131\n",
       "72    5287.342828\n",
       "Name: predicted_mean, Length: 73, dtype: float64"
      ]
     },
     "execution_count": 82,
     "metadata": {},
     "output_type": "execute_result"
    }
   ],
   "source": [
    "sarima_predictions"
   ]
  },
  {
   "cell_type": "code",
   "execution_count": 84,
   "id": "d55750eb-0dd8-4b61-8ea0-b3e0e4a38b43",
   "metadata": {},
   "outputs": [
    {
     "data": {
      "text/plain": [
       "array([   0.        , 2540.83817244, 2673.33625711, 2865.71165487,\n",
       "       2837.85186225, 2844.50380374, 2662.1619646 , 2717.83915467,\n",
       "       2802.29699832, 2911.30211868, 2965.94235397, 2768.89576095,\n",
       "       4710.85961386, 3158.69936438, 3599.57703756, 3632.38566025,\n",
       "       3644.10314147, 3274.64698095, 3463.74348495, 3713.97337488,\n",
       "       3771.49641409, 3611.68684772, 3418.42992653, 3683.68889557,\n",
       "       4244.81762097, 4712.48764312, 4429.72161517, 4150.05326223,\n",
       "       3978.6181729 , 3967.91970256, 4210.38112275, 4008.77923495,\n",
       "       3935.39823395, 4155.91779016, 3888.86331568, 4057.54541701,\n",
       "       4273.15847868, 3988.4766205 , 3995.4469797 , 3951.26356314,\n",
       "       3942.14835099, 3885.23740435, 4156.24476788, 4115.03520923,\n",
       "       4061.19570807, 3880.15783656, 3938.63225601, 3960.90939927,\n",
       "       4058.55743426, 3800.86471216, 4104.81599504, 4060.75198472,\n",
       "       4030.26281054, 3981.99715264, 4184.03775424, 4268.1843198 ,\n",
       "       4267.54512598, 4312.77039929, 4329.68655718, 4763.88554556,\n",
       "       4735.56096208, 4569.3572144 ])"
      ]
     },
     "execution_count": 84,
     "metadata": {},
     "output_type": "execute_result"
    }
   ],
   "source": [
    "sarima_result.fittedvalues.values"
   ]
  },
  {
   "cell_type": "code",
   "execution_count": 86,
   "id": "c179e19f-4f43-4509-abba-f0a708d886c9",
   "metadata": {},
   "outputs": [
    {
     "data": {
      "text/plain": [
       "62    5092.554794\n",
       "63    4860.585533\n",
       "64    4942.206500\n",
       "65    4876.638922\n",
       "66    5016.516000\n",
       "67    5041.705897\n",
       "68    4958.628025\n",
       "69    5086.221253\n",
       "70    5029.753481\n",
       "71    5205.366131\n",
       "72    5287.342828\n",
       "Name: predicted_mean, dtype: float64"
      ]
     },
     "execution_count": 86,
     "metadata": {},
     "output_type": "execute_result"
    }
   ],
   "source": [
    "sarima_predictions[len(train):]"
   ]
  },
  {
   "cell_type": "code",
   "execution_count": 87,
   "id": "e4e12421-5d7c-4d15-8bfc-c148e29b3863",
   "metadata": {},
   "outputs": [],
   "source": [
    "df['SARIMA Predictions'] = np.concatenate([sarima_result.fittedvalues.values, sarima_predictions[len(train):]])[:len(df)]"
   ]
  },
  {
   "cell_type": "code",
   "execution_count": 89,
   "id": "1697319c-7939-47e5-8fe1-60d8a34d3e97",
   "metadata": {},
   "outputs": [
    {
     "data": {
      "image/png": "[encoded data removed]",
      "text/plain": [
       "<Figure size 1000x600 with 1 Axes>"
      ]
     },
     "metadata": {},
     "output_type": "display_data"
    }
   ],
   "source": [
    "plottable = df.iloc[1:]\n",
    "plottable.set_index('Month', inplace=True)\n",
    "plt.figure(figsize=(10, 6))\n",
    "plt.plot(plottable.index[2:], plottable['Deaths'][2:], label='Actual Data', color='blue')\n",
    "plt.plot(plottable.index[2:], plottable['LSTM Predictions'][2:], label='LSTM Predictions', color='red')\n",
    "plt.plot(plottable.index[2:], plottable['SARIMA Predictions'][2:], label='SARIMA Predictions', color='green')\n",
    "plt.title('Deaths: Actual vs LSTM vs SARIMA Predictions (Without Scaling)')\n",
    "plt.xlabel('Date')\n",
    "plt.ylabel('Deaths')\n",
    "plt.legend()\n",
    "plt.show()"
   ]
  },
  {
   "cell_type": "code",
   "execution_count": 92,
   "id": "83de3943-a779-4c99-a62c-fb82190bd6a2",
   "metadata": {},
   "outputs": [
    {
     "data": {
      "text/plain": [
       "array([4749.7964, 4780.294 , 4799.4297, 4835.1094, 4862.91  , 4891.217 ,\n",
       "       4922.182 , 4951.395 , 4981.3506, 5011.722 , 5041.9053, 5072.4546],\n",
       "      dtype=float32)"
      ]
     },
     "execution_count": 92,
     "metadata": {},
     "output_type": "execute_result"
    }
   ],
   "source": [
    "testPredict"
   ]
  },
  {
   "cell_type": "code",
   "execution_count": 94,
   "id": "011d516c-5c7f-4520-90d9-231428373f94",
   "metadata": {},
   "outputs": [
    {
     "name": "stdout",
     "output_type": "stream",
     "text": [
      "LSTM Train Score: 199.17 RMSE\n",
      "LSTM Test Score: 1413.51 RMSE\n"
     ]
    }
   ],
   "source": [
    "trainScore = np.sqrt(mean_squared_error(trainY, trainPredict))\n",
    "print('LSTM Train Score: %.2f RMSE' % (trainScore))\n",
    "testScore = np.sqrt(mean_squared_error(testY, testPredict[:len(testY)]))\n",
    "print('LSTM Test Score: %.2f RMSE' % (testScore))"
   ]
  },
  {
   "cell_type": "code",
   "execution_count": 95,
   "id": "dac5c5a8-f87e-4083-8030-ae8ca74bb4d8",
   "metadata": {},
   "outputs": [
    {
     "name": "stdout",
     "output_type": "stream",
     "text": [
      "SARIMA Train Score: 445.49 RMSE\n",
      "SARIMA Test Score: 1127.48 RMSE\n"
     ]
    }
   ],
   "source": [
    "trainScore = np.sqrt(mean_squared_error(train['Deaths'], sarima_predictions[:len(train)]))\n",
    "print('SARIMA Train Score: %.2f RMSE' % (trainScore))\n",
    "testScore = np.sqrt(mean_squared_error(test['Deaths'], sarima_predictions[len(train):]))\n",
    "print('SARIMA Test Score: %.2f RMSE' % (testScore))"
   ]
  },
  {
   "cell_type": "code",
   "execution_count": null,
   "id": "bd57ae90-f204-47f8-8d37-948bdd3504e4",
   "metadata": {},
   "outputs": [],
   "source": []
  }
 ],
 "metadata": {
  "kernelspec": {
   "display_name": "Python 3 (ipykernel)",
   "language": "python",
   "name": "python3"
  },
  "language_info": {
   "codemirror_mode": {
    "name": "ipython",
    "version": 3
   },
   "file_extension": ".py",
   "mimetype": "text/x-python",
   "name": "python",
   "nbconvert_exporter": "python",
   "pygments_lexer": "ipython3",
   "version": "3.10.12"
  }
 },
 "nbformat": 4,
 "nbformat_minor": 5
}
