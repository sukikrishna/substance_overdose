{
 "cells": [
  {
   "cell_type": "code",
   "execution_count": 293,
   "id": "56dfba6b-8e54-429e-9b83-7a076844ada0",
   "metadata": {},
   "outputs": [],
   "source": [
    "import pandas as pd\n",
    "import numpy as np"
   ]
  },
  {
   "cell_type": "code",
   "execution_count": 294,
   "id": "f2ac65d2-fdaa-4c74-93cc-92e80c68cdea",
   "metadata": {},
   "outputs": [],
   "source": [
    "df = pd.read_excel('state_month_overdose.xlsx')"
   ]
  },
  {
   "cell_type": "code",
   "execution_count": 295,
   "id": "49292cb5-c134-43fe-8ab9-b2d06a10cf94",
   "metadata": {},
   "outputs": [
    {
     "data": {
      "text/html": [
       "<div>\n",
       "<style scoped>\n",
       "    .dataframe tbody tr th:only-of-type {\n",
       "        vertical-align: middle;\n",
       "    }\n",
       "\n",
       "    .dataframe tbody tr th {\n",
       "        vertical-align: top;\n",
       "    }\n",
       "\n",
       "    .dataframe thead th {\n",
       "        text-align: right;\n",
       "    }\n",
       "</style>\n",
       "<table border=\"1\" class=\"dataframe\">\n",
       "  <thead>\n",
       "    <tr style=\"text-align: right;\">\n",
       "      <th></th>\n",
       "      <th>State</th>\n",
       "      <th>State Code</th>\n",
       "      <th>Month</th>\n",
       "      <th>Month Code</th>\n",
       "      <th>Deaths</th>\n",
       "      <th>Population</th>\n",
       "      <th>Crude Rate</th>\n",
       "    </tr>\n",
       "  </thead>\n",
       "  <tbody>\n",
       "    <tr>\n",
       "      <th>0</th>\n",
       "      <td>Alabama</td>\n",
       "      <td>1</td>\n",
       "      <td>Jan., 2015</td>\n",
       "      <td>2015/01</td>\n",
       "      <td>29</td>\n",
       "      <td>Not Applicable</td>\n",
       "      <td>Not Applicable</td>\n",
       "    </tr>\n",
       "    <tr>\n",
       "      <th>1</th>\n",
       "      <td>Alabama</td>\n",
       "      <td>1</td>\n",
       "      <td>Feb., 2015</td>\n",
       "      <td>2015/02</td>\n",
       "      <td>24</td>\n",
       "      <td>Not Applicable</td>\n",
       "      <td>Not Applicable</td>\n",
       "    </tr>\n",
       "    <tr>\n",
       "      <th>2</th>\n",
       "      <td>Alabama</td>\n",
       "      <td>1</td>\n",
       "      <td>Mar., 2015</td>\n",
       "      <td>2015/03</td>\n",
       "      <td>37</td>\n",
       "      <td>Not Applicable</td>\n",
       "      <td>Not Applicable</td>\n",
       "    </tr>\n",
       "    <tr>\n",
       "      <th>3</th>\n",
       "      <td>Alabama</td>\n",
       "      <td>1</td>\n",
       "      <td>Apr., 2015</td>\n",
       "      <td>2015/04</td>\n",
       "      <td>29</td>\n",
       "      <td>Not Applicable</td>\n",
       "      <td>Not Applicable</td>\n",
       "    </tr>\n",
       "    <tr>\n",
       "      <th>4</th>\n",
       "      <td>Alabama</td>\n",
       "      <td>1</td>\n",
       "      <td>May, 2015</td>\n",
       "      <td>2015/05</td>\n",
       "      <td>21</td>\n",
       "      <td>Not Applicable</td>\n",
       "      <td>Not Applicable</td>\n",
       "    </tr>\n",
       "  </tbody>\n",
       "</table>\n",
       "</div>"
      ],
      "text/plain": [
       "     State  State Code       Month Month Code Deaths      Population  \\\n",
       "0  Alabama           1  Jan., 2015    2015/01     29  Not Applicable   \n",
       "1  Alabama           1  Feb., 2015    2015/02     24  Not Applicable   \n",
       "2  Alabama           1  Mar., 2015    2015/03     37  Not Applicable   \n",
       "3  Alabama           1  Apr., 2015    2015/04     29  Not Applicable   \n",
       "4  Alabama           1   May, 2015    2015/05     21  Not Applicable   \n",
       "\n",
       "       Crude Rate  \n",
       "0  Not Applicable  \n",
       "1  Not Applicable  \n",
       "2  Not Applicable  \n",
       "3  Not Applicable  \n",
       "4  Not Applicable  "
      ]
     },
     "execution_count": 295,
     "metadata": {},
     "output_type": "execute_result"
    }
   ],
   "source": [
    "df.head()"
   ]
  },
  {
   "cell_type": "code",
   "execution_count": 296,
   "id": "18f6ee87-2520-48da-a4c5-463063827861",
   "metadata": {},
   "outputs": [
    {
     "data": {
      "text/plain": [
       "State         object\n",
       "State Code     int64\n",
       "Month         object\n",
       "Month Code    object\n",
       "Deaths        object\n",
       "Population    object\n",
       "Crude Rate    object\n",
       "dtype: object"
      ]
     },
     "execution_count": 296,
     "metadata": {},
     "output_type": "execute_result"
    }
   ],
   "source": [
    "df.dtypes"
   ]
  },
  {
   "cell_type": "code",
   "execution_count": 297,
   "id": "73b52312-b8df-4cb9-b1f5-eb59fb3a4b9d",
   "metadata": {},
   "outputs": [
    {
     "data": {
      "text/plain": [
       "State         0\n",
       "State Code    0\n",
       "Month         0\n",
       "Month Code    0\n",
       "Deaths        0\n",
       "Population    0\n",
       "Crude Rate    0\n",
       "dtype: int64"
      ]
     },
     "execution_count": 297,
     "metadata": {},
     "output_type": "execute_result"
    }
   ],
   "source": [
    "df.isna().sum() #no null values"
   ]
  },
  {
   "cell_type": "code",
   "execution_count": 298,
   "id": "da068540-93f4-4145-ad1a-c57195bedbb3",
   "metadata": {},
   "outputs": [],
   "source": [
    "df['Deaths'] = df['Deaths'].apply(lambda x: 0 if x == 'Suppressed' else int(x))"
   ]
  },
  {
   "cell_type": "code",
   "execution_count": 299,
   "id": "dbe21e9d-ce88-488a-9b14-a6b48195235e",
   "metadata": {},
   "outputs": [
    {
     "data": {
      "text/html": [
       "<div>\n",
       "<style scoped>\n",
       "    .dataframe tbody tr th:only-of-type {\n",
       "        vertical-align: middle;\n",
       "    }\n",
       "\n",
       "    .dataframe tbody tr th {\n",
       "        vertical-align: top;\n",
       "    }\n",
       "\n",
       "    .dataframe thead th {\n",
       "        text-align: right;\n",
       "    }\n",
       "</style>\n",
       "<table border=\"1\" class=\"dataframe\">\n",
       "  <thead>\n",
       "    <tr style=\"text-align: right;\">\n",
       "      <th></th>\n",
       "      <th>State</th>\n",
       "      <th>State Code</th>\n",
       "      <th>Month</th>\n",
       "      <th>Month Code</th>\n",
       "      <th>Deaths</th>\n",
       "      <th>Population</th>\n",
       "      <th>Crude Rate</th>\n",
       "    </tr>\n",
       "  </thead>\n",
       "  <tbody>\n",
       "    <tr>\n",
       "      <th>0</th>\n",
       "      <td>Alabama</td>\n",
       "      <td>1</td>\n",
       "      <td>Jan., 2015</td>\n",
       "      <td>2015/01</td>\n",
       "      <td>29</td>\n",
       "      <td>Not Applicable</td>\n",
       "      <td>Not Applicable</td>\n",
       "    </tr>\n",
       "    <tr>\n",
       "      <th>1</th>\n",
       "      <td>Alabama</td>\n",
       "      <td>1</td>\n",
       "      <td>Feb., 2015</td>\n",
       "      <td>2015/02</td>\n",
       "      <td>24</td>\n",
       "      <td>Not Applicable</td>\n",
       "      <td>Not Applicable</td>\n",
       "    </tr>\n",
       "    <tr>\n",
       "      <th>2</th>\n",
       "      <td>Alabama</td>\n",
       "      <td>1</td>\n",
       "      <td>Mar., 2015</td>\n",
       "      <td>2015/03</td>\n",
       "      <td>37</td>\n",
       "      <td>Not Applicable</td>\n",
       "      <td>Not Applicable</td>\n",
       "    </tr>\n",
       "    <tr>\n",
       "      <th>3</th>\n",
       "      <td>Alabama</td>\n",
       "      <td>1</td>\n",
       "      <td>Apr., 2015</td>\n",
       "      <td>2015/04</td>\n",
       "      <td>29</td>\n",
       "      <td>Not Applicable</td>\n",
       "      <td>Not Applicable</td>\n",
       "    </tr>\n",
       "    <tr>\n",
       "      <th>4</th>\n",
       "      <td>Alabama</td>\n",
       "      <td>1</td>\n",
       "      <td>May, 2015</td>\n",
       "      <td>2015/05</td>\n",
       "      <td>21</td>\n",
       "      <td>Not Applicable</td>\n",
       "      <td>Not Applicable</td>\n",
       "    </tr>\n",
       "  </tbody>\n",
       "</table>\n",
       "</div>"
      ],
      "text/plain": [
       "     State  State Code       Month Month Code  Deaths      Population  \\\n",
       "0  Alabama           1  Jan., 2015    2015/01      29  Not Applicable   \n",
       "1  Alabama           1  Feb., 2015    2015/02      24  Not Applicable   \n",
       "2  Alabama           1  Mar., 2015    2015/03      37  Not Applicable   \n",
       "3  Alabama           1  Apr., 2015    2015/04      29  Not Applicable   \n",
       "4  Alabama           1   May, 2015    2015/05      21  Not Applicable   \n",
       "\n",
       "       Crude Rate  \n",
       "0  Not Applicable  \n",
       "1  Not Applicable  \n",
       "2  Not Applicable  \n",
       "3  Not Applicable  \n",
       "4  Not Applicable  "
      ]
     },
     "execution_count": 299,
     "metadata": {},
     "output_type": "execute_result"
    }
   ],
   "source": [
    "df.head()"
   ]
  },
  {
   "cell_type": "code",
   "execution_count": 300,
   "id": "76cb4578-b324-4c42-a542-a696f59bd5fb",
   "metadata": {},
   "outputs": [
    {
     "name": "stderr",
     "output_type": "stream",
     "text": [
      "/tmp/ipykernel_1273/3903996341.py:1: UserWarning: Could not infer format, so each element will be parsed individually, falling back to `dateutil`. To ensure parsing is consistent and as-expected, please specify a format.\n",
      "  df['Month'] = pd.to_datetime(df['Month'])\n"
     ]
    }
   ],
   "source": [
    "df['Month'] = pd.to_datetime(df['Month'])\n",
    "df.set_index('Month', inplace=True)"
   ]
  },
  {
   "cell_type": "code",
   "execution_count": 301,
   "id": "48c138ea-5caa-4fcc-8275-4c29fa330dfc",
   "metadata": {},
   "outputs": [
    {
     "data": {
      "text/html": [
       "<div>\n",
       "<style scoped>\n",
       "    .dataframe tbody tr th:only-of-type {\n",
       "        vertical-align: middle;\n",
       "    }\n",
       "\n",
       "    .dataframe tbody tr th {\n",
       "        vertical-align: top;\n",
       "    }\n",
       "\n",
       "    .dataframe thead th {\n",
       "        text-align: right;\n",
       "    }\n",
       "</style>\n",
       "<table border=\"1\" class=\"dataframe\">\n",
       "  <thead>\n",
       "    <tr style=\"text-align: right;\">\n",
       "      <th></th>\n",
       "      <th>Month</th>\n",
       "      <th>State</th>\n",
       "      <th>State Code</th>\n",
       "      <th>Month Code</th>\n",
       "      <th>Deaths</th>\n",
       "      <th>Population</th>\n",
       "      <th>Crude Rate</th>\n",
       "    </tr>\n",
       "  </thead>\n",
       "  <tbody>\n",
       "    <tr>\n",
       "      <th>0</th>\n",
       "      <td>2015-01-01</td>\n",
       "      <td>Alabama</td>\n",
       "      <td>1</td>\n",
       "      <td>2015/01</td>\n",
       "      <td>29</td>\n",
       "      <td>Not Applicable</td>\n",
       "      <td>Not Applicable</td>\n",
       "    </tr>\n",
       "    <tr>\n",
       "      <th>1</th>\n",
       "      <td>2015-02-01</td>\n",
       "      <td>Alabama</td>\n",
       "      <td>1</td>\n",
       "      <td>2015/02</td>\n",
       "      <td>24</td>\n",
       "      <td>Not Applicable</td>\n",
       "      <td>Not Applicable</td>\n",
       "    </tr>\n",
       "    <tr>\n",
       "      <th>2</th>\n",
       "      <td>2015-03-01</td>\n",
       "      <td>Alabama</td>\n",
       "      <td>1</td>\n",
       "      <td>2015/03</td>\n",
       "      <td>37</td>\n",
       "      <td>Not Applicable</td>\n",
       "      <td>Not Applicable</td>\n",
       "    </tr>\n",
       "    <tr>\n",
       "      <th>3</th>\n",
       "      <td>2015-04-01</td>\n",
       "      <td>Alabama</td>\n",
       "      <td>1</td>\n",
       "      <td>2015/04</td>\n",
       "      <td>29</td>\n",
       "      <td>Not Applicable</td>\n",
       "      <td>Not Applicable</td>\n",
       "    </tr>\n",
       "    <tr>\n",
       "      <th>4</th>\n",
       "      <td>2015-05-01</td>\n",
       "      <td>Alabama</td>\n",
       "      <td>1</td>\n",
       "      <td>2015/05</td>\n",
       "      <td>21</td>\n",
       "      <td>Not Applicable</td>\n",
       "      <td>Not Applicable</td>\n",
       "    </tr>\n",
       "    <tr>\n",
       "      <th>...</th>\n",
       "      <td>...</td>\n",
       "      <td>...</td>\n",
       "      <td>...</td>\n",
       "      <td>...</td>\n",
       "      <td>...</td>\n",
       "      <td>...</td>\n",
       "      <td>...</td>\n",
       "    </tr>\n",
       "    <tr>\n",
       "      <th>3667</th>\n",
       "      <td>2020-08-01</td>\n",
       "      <td>Wyoming</td>\n",
       "      <td>56</td>\n",
       "      <td>2020/08</td>\n",
       "      <td>0</td>\n",
       "      <td>Not Applicable</td>\n",
       "      <td>Not Applicable</td>\n",
       "    </tr>\n",
       "    <tr>\n",
       "      <th>3668</th>\n",
       "      <td>2020-09-01</td>\n",
       "      <td>Wyoming</td>\n",
       "      <td>56</td>\n",
       "      <td>2020/09</td>\n",
       "      <td>0</td>\n",
       "      <td>Not Applicable</td>\n",
       "      <td>Not Applicable</td>\n",
       "    </tr>\n",
       "    <tr>\n",
       "      <th>3669</th>\n",
       "      <td>2020-10-01</td>\n",
       "      <td>Wyoming</td>\n",
       "      <td>56</td>\n",
       "      <td>2020/10</td>\n",
       "      <td>0</td>\n",
       "      <td>Not Applicable</td>\n",
       "      <td>Not Applicable</td>\n",
       "    </tr>\n",
       "    <tr>\n",
       "      <th>3670</th>\n",
       "      <td>2020-11-01</td>\n",
       "      <td>Wyoming</td>\n",
       "      <td>56</td>\n",
       "      <td>2020/11</td>\n",
       "      <td>0</td>\n",
       "      <td>Not Applicable</td>\n",
       "      <td>Not Applicable</td>\n",
       "    </tr>\n",
       "    <tr>\n",
       "      <th>3671</th>\n",
       "      <td>2020-12-01</td>\n",
       "      <td>Wyoming</td>\n",
       "      <td>56</td>\n",
       "      <td>2020/12</td>\n",
       "      <td>0</td>\n",
       "      <td>Not Applicable</td>\n",
       "      <td>Not Applicable</td>\n",
       "    </tr>\n",
       "  </tbody>\n",
       "</table>\n",
       "<p>3672 rows × 7 columns</p>\n",
       "</div>"
      ],
      "text/plain": [
       "          Month    State  State Code Month Code  Deaths      Population  \\\n",
       "0    2015-01-01  Alabama           1    2015/01      29  Not Applicable   \n",
       "1    2015-02-01  Alabama           1    2015/02      24  Not Applicable   \n",
       "2    2015-03-01  Alabama           1    2015/03      37  Not Applicable   \n",
       "3    2015-04-01  Alabama           1    2015/04      29  Not Applicable   \n",
       "4    2015-05-01  Alabama           1    2015/05      21  Not Applicable   \n",
       "...         ...      ...         ...        ...     ...             ...   \n",
       "3667 2020-08-01  Wyoming          56    2020/08       0  Not Applicable   \n",
       "3668 2020-09-01  Wyoming          56    2020/09       0  Not Applicable   \n",
       "3669 2020-10-01  Wyoming          56    2020/10       0  Not Applicable   \n",
       "3670 2020-11-01  Wyoming          56    2020/11       0  Not Applicable   \n",
       "3671 2020-12-01  Wyoming          56    2020/12       0  Not Applicable   \n",
       "\n",
       "          Crude Rate  \n",
       "0     Not Applicable  \n",
       "1     Not Applicable  \n",
       "2     Not Applicable  \n",
       "3     Not Applicable  \n",
       "4     Not Applicable  \n",
       "...              ...  \n",
       "3667  Not Applicable  \n",
       "3668  Not Applicable  \n",
       "3669  Not Applicable  \n",
       "3670  Not Applicable  \n",
       "3671  Not Applicable  \n",
       "\n",
       "[3672 rows x 7 columns]"
      ]
     },
     "execution_count": 301,
     "metadata": {},
     "output_type": "execute_result"
    }
   ],
   "source": [
    "df = df.reset_index()\n",
    "df"
   ]
  },
  {
   "cell_type": "code",
   "execution_count": 302,
   "id": "f0bc6211-b6c1-4401-9229-aef991f142ca",
   "metadata": {},
   "outputs": [
    {
     "name": "stderr",
     "output_type": "stream",
     "text": [
      "/tmp/ipykernel_1273/96040416.py:1: UserWarning: Could not infer format, so each element will be parsed individually, falling back to `dateutil`. To ensure parsing is consistent and as-expected, please specify a format.\n",
      "  df['Month Code'] = pd.to_datetime(df['Month Code'])#.reset_index()\n"
     ]
    },
    {
     "data": {
      "text/html": [
       "<div>\n",
       "<style scoped>\n",
       "    .dataframe tbody tr th:only-of-type {\n",
       "        vertical-align: middle;\n",
       "    }\n",
       "\n",
       "    .dataframe tbody tr th {\n",
       "        vertical-align: top;\n",
       "    }\n",
       "\n",
       "    .dataframe thead th {\n",
       "        text-align: right;\n",
       "    }\n",
       "</style>\n",
       "<table border=\"1\" class=\"dataframe\">\n",
       "  <thead>\n",
       "    <tr style=\"text-align: right;\">\n",
       "      <th></th>\n",
       "      <th>Month</th>\n",
       "      <th>State</th>\n",
       "      <th>State Code</th>\n",
       "      <th>Month Code</th>\n",
       "      <th>Deaths</th>\n",
       "      <th>Population</th>\n",
       "      <th>Crude Rate</th>\n",
       "    </tr>\n",
       "  </thead>\n",
       "  <tbody>\n",
       "    <tr>\n",
       "      <th>0</th>\n",
       "      <td>2015-01-01</td>\n",
       "      <td>Alabama</td>\n",
       "      <td>1</td>\n",
       "      <td>2015-01-01</td>\n",
       "      <td>29</td>\n",
       "      <td>Not Applicable</td>\n",
       "      <td>Not Applicable</td>\n",
       "    </tr>\n",
       "    <tr>\n",
       "      <th>1</th>\n",
       "      <td>2015-02-01</td>\n",
       "      <td>Alabama</td>\n",
       "      <td>1</td>\n",
       "      <td>2015-02-01</td>\n",
       "      <td>24</td>\n",
       "      <td>Not Applicable</td>\n",
       "      <td>Not Applicable</td>\n",
       "    </tr>\n",
       "    <tr>\n",
       "      <th>2</th>\n",
       "      <td>2015-03-01</td>\n",
       "      <td>Alabama</td>\n",
       "      <td>1</td>\n",
       "      <td>2015-03-01</td>\n",
       "      <td>37</td>\n",
       "      <td>Not Applicable</td>\n",
       "      <td>Not Applicable</td>\n",
       "    </tr>\n",
       "    <tr>\n",
       "      <th>3</th>\n",
       "      <td>2015-04-01</td>\n",
       "      <td>Alabama</td>\n",
       "      <td>1</td>\n",
       "      <td>2015-04-01</td>\n",
       "      <td>29</td>\n",
       "      <td>Not Applicable</td>\n",
       "      <td>Not Applicable</td>\n",
       "    </tr>\n",
       "    <tr>\n",
       "      <th>4</th>\n",
       "      <td>2015-05-01</td>\n",
       "      <td>Alabama</td>\n",
       "      <td>1</td>\n",
       "      <td>2015-05-01</td>\n",
       "      <td>21</td>\n",
       "      <td>Not Applicable</td>\n",
       "      <td>Not Applicable</td>\n",
       "    </tr>\n",
       "    <tr>\n",
       "      <th>...</th>\n",
       "      <td>...</td>\n",
       "      <td>...</td>\n",
       "      <td>...</td>\n",
       "      <td>...</td>\n",
       "      <td>...</td>\n",
       "      <td>...</td>\n",
       "      <td>...</td>\n",
       "    </tr>\n",
       "    <tr>\n",
       "      <th>3667</th>\n",
       "      <td>2020-08-01</td>\n",
       "      <td>Wyoming</td>\n",
       "      <td>56</td>\n",
       "      <td>2020-08-01</td>\n",
       "      <td>0</td>\n",
       "      <td>Not Applicable</td>\n",
       "      <td>Not Applicable</td>\n",
       "    </tr>\n",
       "    <tr>\n",
       "      <th>3668</th>\n",
       "      <td>2020-09-01</td>\n",
       "      <td>Wyoming</td>\n",
       "      <td>56</td>\n",
       "      <td>2020-09-01</td>\n",
       "      <td>0</td>\n",
       "      <td>Not Applicable</td>\n",
       "      <td>Not Applicable</td>\n",
       "    </tr>\n",
       "    <tr>\n",
       "      <th>3669</th>\n",
       "      <td>2020-10-01</td>\n",
       "      <td>Wyoming</td>\n",
       "      <td>56</td>\n",
       "      <td>2020-10-01</td>\n",
       "      <td>0</td>\n",
       "      <td>Not Applicable</td>\n",
       "      <td>Not Applicable</td>\n",
       "    </tr>\n",
       "    <tr>\n",
       "      <th>3670</th>\n",
       "      <td>2020-11-01</td>\n",
       "      <td>Wyoming</td>\n",
       "      <td>56</td>\n",
       "      <td>2020-11-01</td>\n",
       "      <td>0</td>\n",
       "      <td>Not Applicable</td>\n",
       "      <td>Not Applicable</td>\n",
       "    </tr>\n",
       "    <tr>\n",
       "      <th>3671</th>\n",
       "      <td>2020-12-01</td>\n",
       "      <td>Wyoming</td>\n",
       "      <td>56</td>\n",
       "      <td>2020-12-01</td>\n",
       "      <td>0</td>\n",
       "      <td>Not Applicable</td>\n",
       "      <td>Not Applicable</td>\n",
       "    </tr>\n",
       "  </tbody>\n",
       "</table>\n",
       "<p>3672 rows × 7 columns</p>\n",
       "</div>"
      ],
      "text/plain": [
       "          Month    State  State Code Month Code  Deaths      Population  \\\n",
       "0    2015-01-01  Alabama           1 2015-01-01      29  Not Applicable   \n",
       "1    2015-02-01  Alabama           1 2015-02-01      24  Not Applicable   \n",
       "2    2015-03-01  Alabama           1 2015-03-01      37  Not Applicable   \n",
       "3    2015-04-01  Alabama           1 2015-04-01      29  Not Applicable   \n",
       "4    2015-05-01  Alabama           1 2015-05-01      21  Not Applicable   \n",
       "...         ...      ...         ...        ...     ...             ...   \n",
       "3667 2020-08-01  Wyoming          56 2020-08-01       0  Not Applicable   \n",
       "3668 2020-09-01  Wyoming          56 2020-09-01       0  Not Applicable   \n",
       "3669 2020-10-01  Wyoming          56 2020-10-01       0  Not Applicable   \n",
       "3670 2020-11-01  Wyoming          56 2020-11-01       0  Not Applicable   \n",
       "3671 2020-12-01  Wyoming          56 2020-12-01       0  Not Applicable   \n",
       "\n",
       "          Crude Rate  \n",
       "0     Not Applicable  \n",
       "1     Not Applicable  \n",
       "2     Not Applicable  \n",
       "3     Not Applicable  \n",
       "4     Not Applicable  \n",
       "...              ...  \n",
       "3667  Not Applicable  \n",
       "3668  Not Applicable  \n",
       "3669  Not Applicable  \n",
       "3670  Not Applicable  \n",
       "3671  Not Applicable  \n",
       "\n",
       "[3672 rows x 7 columns]"
      ]
     },
     "execution_count": 302,
     "metadata": {},
     "output_type": "execute_result"
    }
   ],
   "source": [
    "df['Month Code'] = pd.to_datetime(df['Month Code'])#.reset_index()\n",
    "# df.set_index('Month', inplace=True)\n",
    "df"
   ]
  },
  {
   "cell_type": "code",
   "execution_count": 303,
   "id": "7901b653-5b87-47f8-bbd1-0f6d483c55da",
   "metadata": {},
   "outputs": [
    {
     "data": {
      "text/html": [
       "<div>\n",
       "<style scoped>\n",
       "    .dataframe tbody tr th:only-of-type {\n",
       "        vertical-align: middle;\n",
       "    }\n",
       "\n",
       "    .dataframe tbody tr th {\n",
       "        vertical-align: top;\n",
       "    }\n",
       "\n",
       "    .dataframe thead th {\n",
       "        text-align: right;\n",
       "    }\n",
       "</style>\n",
       "<table border=\"1\" class=\"dataframe\">\n",
       "  <thead>\n",
       "    <tr style=\"text-align: right;\">\n",
       "      <th></th>\n",
       "      <th>Month</th>\n",
       "      <th>State</th>\n",
       "      <th>State Code</th>\n",
       "      <th>Month Code</th>\n",
       "      <th>Deaths</th>\n",
       "      <th>Population</th>\n",
       "      <th>Crude Rate</th>\n",
       "    </tr>\n",
       "  </thead>\n",
       "  <tbody>\n",
       "    <tr>\n",
       "      <th>0</th>\n",
       "      <td>2015-01-01</td>\n",
       "      <td>Alabama</td>\n",
       "      <td>1</td>\n",
       "      <td>2015-01-01</td>\n",
       "      <td>29</td>\n",
       "      <td>Not Applicable</td>\n",
       "      <td>Not Applicable</td>\n",
       "    </tr>\n",
       "    <tr>\n",
       "      <th>1</th>\n",
       "      <td>2015-02-01</td>\n",
       "      <td>Alabama</td>\n",
       "      <td>1</td>\n",
       "      <td>2015-02-01</td>\n",
       "      <td>24</td>\n",
       "      <td>Not Applicable</td>\n",
       "      <td>Not Applicable</td>\n",
       "    </tr>\n",
       "    <tr>\n",
       "      <th>2</th>\n",
       "      <td>2015-03-01</td>\n",
       "      <td>Alabama</td>\n",
       "      <td>1</td>\n",
       "      <td>2015-03-01</td>\n",
       "      <td>37</td>\n",
       "      <td>Not Applicable</td>\n",
       "      <td>Not Applicable</td>\n",
       "    </tr>\n",
       "    <tr>\n",
       "      <th>3</th>\n",
       "      <td>2015-04-01</td>\n",
       "      <td>Alabama</td>\n",
       "      <td>1</td>\n",
       "      <td>2015-04-01</td>\n",
       "      <td>29</td>\n",
       "      <td>Not Applicable</td>\n",
       "      <td>Not Applicable</td>\n",
       "    </tr>\n",
       "    <tr>\n",
       "      <th>4</th>\n",
       "      <td>2015-05-01</td>\n",
       "      <td>Alabama</td>\n",
       "      <td>1</td>\n",
       "      <td>2015-05-01</td>\n",
       "      <td>21</td>\n",
       "      <td>Not Applicable</td>\n",
       "      <td>Not Applicable</td>\n",
       "    </tr>\n",
       "    <tr>\n",
       "      <th>...</th>\n",
       "      <td>...</td>\n",
       "      <td>...</td>\n",
       "      <td>...</td>\n",
       "      <td>...</td>\n",
       "      <td>...</td>\n",
       "      <td>...</td>\n",
       "      <td>...</td>\n",
       "    </tr>\n",
       "    <tr>\n",
       "      <th>3667</th>\n",
       "      <td>2020-08-01</td>\n",
       "      <td>Wyoming</td>\n",
       "      <td>56</td>\n",
       "      <td>2020-08-01</td>\n",
       "      <td>0</td>\n",
       "      <td>Not Applicable</td>\n",
       "      <td>Not Applicable</td>\n",
       "    </tr>\n",
       "    <tr>\n",
       "      <th>3668</th>\n",
       "      <td>2020-09-01</td>\n",
       "      <td>Wyoming</td>\n",
       "      <td>56</td>\n",
       "      <td>2020-09-01</td>\n",
       "      <td>0</td>\n",
       "      <td>Not Applicable</td>\n",
       "      <td>Not Applicable</td>\n",
       "    </tr>\n",
       "    <tr>\n",
       "      <th>3669</th>\n",
       "      <td>2020-10-01</td>\n",
       "      <td>Wyoming</td>\n",
       "      <td>56</td>\n",
       "      <td>2020-10-01</td>\n",
       "      <td>0</td>\n",
       "      <td>Not Applicable</td>\n",
       "      <td>Not Applicable</td>\n",
       "    </tr>\n",
       "    <tr>\n",
       "      <th>3670</th>\n",
       "      <td>2020-11-01</td>\n",
       "      <td>Wyoming</td>\n",
       "      <td>56</td>\n",
       "      <td>2020-11-01</td>\n",
       "      <td>0</td>\n",
       "      <td>Not Applicable</td>\n",
       "      <td>Not Applicable</td>\n",
       "    </tr>\n",
       "    <tr>\n",
       "      <th>3671</th>\n",
       "      <td>2020-12-01</td>\n",
       "      <td>Wyoming</td>\n",
       "      <td>56</td>\n",
       "      <td>2020-12-01</td>\n",
       "      <td>0</td>\n",
       "      <td>Not Applicable</td>\n",
       "      <td>Not Applicable</td>\n",
       "    </tr>\n",
       "  </tbody>\n",
       "</table>\n",
       "<p>3672 rows × 7 columns</p>\n",
       "</div>"
      ],
      "text/plain": [
       "          Month    State  State Code Month Code  Deaths      Population  \\\n",
       "0    2015-01-01  Alabama           1 2015-01-01      29  Not Applicable   \n",
       "1    2015-02-01  Alabama           1 2015-02-01      24  Not Applicable   \n",
       "2    2015-03-01  Alabama           1 2015-03-01      37  Not Applicable   \n",
       "3    2015-04-01  Alabama           1 2015-04-01      29  Not Applicable   \n",
       "4    2015-05-01  Alabama           1 2015-05-01      21  Not Applicable   \n",
       "...         ...      ...         ...        ...     ...             ...   \n",
       "3667 2020-08-01  Wyoming          56 2020-08-01       0  Not Applicable   \n",
       "3668 2020-09-01  Wyoming          56 2020-09-01       0  Not Applicable   \n",
       "3669 2020-10-01  Wyoming          56 2020-10-01       0  Not Applicable   \n",
       "3670 2020-11-01  Wyoming          56 2020-11-01       0  Not Applicable   \n",
       "3671 2020-12-01  Wyoming          56 2020-12-01       0  Not Applicable   \n",
       "\n",
       "          Crude Rate  \n",
       "0     Not Applicable  \n",
       "1     Not Applicable  \n",
       "2     Not Applicable  \n",
       "3     Not Applicable  \n",
       "4     Not Applicable  \n",
       "...              ...  \n",
       "3667  Not Applicable  \n",
       "3668  Not Applicable  \n",
       "3669  Not Applicable  \n",
       "3670  Not Applicable  \n",
       "3671  Not Applicable  \n",
       "\n",
       "[3672 rows x 7 columns]"
      ]
     },
     "execution_count": 303,
     "metadata": {},
     "output_type": "execute_result"
    }
   ],
   "source": [
    "df[df['Month'] == df['Month Code']]"
   ]
  },
  {
   "cell_type": "code",
   "execution_count": 304,
   "id": "92067f1c-337d-486e-8cc9-949658686500",
   "metadata": {},
   "outputs": [
    {
     "data": {
      "text/html": [
       "<div>\n",
       "<style scoped>\n",
       "    .dataframe tbody tr th:only-of-type {\n",
       "        vertical-align: middle;\n",
       "    }\n",
       "\n",
       "    .dataframe tbody tr th {\n",
       "        vertical-align: top;\n",
       "    }\n",
       "\n",
       "    .dataframe thead th {\n",
       "        text-align: right;\n",
       "    }\n",
       "</style>\n",
       "<table border=\"1\" class=\"dataframe\">\n",
       "  <thead>\n",
       "    <tr style=\"text-align: right;\">\n",
       "      <th></th>\n",
       "      <th>Month</th>\n",
       "      <th>Deaths</th>\n",
       "    </tr>\n",
       "  </thead>\n",
       "  <tbody>\n",
       "    <tr>\n",
       "      <th>0</th>\n",
       "      <td>2015-01-01</td>\n",
       "      <td>2771</td>\n",
       "    </tr>\n",
       "    <tr>\n",
       "      <th>1</th>\n",
       "      <td>2015-02-01</td>\n",
       "      <td>2627</td>\n",
       "    </tr>\n",
       "    <tr>\n",
       "      <th>2</th>\n",
       "      <td>2015-03-01</td>\n",
       "      <td>2907</td>\n",
       "    </tr>\n",
       "    <tr>\n",
       "      <th>3</th>\n",
       "      <td>2015-04-01</td>\n",
       "      <td>2822</td>\n",
       "    </tr>\n",
       "    <tr>\n",
       "      <th>4</th>\n",
       "      <td>2015-05-01</td>\n",
       "      <td>2850</td>\n",
       "    </tr>\n",
       "    <tr>\n",
       "      <th>...</th>\n",
       "      <td>...</td>\n",
       "      <td>...</td>\n",
       "    </tr>\n",
       "    <tr>\n",
       "      <th>67</th>\n",
       "      <td>2020-08-01</td>\n",
       "      <td>6165</td>\n",
       "    </tr>\n",
       "    <tr>\n",
       "      <th>68</th>\n",
       "      <td>2020-09-01</td>\n",
       "      <td>5683</td>\n",
       "    </tr>\n",
       "    <tr>\n",
       "      <th>69</th>\n",
       "      <td>2020-10-01</td>\n",
       "      <td>5613</td>\n",
       "    </tr>\n",
       "    <tr>\n",
       "      <th>70</th>\n",
       "      <td>2020-11-01</td>\n",
       "      <td>5613</td>\n",
       "    </tr>\n",
       "    <tr>\n",
       "      <th>71</th>\n",
       "      <td>2020-12-01</td>\n",
       "      <td>5792</td>\n",
       "    </tr>\n",
       "  </tbody>\n",
       "</table>\n",
       "<p>72 rows × 2 columns</p>\n",
       "</div>"
      ],
      "text/plain": [
       "        Month  Deaths\n",
       "0  2015-01-01    2771\n",
       "1  2015-02-01    2627\n",
       "2  2015-03-01    2907\n",
       "3  2015-04-01    2822\n",
       "4  2015-05-01    2850\n",
       "..        ...     ...\n",
       "67 2020-08-01    6165\n",
       "68 2020-09-01    5683\n",
       "69 2020-10-01    5613\n",
       "70 2020-11-01    5613\n",
       "71 2020-12-01    5792\n",
       "\n",
       "[72 rows x 2 columns]"
      ]
     },
     "execution_count": 304,
     "metadata": {},
     "output_type": "execute_result"
    }
   ],
   "source": [
    "df = df.groupby(['Month']).agg({'Deaths': 'sum'}).reset_index()\n",
    "df"
   ]
  },
  {
   "cell_type": "code",
   "execution_count": 305,
   "id": "a7857a4b-0e9f-4277-9778-f188ff4241e7",
   "metadata": {},
   "outputs": [
    {
     "name": "stdout",
     "output_type": "stream",
     "text": [
      "Month     2015-01-01 00:00:00\n",
      "Deaths                   2771\n",
      "Name: 0, dtype: object\n",
      "Month     2015-02-01 00:00:00\n",
      "Deaths                   2627\n",
      "Name: 1, dtype: object\n",
      "Month     2015-03-01 00:00:00\n",
      "Deaths                   2907\n",
      "Name: 2, dtype: object\n",
      "Month     2015-04-01 00:00:00\n",
      "Deaths                   2822\n",
      "Name: 3, dtype: object\n",
      "Month     2015-05-01 00:00:00\n",
      "Deaths                   2850\n",
      "Name: 4, dtype: object\n",
      "Month     2015-06-01 00:00:00\n",
      "Deaths                   2634\n",
      "Name: 5, dtype: object\n",
      "Month     2015-07-01 00:00:00\n",
      "Deaths                   2734\n",
      "Name: 6, dtype: object\n",
      "Month     2015-08-01 00:00:00\n",
      "Deaths                   2810\n",
      "Name: 7, dtype: object\n",
      "Month     2015-09-01 00:00:00\n",
      "Deaths                   2925\n",
      "Name: 8, dtype: object\n",
      "Month     2015-10-01 00:00:00\n",
      "Deaths                   2970\n",
      "Name: 9, dtype: object\n",
      "Month     2015-11-01 00:00:00\n",
      "Deaths                   2739\n",
      "Name: 10, dtype: object\n",
      "Month     2015-12-01 00:00:00\n",
      "Deaths                   2718\n",
      "Name: 11, dtype: object\n",
      "Month     2016-01-01 00:00:00\n",
      "Deaths                   3098\n",
      "Name: 12, dtype: object\n",
      "Month     2016-02-01 00:00:00\n",
      "Deaths                   3416\n",
      "Name: 13, dtype: object\n",
      "Month     2016-03-01 00:00:00\n",
      "Deaths                   3721\n",
      "Name: 14, dtype: object\n",
      "Month     2016-04-01 00:00:00\n",
      "Deaths                   3608\n",
      "Name: 15, dtype: object\n",
      "Month     2016-05-01 00:00:00\n",
      "Deaths                   3475\n",
      "Name: 16, dtype: object\n",
      "Month     2016-06-01 00:00:00\n",
      "Deaths                   3384\n",
      "Name: 17, dtype: object\n",
      "Month     2016-07-01 00:00:00\n",
      "Deaths                   3668\n",
      "Name: 18, dtype: object\n",
      "Month     2016-08-01 00:00:00\n",
      "Deaths                   3624\n",
      "Name: 19, dtype: object\n",
      "Month     2016-09-01 00:00:00\n",
      "Deaths                   3518\n",
      "Name: 20, dtype: object\n",
      "Month     2016-10-01 00:00:00\n",
      "Deaths                   3695\n",
      "Name: 21, dtype: object\n",
      "Month     2016-11-01 00:00:00\n",
      "Deaths                   3745\n",
      "Name: 22, dtype: object\n",
      "Month     2016-12-01 00:00:00\n",
      "Deaths                   4044\n",
      "Name: 23, dtype: object\n",
      "Month     2017-01-01 00:00:00\n",
      "Deaths                   4332\n",
      "Name: 24, dtype: object\n",
      "Month     2017-02-01 00:00:00\n",
      "Deaths                   4006\n",
      "Name: 25, dtype: object\n",
      "Month     2017-03-01 00:00:00\n",
      "Deaths                   4252\n",
      "Name: 26, dtype: object\n",
      "Month     2017-04-01 00:00:00\n",
      "Deaths                   4056\n",
      "Name: 27, dtype: object\n",
      "Month     2017-05-01 00:00:00\n",
      "Deaths                   4129\n",
      "Name: 28, dtype: object\n",
      "Month     2017-06-01 00:00:00\n",
      "Deaths                   3950\n",
      "Name: 29, dtype: object\n",
      "Month     2017-07-01 00:00:00\n",
      "Deaths                   3980\n",
      "Name: 30, dtype: object\n",
      "Month     2017-08-01 00:00:00\n",
      "Deaths                   4000\n",
      "Name: 31, dtype: object\n",
      "Month     2017-09-01 00:00:00\n",
      "Deaths                   4022\n",
      "Name: 32, dtype: object\n",
      "Month     2017-10-01 00:00:00\n",
      "Deaths                   3832\n",
      "Name: 33, dtype: object\n",
      "Month     2017-11-01 00:00:00\n",
      "Deaths                   3820\n",
      "Name: 34, dtype: object\n",
      "Month     2017-12-01 00:00:00\n",
      "Deaths                   4017\n",
      "Name: 35, dtype: object\n",
      "Month     2018-01-01 00:00:00\n",
      "Deaths                   4008\n",
      "Name: 36, dtype: object\n",
      "Month     2018-02-01 00:00:00\n",
      "Deaths                   3671\n",
      "Name: 37, dtype: object\n",
      "Month     2018-03-01 00:00:00\n",
      "Deaths                   4155\n",
      "Name: 38, dtype: object\n",
      "Month     2018-04-01 00:00:00\n",
      "Deaths                   3922\n",
      "Name: 39, dtype: object\n",
      "Month     2018-05-01 00:00:00\n",
      "Deaths                   4079\n",
      "Name: 40, dtype: object\n",
      "Month     2018-06-01 00:00:00\n",
      "Deaths                   4063\n",
      "Name: 41, dtype: object\n",
      "Month     2018-07-01 00:00:00\n",
      "Deaths                   4085\n",
      "Name: 42, dtype: object\n",
      "Month     2018-08-01 00:00:00\n",
      "Deaths                   4061\n",
      "Name: 43, dtype: object\n",
      "Month     2018-09-01 00:00:00\n",
      "Deaths                   3882\n",
      "Name: 44, dtype: object\n",
      "Month     2018-10-01 00:00:00\n",
      "Deaths                   3999\n",
      "Name: 45, dtype: object\n",
      "Month     2018-11-01 00:00:00\n",
      "Deaths                   3692\n",
      "Name: 46, dtype: object\n",
      "Month     2018-12-01 00:00:00\n",
      "Deaths                   3976\n",
      "Name: 47, dtype: object\n",
      "Month     2019-01-01 00:00:00\n",
      "Deaths                   3931\n",
      "Name: 48, dtype: object\n",
      "Month     2019-02-01 00:00:00\n",
      "Deaths                   3727\n",
      "Name: 49, dtype: object\n",
      "Month     2019-03-01 00:00:00\n",
      "Deaths                   4285\n",
      "Name: 50, dtype: object\n",
      "Month     2019-04-01 00:00:00\n",
      "Deaths                   3934\n",
      "Name: 51, dtype: object\n",
      "Month     2019-05-01 00:00:00\n",
      "Deaths                   4100\n",
      "Name: 52, dtype: object\n",
      "Month     2019-06-01 00:00:00\n",
      "Deaths                   4112\n",
      "Name: 53, dtype: object\n",
      "Month     2019-07-01 00:00:00\n",
      "Deaths                   4296\n",
      "Name: 54, dtype: object\n",
      "Month     2019-08-01 00:00:00\n",
      "Deaths                   4371\n",
      "Name: 55, dtype: object\n",
      "Month     2019-09-01 00:00:00\n",
      "Deaths                   4252\n",
      "Name: 56, dtype: object\n",
      "Month     2019-10-01 00:00:00\n",
      "Deaths                   4529\n",
      "Name: 57, dtype: object\n",
      "Month     2019-11-01 00:00:00\n",
      "Deaths                   4560\n",
      "Name: 58, dtype: object\n",
      "Month     2019-12-01 00:00:00\n",
      "Deaths                   4645\n",
      "Name: 59, dtype: object\n",
      "Month     2020-01-01 00:00:00\n",
      "Deaths                   4727\n",
      "Name: 60, dtype: object\n",
      "Month     2020-02-01 00:00:00\n",
      "Deaths                   4696\n",
      "Name: 61, dtype: object\n",
      "Month     2020-03-01 00:00:00\n",
      "Deaths                   5365\n",
      "Name: 62, dtype: object\n",
      "Month     2020-04-01 00:00:00\n",
      "Deaths                   6027\n",
      "Name: 63, dtype: object\n",
      "Month     2020-05-01 00:00:00\n",
      "Deaths                   7419\n",
      "Name: 64, dtype: object\n",
      "Month     2020-06-01 00:00:00\n",
      "Deaths                   6307\n",
      "Name: 65, dtype: object\n",
      "Month     2020-07-01 00:00:00\n",
      "Deaths                   6343\n",
      "Name: 66, dtype: object\n",
      "Month     2020-08-01 00:00:00\n",
      "Deaths                   6165\n",
      "Name: 67, dtype: object\n",
      "Month     2020-09-01 00:00:00\n",
      "Deaths                   5683\n",
      "Name: 68, dtype: object\n",
      "Month     2020-10-01 00:00:00\n",
      "Deaths                   5613\n",
      "Name: 69, dtype: object\n",
      "Month     2020-11-01 00:00:00\n",
      "Deaths                   5613\n",
      "Name: 70, dtype: object\n",
      "Month     2020-12-01 00:00:00\n",
      "Deaths                   5792\n",
      "Name: 71, dtype: object\n"
     ]
    }
   ],
   "source": [
    "for row in range(df.shape[0]):\n",
    "    print(df.iloc[row])"
   ]
  },
  {
   "cell_type": "code",
   "execution_count": 306,
   "id": "4493f822-777b-403b-a950-9dd3f9decbb9",
   "metadata": {},
   "outputs": [
    {
     "data": {
      "text/html": [
       "<div>\n",
       "<style scoped>\n",
       "    .dataframe tbody tr th:only-of-type {\n",
       "        vertical-align: middle;\n",
       "    }\n",
       "\n",
       "    .dataframe tbody tr th {\n",
       "        vertical-align: top;\n",
       "    }\n",
       "\n",
       "    .dataframe thead th {\n",
       "        text-align: right;\n",
       "    }\n",
       "</style>\n",
       "<table border=\"1\" class=\"dataframe\">\n",
       "  <thead>\n",
       "    <tr style=\"text-align: right;\">\n",
       "      <th></th>\n",
       "      <th>Month</th>\n",
       "      <th>Deaths</th>\n",
       "    </tr>\n",
       "  </thead>\n",
       "  <tbody>\n",
       "    <tr>\n",
       "      <th>61</th>\n",
       "      <td>2020-02-01</td>\n",
       "      <td>4696</td>\n",
       "    </tr>\n",
       "  </tbody>\n",
       "</table>\n",
       "</div>"
      ],
      "text/plain": [
       "        Month  Deaths\n",
       "61 2020-02-01    4696"
      ]
     },
     "execution_count": 306,
     "metadata": {},
     "output_type": "execute_result"
    }
   ],
   "source": [
    "df[df['Month'] == '2020-02-01']"
   ]
  },
  {
   "cell_type": "code",
   "execution_count": 307,
   "id": "d5eb1ce7-fb96-4401-bd16-746ac24cc033",
   "metadata": {},
   "outputs": [
    {
     "data": {
      "text/plain": [
       "Month     datetime64[ns]\n",
       "Deaths             int64\n",
       "dtype: object"
      ]
     },
     "execution_count": 307,
     "metadata": {},
     "output_type": "execute_result"
    }
   ],
   "source": [
    "df.dtypes"
   ]
  },
  {
   "cell_type": "code",
   "execution_count": 308,
   "id": "8bfa22de-2332-4f47-894e-72217a2cb6bc",
   "metadata": {},
   "outputs": [],
   "source": [
    "# df['Deaths'] = df['Deaths'].astype('float32')"
   ]
  },
  {
   "cell_type": "code",
   "execution_count": 378,
   "id": "1732a840-108c-4a2a-8ea0-ad39208e35c4",
   "metadata": {},
   "outputs": [],
   "source": [
    "train = df[df['Month'] <= '2020-02-01']\n",
    "test = df[df['Month'] >= '2020-02-01']\n",
    "testog = test\n",
    "test = test.reset_index().drop(columns = ['index'])"
   ]
  },
  {
   "cell_type": "code",
   "execution_count": 379,
   "id": "5a9a42c1-e419-49c3-8d01-8deb34b19faa",
   "metadata": {},
   "outputs": [
    {
     "data": {
      "text/html": [
       "<div>\n",
       "<style scoped>\n",
       "    .dataframe tbody tr th:only-of-type {\n",
       "        vertical-align: middle;\n",
       "    }\n",
       "\n",
       "    .dataframe tbody tr th {\n",
       "        vertical-align: top;\n",
       "    }\n",
       "\n",
       "    .dataframe thead th {\n",
       "        text-align: right;\n",
       "    }\n",
       "</style>\n",
       "<table border=\"1\" class=\"dataframe\">\n",
       "  <thead>\n",
       "    <tr style=\"text-align: right;\">\n",
       "      <th></th>\n",
       "      <th>Month</th>\n",
       "      <th>Deaths</th>\n",
       "    </tr>\n",
       "  </thead>\n",
       "  <tbody>\n",
       "    <tr>\n",
       "      <th>0</th>\n",
       "      <td>2015-01-01</td>\n",
       "      <td>2771</td>\n",
       "    </tr>\n",
       "    <tr>\n",
       "      <th>1</th>\n",
       "      <td>2015-02-01</td>\n",
       "      <td>2627</td>\n",
       "    </tr>\n",
       "    <tr>\n",
       "      <th>2</th>\n",
       "      <td>2015-03-01</td>\n",
       "      <td>2907</td>\n",
       "    </tr>\n",
       "    <tr>\n",
       "      <th>3</th>\n",
       "      <td>2015-04-01</td>\n",
       "      <td>2822</td>\n",
       "    </tr>\n",
       "    <tr>\n",
       "      <th>4</th>\n",
       "      <td>2015-05-01</td>\n",
       "      <td>2850</td>\n",
       "    </tr>\n",
       "    <tr>\n",
       "      <th>...</th>\n",
       "      <td>...</td>\n",
       "      <td>...</td>\n",
       "    </tr>\n",
       "    <tr>\n",
       "      <th>57</th>\n",
       "      <td>2019-10-01</td>\n",
       "      <td>4529</td>\n",
       "    </tr>\n",
       "    <tr>\n",
       "      <th>58</th>\n",
       "      <td>2019-11-01</td>\n",
       "      <td>4560</td>\n",
       "    </tr>\n",
       "    <tr>\n",
       "      <th>59</th>\n",
       "      <td>2019-12-01</td>\n",
       "      <td>4645</td>\n",
       "    </tr>\n",
       "    <tr>\n",
       "      <th>60</th>\n",
       "      <td>2020-01-01</td>\n",
       "      <td>4727</td>\n",
       "    </tr>\n",
       "    <tr>\n",
       "      <th>61</th>\n",
       "      <td>2020-02-01</td>\n",
       "      <td>4696</td>\n",
       "    </tr>\n",
       "  </tbody>\n",
       "</table>\n",
       "<p>62 rows × 2 columns</p>\n",
       "</div>"
      ],
      "text/plain": [
       "        Month  Deaths\n",
       "0  2015-01-01    2771\n",
       "1  2015-02-01    2627\n",
       "2  2015-03-01    2907\n",
       "3  2015-04-01    2822\n",
       "4  2015-05-01    2850\n",
       "..        ...     ...\n",
       "57 2019-10-01    4529\n",
       "58 2019-11-01    4560\n",
       "59 2019-12-01    4645\n",
       "60 2020-01-01    4727\n",
       "61 2020-02-01    4696\n",
       "\n",
       "[62 rows x 2 columns]"
      ]
     },
     "execution_count": 379,
     "metadata": {},
     "output_type": "execute_result"
    }
   ],
   "source": [
    "train"
   ]
  },
  {
   "cell_type": "code",
   "execution_count": 380,
   "id": "26606b13-fa32-43a9-a5df-d74c94a93e57",
   "metadata": {},
   "outputs": [
    {
     "data": {
      "text/html": [
       "<div>\n",
       "<style scoped>\n",
       "    .dataframe tbody tr th:only-of-type {\n",
       "        vertical-align: middle;\n",
       "    }\n",
       "\n",
       "    .dataframe tbody tr th {\n",
       "        vertical-align: top;\n",
       "    }\n",
       "\n",
       "    .dataframe thead th {\n",
       "        text-align: right;\n",
       "    }\n",
       "</style>\n",
       "<table border=\"1\" class=\"dataframe\">\n",
       "  <thead>\n",
       "    <tr style=\"text-align: right;\">\n",
       "      <th></th>\n",
       "      <th>Month</th>\n",
       "      <th>Deaths</th>\n",
       "    </tr>\n",
       "  </thead>\n",
       "  <tbody>\n",
       "    <tr>\n",
       "      <th>0</th>\n",
       "      <td>2020-02-01</td>\n",
       "      <td>4696</td>\n",
       "    </tr>\n",
       "    <tr>\n",
       "      <th>1</th>\n",
       "      <td>2020-03-01</td>\n",
       "      <td>5365</td>\n",
       "    </tr>\n",
       "    <tr>\n",
       "      <th>2</th>\n",
       "      <td>2020-04-01</td>\n",
       "      <td>6027</td>\n",
       "    </tr>\n",
       "    <tr>\n",
       "      <th>3</th>\n",
       "      <td>2020-05-01</td>\n",
       "      <td>7419</td>\n",
       "    </tr>\n",
       "    <tr>\n",
       "      <th>4</th>\n",
       "      <td>2020-06-01</td>\n",
       "      <td>6307</td>\n",
       "    </tr>\n",
       "    <tr>\n",
       "      <th>5</th>\n",
       "      <td>2020-07-01</td>\n",
       "      <td>6343</td>\n",
       "    </tr>\n",
       "    <tr>\n",
       "      <th>6</th>\n",
       "      <td>2020-08-01</td>\n",
       "      <td>6165</td>\n",
       "    </tr>\n",
       "    <tr>\n",
       "      <th>7</th>\n",
       "      <td>2020-09-01</td>\n",
       "      <td>5683</td>\n",
       "    </tr>\n",
       "    <tr>\n",
       "      <th>8</th>\n",
       "      <td>2020-10-01</td>\n",
       "      <td>5613</td>\n",
       "    </tr>\n",
       "    <tr>\n",
       "      <th>9</th>\n",
       "      <td>2020-11-01</td>\n",
       "      <td>5613</td>\n",
       "    </tr>\n",
       "    <tr>\n",
       "      <th>10</th>\n",
       "      <td>2020-12-01</td>\n",
       "      <td>5792</td>\n",
       "    </tr>\n",
       "  </tbody>\n",
       "</table>\n",
       "</div>"
      ],
      "text/plain": [
       "        Month  Deaths\n",
       "0  2020-02-01    4696\n",
       "1  2020-03-01    5365\n",
       "2  2020-04-01    6027\n",
       "3  2020-05-01    7419\n",
       "4  2020-06-01    6307\n",
       "5  2020-07-01    6343\n",
       "6  2020-08-01    6165\n",
       "7  2020-09-01    5683\n",
       "8  2020-10-01    5613\n",
       "9  2020-11-01    5613\n",
       "10 2020-12-01    5792"
      ]
     },
     "execution_count": 380,
     "metadata": {},
     "output_type": "execute_result"
    }
   ],
   "source": [
    "test"
   ]
  },
  {
   "cell_type": "code",
   "execution_count": 381,
   "id": "d1a9e17b-87b7-4d3c-9786-32098575e790",
   "metadata": {},
   "outputs": [],
   "source": [
    "import pandas as pd\n",
    "import numpy as np\n",
    "import matplotlib.pyplot as plt\n",
    "from sklearn.preprocessing import MinMaxScaler\n",
    "from keras.models import Sequential\n",
    "from keras.layers import LSTM, Dense\n",
    "from statsmodels.tsa.statespace.sarimax import SARIMAX\n",
    "from sklearn.metrics import mean_squared_error"
   ]
  },
  {
   "cell_type": "code",
   "execution_count": 382,
   "id": "4912897d-6caa-4215-a70f-4fb9d4da460d",
   "metadata": {},
   "outputs": [
    {
     "data": {
      "text/plain": [
       "[<matplotlib.lines.Line2D at 0x7fd650465150>]"
      ]
     },
     "execution_count": 382,
     "metadata": {},
     "output_type": "execute_result"
    },
    {
     "data": {
      "image/png": "[encoded data removed]",
      "text/plain": [
       "<Figure size 640x480 with 1 Axes>"
      ]
     },
     "metadata": {},
     "output_type": "display_data"
    }
   ],
   "source": [
    "plt.plot(df['Deaths'])"
   ]
  },
  {
   "cell_type": "code",
   "execution_count": 383,
   "id": "df13ca09-eaf2-477b-80e3-e1544ffaaf6d",
   "metadata": {},
   "outputs": [
    {
     "data": {
      "text/plain": [
       "[<matplotlib.lines.Line2D at 0x7fd6504c6470>]"
      ]
     },
     "execution_count": 383,
     "metadata": {},
     "output_type": "execute_result"
    },
    {
     "data": {
      "image/png": "[encoded data removed]",
      "text/plain": [
       "<Figure size 640x480 with 1 Axes>"
      ]
     },
     "metadata": {},
     "output_type": "display_data"
    }
   ],
   "source": [
    "plt.plot(train['Deaths'])"
   ]
  },
  {
   "cell_type": "code",
   "execution_count": 384,
   "id": "07d1026c-d0be-4abf-bbc1-d5b6c8693d20",
   "metadata": {},
   "outputs": [
    {
     "data": {
      "text/plain": [
       "[<matplotlib.lines.Line2D at 0x7fd653e3f3d0>]"
      ]
     },
     "execution_count": 384,
     "metadata": {},
     "output_type": "execute_result"
    },
    {
     "data": {
      "image/png": "[encoded data removed]",
      "text/plain": [
       "<Figure size 640x480 with 1 Axes>"
      ]
     },
     "metadata": {},
     "output_type": "display_data"
    }
   ],
   "source": [
    "plt.plot(test['Deaths'])"
   ]
  },
  {
   "cell_type": "code",
   "execution_count": 385,
   "id": "98da51e2-00a0-4d8c-b0be-f84c28e5c4c5",
   "metadata": {},
   "outputs": [],
   "source": [
    "import tensorflow as tf"
   ]
  },
  {
   "cell_type": "code",
   "execution_count": 386,
   "id": "8bab58ef-7c91-4521-b68c-00be98ab0043",
   "metadata": {},
   "outputs": [],
   "source": [
    "tf.random.set_seed(7)"
   ]
  },
  {
   "cell_type": "code",
   "execution_count": 387,
   "id": "cd5be8ee-42a0-4a53-a9dd-140ae6d45a8e",
   "metadata": {},
   "outputs": [
    {
     "data": {
      "text/plain": [
       "array([[Timestamp('2015-01-01 00:00:00'), 2771],\n",
       "       [Timestamp('2015-02-01 00:00:00'), 2627],\n",
       "       [Timestamp('2015-03-01 00:00:00'), 2907],\n",
       "       [Timestamp('2015-04-01 00:00:00'), 2822],\n",
       "       [Timestamp('2015-05-01 00:00:00'), 2850],\n",
       "       [Timestamp('2015-06-01 00:00:00'), 2634],\n",
       "       [Timestamp('2015-07-01 00:00:00'), 2734],\n",
       "       [Timestamp('2015-08-01 00:00:00'), 2810],\n",
       "       [Timestamp('2015-09-01 00:00:00'), 2925],\n",
       "       [Timestamp('2015-10-01 00:00:00'), 2970],\n",
       "       [Timestamp('2015-11-01 00:00:00'), 2739],\n",
       "       [Timestamp('2015-12-01 00:00:00'), 2718],\n",
       "       [Timestamp('2016-01-01 00:00:00'), 3098],\n",
       "       [Timestamp('2016-02-01 00:00:00'), 3416],\n",
       "       [Timestamp('2016-03-01 00:00:00'), 3721],\n",
       "       [Timestamp('2016-04-01 00:00:00'), 3608],\n",
       "       [Timestamp('2016-05-01 00:00:00'), 3475],\n",
       "       [Timestamp('2016-06-01 00:00:00'), 3384],\n",
       "       [Timestamp('2016-07-01 00:00:00'), 3668],\n",
       "       [Timestamp('2016-08-01 00:00:00'), 3624],\n",
       "       [Timestamp('2016-09-01 00:00:00'), 3518],\n",
       "       [Timestamp('2016-10-01 00:00:00'), 3695],\n",
       "       [Timestamp('2016-11-01 00:00:00'), 3745],\n",
       "       [Timestamp('2016-12-01 00:00:00'), 4044],\n",
       "       [Timestamp('2017-01-01 00:00:00'), 4332],\n",
       "       [Timestamp('2017-02-01 00:00:00'), 4006],\n",
       "       [Timestamp('2017-03-01 00:00:00'), 4252],\n",
       "       [Timestamp('2017-04-01 00:00:00'), 4056],\n",
       "       [Timestamp('2017-05-01 00:00:00'), 4129],\n",
       "       [Timestamp('2017-06-01 00:00:00'), 3950],\n",
       "       [Timestamp('2017-07-01 00:00:00'), 3980],\n",
       "       [Timestamp('2017-08-01 00:00:00'), 4000],\n",
       "       [Timestamp('2017-09-01 00:00:00'), 4022],\n",
       "       [Timestamp('2017-10-01 00:00:00'), 3832],\n",
       "       [Timestamp('2017-11-01 00:00:00'), 3820],\n",
       "       [Timestamp('2017-12-01 00:00:00'), 4017],\n",
       "       [Timestamp('2018-01-01 00:00:00'), 4008],\n",
       "       [Timestamp('2018-02-01 00:00:00'), 3671],\n",
       "       [Timestamp('2018-03-01 00:00:00'), 4155],\n",
       "       [Timestamp('2018-04-01 00:00:00'), 3922],\n",
       "       [Timestamp('2018-05-01 00:00:00'), 4079],\n",
       "       [Timestamp('2018-06-01 00:00:00'), 4063],\n",
       "       [Timestamp('2018-07-01 00:00:00'), 4085],\n",
       "       [Timestamp('2018-08-01 00:00:00'), 4061],\n",
       "       [Timestamp('2018-09-01 00:00:00'), 3882],\n",
       "       [Timestamp('2018-10-01 00:00:00'), 3999],\n",
       "       [Timestamp('2018-11-01 00:00:00'), 3692],\n",
       "       [Timestamp('2018-12-01 00:00:00'), 3976],\n",
       "       [Timestamp('2019-01-01 00:00:00'), 3931],\n",
       "       [Timestamp('2019-02-01 00:00:00'), 3727],\n",
       "       [Timestamp('2019-03-01 00:00:00'), 4285],\n",
       "       [Timestamp('2019-04-01 00:00:00'), 3934],\n",
       "       [Timestamp('2019-05-01 00:00:00'), 4100],\n",
       "       [Timestamp('2019-06-01 00:00:00'), 4112],\n",
       "       [Timestamp('2019-07-01 00:00:00'), 4296],\n",
       "       [Timestamp('2019-08-01 00:00:00'), 4371],\n",
       "       [Timestamp('2019-09-01 00:00:00'), 4252],\n",
       "       [Timestamp('2019-10-01 00:00:00'), 4529],\n",
       "       [Timestamp('2019-11-01 00:00:00'), 4560],\n",
       "       [Timestamp('2019-12-01 00:00:00'), 4645],\n",
       "       [Timestamp('2020-01-01 00:00:00'), 4727],\n",
       "       [Timestamp('2020-02-01 00:00:00'), 4696],\n",
       "       [Timestamp('2020-03-01 00:00:00'), 5365],\n",
       "       [Timestamp('2020-04-01 00:00:00'), 6027],\n",
       "       [Timestamp('2020-05-01 00:00:00'), 7419],\n",
       "       [Timestamp('2020-06-01 00:00:00'), 6307],\n",
       "       [Timestamp('2020-07-01 00:00:00'), 6343],\n",
       "       [Timestamp('2020-08-01 00:00:00'), 6165],\n",
       "       [Timestamp('2020-09-01 00:00:00'), 5683],\n",
       "       [Timestamp('2020-10-01 00:00:00'), 5613],\n",
       "       [Timestamp('2020-11-01 00:00:00'), 5613],\n",
       "       [Timestamp('2020-12-01 00:00:00'), 5792]], dtype=object)"
      ]
     },
     "execution_count": 387,
     "metadata": {},
     "output_type": "execute_result"
    }
   ],
   "source": [
    "df.values"
   ]
  },
  {
   "cell_type": "code",
   "execution_count": 388,
   "id": "fa964fdb-d5ea-4a39-bbaf-ba905fb65386",
   "metadata": {},
   "outputs": [],
   "source": [
    "# #With normalization\n",
    "# scaler = MinMaxScaler(feature_range=(0, 1))\n",
    "# dataset = scaler.fit_transform(df)"
   ]
  },
  {
   "cell_type": "code",
   "execution_count": 389,
   "id": "8ccb8056-0766-428a-a35d-967e6adab0d0",
   "metadata": {},
   "outputs": [],
   "source": [
    "# convert an array of values into a dataset matrix\n",
    "def create_dataset(dataset, look_back=1):\n",
    "\tdataX, dataY = [], []\n",
    "\tfor i in range(len(dataset)-look_back):\n",
    "\t\ta = dataset.iloc[i:(i+look_back)] #, 0]\n",
    "\t\tdataX.append(a)\n",
    "\t\tdataY.append(dataset.iloc[i + look_back])#, 0])\n",
    "\treturn np.array(dataX), np.array(dataY)"
   ]
  },
  {
   "cell_type": "code",
   "execution_count": 390,
   "id": "3c5c8348-daaf-4724-ac16-506bfa694708",
   "metadata": {},
   "outputs": [],
   "source": [
    "look_back = 1\n",
    "trainX, trainY = create_dataset(train['Deaths'], look_back)\n",
    "testX, testY = create_dataset(test['Deaths'], look_back)"
   ]
  },
  {
   "cell_type": "code",
   "execution_count": 391,
   "id": "2e244f26-f45b-4e27-9d6d-7bc26ed400eb",
   "metadata": {},
   "outputs": [
    {
     "data": {
      "text/plain": [
       "62"
      ]
     },
     "execution_count": 391,
     "metadata": {},
     "output_type": "execute_result"
    }
   ],
   "source": [
    "len(train)"
   ]
  },
  {
   "cell_type": "code",
   "execution_count": 392,
   "id": "21418f4f-1e05-4b23-acaf-52d41c04bd8c",
   "metadata": {},
   "outputs": [
    {
     "data": {
      "text/plain": [
       "61"
      ]
     },
     "execution_count": 392,
     "metadata": {},
     "output_type": "execute_result"
    }
   ],
   "source": [
    "len(trainX)"
   ]
  },
  {
   "cell_type": "code",
   "execution_count": 393,
   "id": "55a0be86-be87-4387-bfe3-0f727c94f94d",
   "metadata": {},
   "outputs": [
    {
     "data": {
      "text/plain": [
       "61"
      ]
     },
     "execution_count": 393,
     "metadata": {},
     "output_type": "execute_result"
    }
   ],
   "source": [
    "len(trainY)"
   ]
  },
  {
   "cell_type": "code",
   "execution_count": 394,
   "id": "7f9ca3bd-646c-4e55-a508-3582f146b205",
   "metadata": {},
   "outputs": [
    {
     "data": {
      "text/plain": [
       "array([[4696],\n",
       "       [5365],\n",
       "       [6027],\n",
       "       [7419],\n",
       "       [6307],\n",
       "       [6343],\n",
       "       [6165],\n",
       "       [5683],\n",
       "       [5613],\n",
       "       [5613]])"
      ]
     },
     "execution_count": 394,
     "metadata": {},
     "output_type": "execute_result"
    }
   ],
   "source": [
    "testX"
   ]
  },
  {
   "cell_type": "code",
   "execution_count": 395,
   "id": "93b5ccd5-d42f-4b45-8384-d911ebac8d97",
   "metadata": {},
   "outputs": [
    {
     "name": "stdout",
     "output_type": "stream",
     "text": [
      "[2771] 2627\n",
      "[2627] 2907\n",
      "[2907] 2822\n",
      "[2822] 2850\n",
      "[2850] 2634\n",
      "[2634] 2734\n",
      "[2734] 2810\n",
      "[2810] 2925\n",
      "[2925] 2970\n",
      "[2970] 2739\n",
      "[2739] 2718\n",
      "[2718] 3098\n",
      "[3098] 3416\n",
      "[3416] 3721\n",
      "[3721] 3608\n",
      "[3608] 3475\n",
      "[3475] 3384\n",
      "[3384] 3668\n",
      "[3668] 3624\n",
      "[3624] 3518\n",
      "[3518] 3695\n",
      "[3695] 3745\n",
      "[3745] 4044\n",
      "[4044] 4332\n",
      "[4332] 4006\n",
      "[4006] 4252\n",
      "[4252] 4056\n",
      "[4056] 4129\n",
      "[4129] 3950\n",
      "[3950] 3980\n",
      "[3980] 4000\n",
      "[4000] 4022\n",
      "[4022] 3832\n",
      "[3832] 3820\n",
      "[3820] 4017\n",
      "[4017] 4008\n",
      "[4008] 3671\n",
      "[3671] 4155\n",
      "[4155] 3922\n",
      "[3922] 4079\n",
      "[4079] 4063\n",
      "[4063] 4085\n",
      "[4085] 4061\n",
      "[4061] 3882\n",
      "[3882] 3999\n",
      "[3999] 3692\n",
      "[3692] 3976\n",
      "[3976] 3931\n",
      "[3931] 3727\n",
      "[3727] 4285\n",
      "[4285] 3934\n",
      "[3934] 4100\n",
      "[4100] 4112\n",
      "[4112] 4296\n",
      "[4296] 4371\n",
      "[4371] 4252\n",
      "[4252] 4529\n",
      "[4529] 4560\n",
      "[4560] 4645\n",
      "[4645] 4727\n",
      "[4727] 4696\n"
     ]
    }
   ],
   "source": [
    "for i in range(len(trainX)):\n",
    "    print(trainX[i], trainY[i])"
   ]
  },
  {
   "cell_type": "code",
   "execution_count": 363,
   "id": "35f88e16-b3f2-4e98-8e7b-6eb9e4dcb480",
   "metadata": {},
   "outputs": [
    {
     "name": "stdout",
     "output_type": "stream",
     "text": [
      "Epoch 1/100\n"
     ]
    },
    {
     "name": "stderr",
     "output_type": "stream",
     "text": [
      "/home/sukikrishna/.local/lib/python3.10/site-packages/keras/src/layers/rnn/rnn.py:204: UserWarning: Do not pass an `input_shape`/`input_dim` argument to a layer. When using Sequential models, prefer using an `Input(shape)` object as the first layer in the model instead.\n",
      "  super().__init__(**kwargs)\n"
     ]
    },
    {
     "name": "stdout",
     "output_type": "stream",
     "text": [
      "\u001b[1m61/61\u001b[0m \u001b[32m━━━━━━━━━━━━━━━━━━━━\u001b[0m\u001b[37m\u001b[0m \u001b[1m2s\u001b[0m 8ms/step - loss: 13314687.0000\n",
      "Epoch 2/100\n",
      "\u001b[1m61/61\u001b[0m \u001b[32m━━━━━━━━━━━━━━━━━━━━\u001b[0m\u001b[37m\u001b[0m \u001b[1m0s\u001b[0m 3ms/step - loss: 10649589.0000\n",
      "Epoch 3/100\n",
      "\u001b[1m61/61\u001b[0m \u001b[32m━━━━━━━━━━━━━━━━━━━━\u001b[0m\u001b[37m\u001b[0m \u001b[1m0s\u001b[0m 2ms/step - loss: 7598318.5000\n",
      "Epoch 4/100\n",
      "\u001b[1m61/61\u001b[0m \u001b[32m━━━━━━━━━━━━━━━━━━━━\u001b[0m\u001b[37m\u001b[0m \u001b[1m0s\u001b[0m 2ms/step - loss: 4407593.0000\n",
      "Epoch 5/100\n",
      "\u001b[1m61/61\u001b[0m \u001b[32m━━━━━━━━━━━━━━━━━━━━\u001b[0m\u001b[37m\u001b[0m \u001b[1m0s\u001b[0m 2ms/step - loss: 1893722.6250\n",
      "Epoch 6/100\n",
      "\u001b[1m61/61\u001b[0m \u001b[32m━━━━━━━━━━━━━━━━━━━━\u001b[0m\u001b[37m\u001b[0m \u001b[1m0s\u001b[0m 2ms/step - loss: 579256.7500\n",
      "Epoch 7/100\n",
      "\u001b[1m61/61\u001b[0m \u001b[32m━━━━━━━━━━━━━━━━━━━━\u001b[0m\u001b[37m\u001b[0m \u001b[1m0s\u001b[0m 2ms/step - loss: 154995.5469\n",
      "Epoch 8/100\n",
      "\u001b[1m61/61\u001b[0m \u001b[32m━━━━━━━━━━━━━━━━━━━━\u001b[0m\u001b[37m\u001b[0m \u001b[1m0s\u001b[0m 2ms/step - loss: 67434.1250\n",
      "Epoch 9/100\n",
      "\u001b[1m61/61\u001b[0m \u001b[32m━━━━━━━━━━━━━━━━━━━━\u001b[0m\u001b[37m\u001b[0m \u001b[1m0s\u001b[0m 2ms/step - loss: 52905.2969\n",
      "Epoch 10/100\n",
      "\u001b[1m61/61\u001b[0m \u001b[32m━━━━━━━━━━━━━━━━━━━━\u001b[0m\u001b[37m\u001b[0m \u001b[1m0s\u001b[0m 2ms/step - loss: 50317.6719\n",
      "Epoch 11/100\n",
      "\u001b[1m61/61\u001b[0m \u001b[32m━━━━━━━━━━━━━━━━━━━━\u001b[0m\u001b[37m\u001b[0m \u001b[1m0s\u001b[0m 2ms/step - loss: 49837.8828\n",
      "Epoch 12/100\n",
      "\u001b[1m61/61\u001b[0m \u001b[32m━━━━━━━━━━━━━━━━━━━━\u001b[0m\u001b[37m\u001b[0m \u001b[1m0s\u001b[0m 2ms/step - loss: 49784.4766\n",
      "Epoch 13/100\n",
      "\u001b[1m61/61\u001b[0m \u001b[32m━━━━━━━━━━━━━━━━━━━━\u001b[0m\u001b[37m\u001b[0m \u001b[1m0s\u001b[0m 2ms/step - loss: 49813.6016\n",
      "Epoch 14/100\n",
      "\u001b[1m61/61\u001b[0m \u001b[32m━━━━━━━━━━━━━━━━━━━━\u001b[0m\u001b[37m\u001b[0m \u001b[1m0s\u001b[0m 2ms/step - loss: 49856.0391\n",
      "Epoch 15/100\n",
      "\u001b[1m61/61\u001b[0m \u001b[32m━━━━━━━━━━━━━━━━━━━━\u001b[0m\u001b[37m\u001b[0m \u001b[1m0s\u001b[0m 2ms/step - loss: 49899.6445\n",
      "Epoch 16/100\n",
      "\u001b[1m61/61\u001b[0m \u001b[32m━━━━━━━━━━━━━━━━━━━━\u001b[0m\u001b[37m\u001b[0m \u001b[1m0s\u001b[0m 2ms/step - loss: 49943.0312\n",
      "Epoch 17/100\n",
      "\u001b[1m61/61\u001b[0m \u001b[32m━━━━━━━━━━━━━━━━━━━━\u001b[0m\u001b[37m\u001b[0m \u001b[1m0s\u001b[0m 2ms/step - loss: 49985.7930\n",
      "Epoch 18/100\n",
      "\u001b[1m61/61\u001b[0m \u001b[32m━━━━━━━━━━━━━━━━━━━━\u001b[0m\u001b[37m\u001b[0m \u001b[1m0s\u001b[0m 2ms/step - loss: 50028.1133\n",
      "Epoch 19/100\n",
      "\u001b[1m61/61\u001b[0m \u001b[32m━━━━━━━━━━━━━━━━━━━━\u001b[0m\u001b[37m\u001b[0m \u001b[1m0s\u001b[0m 2ms/step - loss: 50002.4375\n",
      "Epoch 20/100\n",
      "\u001b[1m61/61\u001b[0m \u001b[32m━━━━━━━━━━━━━━━━━━━━\u001b[0m\u001b[37m\u001b[0m \u001b[1m0s\u001b[0m 2ms/step - loss: 50111.4102\n",
      "Epoch 21/100\n",
      "\u001b[1m61/61\u001b[0m \u001b[32m━━━━━━━━━━━━━━━━━━━━\u001b[0m\u001b[37m\u001b[0m \u001b[1m0s\u001b[0m 2ms/step - loss: 50152.4062\n",
      "Epoch 22/100\n",
      "\u001b[1m61/61\u001b[0m \u001b[32m━━━━━━━━━━━━━━━━━━━━\u001b[0m\u001b[37m\u001b[0m \u001b[1m0s\u001b[0m 2ms/step - loss: 50193.0078\n",
      "Epoch 23/100\n",
      "\u001b[1m61/61\u001b[0m \u001b[32m━━━━━━━━━━━━━━━━━━━━\u001b[0m\u001b[37m\u001b[0m \u001b[1m0s\u001b[0m 2ms/step - loss: 50233.1484\n",
      "Epoch 24/100\n",
      "\u001b[1m61/61\u001b[0m \u001b[32m━━━━━━━━━━━━━━━━━━━━\u001b[0m\u001b[37m\u001b[0m \u001b[1m0s\u001b[0m 2ms/step - loss: 50037.4922\n",
      "Epoch 25/100\n",
      "\u001b[1m61/61\u001b[0m \u001b[32m━━━━━━━━━━━━━━━━━━━━\u001b[0m\u001b[37m\u001b[0m \u001b[1m0s\u001b[0m 2ms/step - loss: 50312.3008\n",
      "Epoch 26/100\n",
      "\u001b[1m61/61\u001b[0m \u001b[32m━━━━━━━━━━━━━━━━━━━━\u001b[0m\u001b[37m\u001b[0m \u001b[1m0s\u001b[0m 2ms/step - loss: 50351.1680\n",
      "Epoch 27/100\n",
      "\u001b[1m61/61\u001b[0m \u001b[32m━━━━━━━━━━━━━━━━━━━━\u001b[0m\u001b[37m\u001b[0m \u001b[1m0s\u001b[0m 2ms/step - loss: 50389.6641\n",
      "Epoch 28/100\n",
      "\u001b[1m61/61\u001b[0m \u001b[32m━━━━━━━━━━━━━━━━━━━━\u001b[0m\u001b[37m\u001b[0m \u001b[1m0s\u001b[0m 2ms/step - loss: 50427.6953\n",
      "Epoch 29/100\n",
      "\u001b[1m61/61\u001b[0m \u001b[32m━━━━━━━━━━━━━━━━━━━━\u001b[0m\u001b[37m\u001b[0m \u001b[1m0s\u001b[0m 2ms/step - loss: 50465.1680\n",
      "Epoch 30/100\n",
      "\u001b[1m61/61\u001b[0m \u001b[32m━━━━━━━━━━━━━━━━━━━━\u001b[0m\u001b[37m\u001b[0m \u001b[1m0s\u001b[0m 2ms/step - loss: 50429.8242\n",
      "Epoch 31/100\n",
      "\u001b[1m61/61\u001b[0m \u001b[32m━━━━━━━━━━━━━━━━━━━━\u001b[0m\u001b[37m\u001b[0m \u001b[1m0s\u001b[0m 2ms/step - loss: 50538.6953\n",
      "Epoch 32/100\n",
      "\u001b[1m61/61\u001b[0m \u001b[32m━━━━━━━━━━━━━━━━━━━━\u001b[0m\u001b[37m\u001b[0m \u001b[1m0s\u001b[0m 2ms/step - loss: 50574.6172\n",
      "Epoch 33/100\n",
      "\u001b[1m61/61\u001b[0m \u001b[32m━━━━━━━━━━━━━━━━━━━━\u001b[0m\u001b[37m\u001b[0m \u001b[1m0s\u001b[0m 2ms/step - loss: 50609.9688\n",
      "Epoch 34/100\n",
      "\u001b[1m61/61\u001b[0m \u001b[32m━━━━━━━━━━━━━━━━━━━━\u001b[0m\u001b[37m\u001b[0m \u001b[1m0s\u001b[0m 2ms/step - loss: 50644.7461\n",
      "Epoch 35/100\n",
      "\u001b[1m61/61\u001b[0m \u001b[32m━━━━━━━━━━━━━━━━━━━━\u001b[0m\u001b[37m\u001b[0m \u001b[1m0s\u001b[0m 2ms/step - loss: 50678.9258\n",
      "Epoch 36/100\n",
      "\u001b[1m61/61\u001b[0m \u001b[32m━━━━━━━━━━━━━━━━━━━━\u001b[0m\u001b[37m\u001b[0m \u001b[1m0s\u001b[0m 2ms/step - loss: 50712.3984\n",
      "Epoch 37/100\n",
      "\u001b[1m61/61\u001b[0m \u001b[32m━━━━━━━━━━━━━━━━━━━━\u001b[0m\u001b[37m\u001b[0m \u001b[1m0s\u001b[0m 2ms/step - loss: 50761.3750\n",
      "Epoch 38/100\n",
      "\u001b[1m61/61\u001b[0m \u001b[32m━━━━━━━━━━━━━━━━━━━━\u001b[0m\u001b[37m\u001b[0m \u001b[1m0s\u001b[0m 2ms/step - loss: 50777.3398\n",
      "Epoch 39/100\n",
      "\u001b[1m61/61\u001b[0m \u001b[32m━━━━━━━━━━━━━━━━━━━━\u001b[0m\u001b[37m\u001b[0m \u001b[1m0s\u001b[0m 2ms/step - loss: 50808.7383\n",
      "Epoch 40/100\n",
      "\u001b[1m61/61\u001b[0m \u001b[32m━━━━━━━━━━━━━━━━━━━━\u001b[0m\u001b[37m\u001b[0m \u001b[1m0s\u001b[0m 2ms/step - loss: 50839.4844\n",
      "Epoch 41/100\n",
      "\u001b[1m61/61\u001b[0m \u001b[32m━━━━━━━━━━━━━━━━━━━━\u001b[0m\u001b[37m\u001b[0m \u001b[1m0s\u001b[0m 2ms/step - loss: 50869.4141\n",
      "Epoch 42/100\n",
      "\u001b[1m61/61\u001b[0m \u001b[32m━━━━━━━━━━━━━━━━━━━━\u001b[0m\u001b[37m\u001b[0m \u001b[1m0s\u001b[0m 2ms/step - loss: 50898.6016\n",
      "Epoch 43/100\n",
      "\u001b[1m61/61\u001b[0m \u001b[32m━━━━━━━━━━━━━━━━━━━━\u001b[0m\u001b[37m\u001b[0m \u001b[1m0s\u001b[0m 2ms/step - loss: 50926.9648\n",
      "Epoch 44/100\n",
      "\u001b[1m61/61\u001b[0m \u001b[32m━━━━━━━━━━━━━━━━━━━━\u001b[0m\u001b[37m\u001b[0m \u001b[1m0s\u001b[0m 2ms/step - loss: 50954.6562\n",
      "Epoch 45/100\n",
      "\u001b[1m61/61\u001b[0m \u001b[32m━━━━━━━━━━━━━━━━━━━━\u001b[0m\u001b[37m\u001b[0m \u001b[1m0s\u001b[0m 2ms/step - loss: 50906.5234\n",
      "Epoch 46/100\n",
      "\u001b[1m61/61\u001b[0m \u001b[32m━━━━━━━━━━━━━━━━━━━━\u001b[0m\u001b[37m\u001b[0m \u001b[1m0s\u001b[0m 2ms/step - loss: 51007.5000\n",
      "Epoch 47/100\n",
      "\u001b[1m61/61\u001b[0m \u001b[32m━━━━━━━━━━━━━━━━━━━━\u001b[0m\u001b[37m\u001b[0m \u001b[1m0s\u001b[0m 2ms/step - loss: 51032.7031\n",
      "Epoch 48/100\n",
      "\u001b[1m61/61\u001b[0m \u001b[32m━━━━━━━━━━━━━━━━━━━━\u001b[0m\u001b[37m\u001b[0m \u001b[1m0s\u001b[0m 2ms/step - loss: 51057.0430\n",
      "Epoch 49/100\n",
      "\u001b[1m61/61\u001b[0m \u001b[32m━━━━━━━━━━━━━━━━━━━━\u001b[0m\u001b[37m\u001b[0m \u001b[1m0s\u001b[0m 3ms/step - loss: 51080.7227\n",
      "Epoch 50/100\n",
      "\u001b[1m61/61\u001b[0m \u001b[32m━━━━━━━━━━━━━━━━━━━━\u001b[0m\u001b[37m\u001b[0m \u001b[1m0s\u001b[0m 2ms/step - loss: 51103.4492\n",
      "Epoch 51/100\n",
      "\u001b[1m61/61\u001b[0m \u001b[32m━━━━━━━━━━━━━━━━━━━━\u001b[0m\u001b[37m\u001b[0m \u001b[1m0s\u001b[0m 2ms/step - loss: 51125.3867\n",
      "Epoch 52/100\n",
      "\u001b[1m61/61\u001b[0m \u001b[32m━━━━━━━━━━━━━━━━━━━━\u001b[0m\u001b[37m\u001b[0m \u001b[1m0s\u001b[0m 2ms/step - loss: 51146.5781\n",
      "Epoch 53/100\n",
      "\u001b[1m61/61\u001b[0m \u001b[32m━━━━━━━━━━━━━━━━━━━━\u001b[0m\u001b[37m\u001b[0m \u001b[1m0s\u001b[0m 2ms/step - loss: 51166.9570\n",
      "Epoch 54/100\n",
      "\u001b[1m61/61\u001b[0m \u001b[32m━━━━━━━━━━━━━━━━━━━━\u001b[0m\u001b[37m\u001b[0m \u001b[1m0s\u001b[0m 2ms/step - loss: 51186.5859\n",
      "Epoch 55/100\n",
      "\u001b[1m61/61\u001b[0m \u001b[32m━━━━━━━━━━━━━━━━━━━━\u001b[0m\u001b[37m\u001b[0m \u001b[1m0s\u001b[0m 2ms/step - loss: 51205.4062\n",
      "Epoch 56/100\n",
      "\u001b[1m61/61\u001b[0m \u001b[32m━━━━━━━━━━━━━━━━━━━━\u001b[0m\u001b[37m\u001b[0m \u001b[1m0s\u001b[0m 2ms/step - loss: 51223.4648\n",
      "Epoch 57/100\n",
      "\u001b[1m61/61\u001b[0m \u001b[32m━━━━━━━━━━━━━━━━━━━━\u001b[0m\u001b[37m\u001b[0m \u001b[1m0s\u001b[0m 2ms/step - loss: 51240.8008\n",
      "Epoch 58/100\n",
      "\u001b[1m61/61\u001b[0m \u001b[32m━━━━━━━━━━━━━━━━━━━━\u001b[0m\u001b[37m\u001b[0m \u001b[1m0s\u001b[0m 2ms/step - loss: 51257.4062\n",
      "Epoch 59/100\n",
      "\u001b[1m61/61\u001b[0m \u001b[32m━━━━━━━━━━━━━━━━━━━━\u001b[0m\u001b[37m\u001b[0m \u001b[1m0s\u001b[0m 2ms/step - loss: 51273.3633\n",
      "Epoch 60/100\n",
      "\u001b[1m61/61\u001b[0m \u001b[32m━━━━━━━━━━━━━━━━━━━━\u001b[0m\u001b[37m\u001b[0m \u001b[1m0s\u001b[0m 2ms/step - loss: 51288.5391\n",
      "Epoch 61/100\n",
      "\u001b[1m61/61\u001b[0m \u001b[32m━━━━━━━━━━━━━━━━━━━━\u001b[0m\u001b[37m\u001b[0m \u001b[1m0s\u001b[0m 2ms/step - loss: 51324.1992\n",
      "Epoch 62/100\n",
      "\u001b[1m61/61\u001b[0m \u001b[32m━━━━━━━━━━━━━━━━━━━━\u001b[0m\u001b[37m\u001b[0m \u001b[1m0s\u001b[0m 2ms/step - loss: 51316.9297\n",
      "Epoch 63/100\n",
      "\u001b[1m61/61\u001b[0m \u001b[32m━━━━━━━━━━━━━━━━━━━━\u001b[0m\u001b[37m\u001b[0m \u001b[1m0s\u001b[0m 2ms/step - loss: 51330.1328\n",
      "Epoch 64/100\n",
      "\u001b[1m61/61\u001b[0m \u001b[32m━━━━━━━━━━━━━━━━━━━━\u001b[0m\u001b[37m\u001b[0m \u001b[1m0s\u001b[0m 2ms/step - loss: 51342.7578\n",
      "Epoch 65/100\n",
      "\u001b[1m61/61\u001b[0m \u001b[32m━━━━━━━━━━━━━━━━━━━━\u001b[0m\u001b[37m\u001b[0m \u001b[1m0s\u001b[0m 2ms/step - loss: 51354.7930\n",
      "Epoch 66/100\n",
      "\u001b[1m61/61\u001b[0m \u001b[32m━━━━━━━━━━━━━━━━━━━━\u001b[0m\u001b[37m\u001b[0m \u001b[1m0s\u001b[0m 2ms/step - loss: 51366.1953\n",
      "Epoch 67/100\n",
      "\u001b[1m61/61\u001b[0m \u001b[32m━━━━━━━━━━━━━━━━━━━━\u001b[0m\u001b[37m\u001b[0m \u001b[1m0s\u001b[0m 2ms/step - loss: 51377.1289\n",
      "Epoch 68/100\n",
      "\u001b[1m61/61\u001b[0m \u001b[32m━━━━━━━━━━━━━━━━━━━━\u001b[0m\u001b[37m\u001b[0m \u001b[1m0s\u001b[0m 2ms/step - loss: 51387.4258\n",
      "Epoch 69/100\n",
      "\u001b[1m61/61\u001b[0m \u001b[32m━━━━━━━━━━━━━━━━━━━━\u001b[0m\u001b[37m\u001b[0m \u001b[1m0s\u001b[0m 2ms/step - loss: 51319.8086\n",
      "Epoch 70/100\n",
      "\u001b[1m61/61\u001b[0m \u001b[32m━━━━━━━━━━━━━━━━━━━━\u001b[0m\u001b[37m\u001b[0m \u001b[1m0s\u001b[0m 2ms/step - loss: 51406.6094\n",
      "Epoch 71/100\n",
      "\u001b[1m61/61\u001b[0m \u001b[32m━━━━━━━━━━━━━━━━━━━━\u001b[0m\u001b[37m\u001b[0m \u001b[1m0s\u001b[0m 2ms/step - loss: 51415.4492\n",
      "Epoch 72/100\n",
      "\u001b[1m61/61\u001b[0m \u001b[32m━━━━━━━━━━━━━━━━━━━━\u001b[0m\u001b[37m\u001b[0m \u001b[1m0s\u001b[0m 2ms/step - loss: 51423.7969\n",
      "Epoch 73/100\n",
      "\u001b[1m61/61\u001b[0m \u001b[32m━━━━━━━━━━━━━━━━━━━━\u001b[0m\u001b[37m\u001b[0m \u001b[1m0s\u001b[0m 2ms/step - loss: 51467.0273\n",
      "Epoch 74/100\n",
      "\u001b[1m61/61\u001b[0m \u001b[32m━━━━━━━━━━━━━━━━━━━━\u001b[0m\u001b[37m\u001b[0m \u001b[1m0s\u001b[0m 2ms/step - loss: 51439.3398\n",
      "Epoch 75/100\n",
      "\u001b[1m61/61\u001b[0m \u001b[32m━━━━━━━━━━━━━━━━━━━━\u001b[0m\u001b[37m\u001b[0m \u001b[1m0s\u001b[0m 2ms/step - loss: 51446.4727\n",
      "Epoch 76/100\n",
      "\u001b[1m61/61\u001b[0m \u001b[32m━━━━━━━━━━━━━━━━━━━━\u001b[0m\u001b[37m\u001b[0m \u001b[1m0s\u001b[0m 2ms/step - loss: 51453.2070\n",
      "Epoch 77/100\n",
      "\u001b[1m61/61\u001b[0m \u001b[32m━━━━━━━━━━━━━━━━━━━━\u001b[0m\u001b[37m\u001b[0m \u001b[1m0s\u001b[0m 2ms/step - loss: 51459.5938\n",
      "Epoch 78/100\n",
      "\u001b[1m61/61\u001b[0m \u001b[32m━━━━━━━━━━━━━━━━━━━━\u001b[0m\u001b[37m\u001b[0m \u001b[1m0s\u001b[0m 2ms/step - loss: 51465.6797\n",
      "Epoch 79/100\n",
      "\u001b[1m61/61\u001b[0m \u001b[32m━━━━━━━━━━━━━━━━━━━━\u001b[0m\u001b[37m\u001b[0m \u001b[1m0s\u001b[0m 2ms/step - loss: 51471.3945\n",
      "Epoch 80/100\n",
      "\u001b[1m61/61\u001b[0m \u001b[32m━━━━━━━━━━━━━━━━━━━━\u001b[0m\u001b[37m\u001b[0m \u001b[1m0s\u001b[0m 2ms/step - loss: 51476.7578\n",
      "Epoch 81/100\n",
      "\u001b[1m61/61\u001b[0m \u001b[32m━━━━━━━━━━━━━━━━━━━━\u001b[0m\u001b[37m\u001b[0m \u001b[1m0s\u001b[0m 2ms/step - loss: 51481.8672\n",
      "Epoch 82/100\n",
      "\u001b[1m61/61\u001b[0m \u001b[32m━━━━━━━━━━━━━━━━━━━━\u001b[0m\u001b[37m\u001b[0m \u001b[1m0s\u001b[0m 1ms/step - loss: 51486.6836\n",
      "Epoch 83/100\n",
      "\u001b[1m61/61\u001b[0m \u001b[32m━━━━━━━━━━━━━━━━━━━━\u001b[0m\u001b[37m\u001b[0m \u001b[1m0s\u001b[0m 2ms/step - loss: 51491.2734\n",
      "Epoch 84/100\n",
      "\u001b[1m61/61\u001b[0m \u001b[32m━━━━━━━━━━━━━━━━━━━━\u001b[0m\u001b[37m\u001b[0m \u001b[1m0s\u001b[0m 2ms/step - loss: 51495.5273\n",
      "Epoch 85/100\n",
      "\u001b[1m61/61\u001b[0m \u001b[32m━━━━━━━━━━━━━━━━━━━━\u001b[0m\u001b[37m\u001b[0m \u001b[1m0s\u001b[0m 2ms/step - loss: 51499.6289\n",
      "Epoch 86/100\n",
      "\u001b[1m61/61\u001b[0m \u001b[32m━━━━━━━━━━━━━━━━━━━━\u001b[0m\u001b[37m\u001b[0m \u001b[1m0s\u001b[0m 2ms/step - loss: 51503.3828\n",
      "Epoch 87/100\n",
      "\u001b[1m61/61\u001b[0m \u001b[32m━━━━━━━━━━━━━━━━━━━━\u001b[0m\u001b[37m\u001b[0m \u001b[1m0s\u001b[0m 2ms/step - loss: 51506.9805\n",
      "Epoch 88/100\n",
      "\u001b[1m61/61\u001b[0m \u001b[32m━━━━━━━━━━━━━━━━━━━━\u001b[0m\u001b[37m\u001b[0m \u001b[1m0s\u001b[0m 2ms/step - loss: 51510.4141\n",
      "Epoch 89/100\n",
      "\u001b[1m61/61\u001b[0m \u001b[32m━━━━━━━━━━━━━━━━━━━━\u001b[0m\u001b[37m\u001b[0m \u001b[1m0s\u001b[0m 2ms/step - loss: 51513.5625\n",
      "Epoch 90/100\n",
      "\u001b[1m61/61\u001b[0m \u001b[32m━━━━━━━━━━━━━━━━━━━━\u001b[0m\u001b[37m\u001b[0m \u001b[1m0s\u001b[0m 2ms/step - loss: 51516.5938\n",
      "Epoch 91/100\n",
      "\u001b[1m61/61\u001b[0m \u001b[32m━━━━━━━━━━━━━━━━━━━━\u001b[0m\u001b[37m\u001b[0m \u001b[1m0s\u001b[0m 2ms/step - loss: 51519.4297\n",
      "Epoch 92/100\n",
      "\u001b[1m61/61\u001b[0m \u001b[32m━━━━━━━━━━━━━━━━━━━━\u001b[0m\u001b[37m\u001b[0m \u001b[1m0s\u001b[0m 2ms/step - loss: 51522.0859\n",
      "Epoch 93/100\n",
      "\u001b[1m61/61\u001b[0m \u001b[32m━━━━━━━━━━━━━━━━━━━━\u001b[0m\u001b[37m\u001b[0m \u001b[1m0s\u001b[0m 2ms/step - loss: 51524.5703\n",
      "Epoch 94/100\n",
      "\u001b[1m61/61\u001b[0m \u001b[32m━━━━━━━━━━━━━━━━━━━━\u001b[0m\u001b[37m\u001b[0m \u001b[1m0s\u001b[0m 2ms/step - loss: 51526.9453\n",
      "Epoch 95/100\n",
      "\u001b[1m61/61\u001b[0m \u001b[32m━━━━━━━━━━━━━━━━━━━━\u001b[0m\u001b[37m\u001b[0m \u001b[1m0s\u001b[0m 2ms/step - loss: 51529.1445\n",
      "Epoch 96/100\n",
      "\u001b[1m61/61\u001b[0m \u001b[32m━━━━━━━━━━━━━━━━━━━━\u001b[0m\u001b[37m\u001b[0m \u001b[1m0s\u001b[0m 2ms/step - loss: 51531.2734\n",
      "Epoch 97/100\n",
      "\u001b[1m61/61\u001b[0m \u001b[32m━━━━━━━━━━━━━━━━━━━━\u001b[0m\u001b[37m\u001b[0m \u001b[1m0s\u001b[0m 2ms/step - loss: 51533.2852\n",
      "Epoch 98/100\n",
      "\u001b[1m61/61\u001b[0m \u001b[32m━━━━━━━━━━━━━━━━━━━━\u001b[0m\u001b[37m\u001b[0m \u001b[1m0s\u001b[0m 2ms/step - loss: 51535.0664\n",
      "Epoch 99/100\n",
      "\u001b[1m61/61\u001b[0m \u001b[32m━━━━━━━━━━━━━━━━━━━━\u001b[0m\u001b[37m\u001b[0m \u001b[1m0s\u001b[0m 2ms/step - loss: 51536.8008\n",
      "Epoch 100/100\n",
      "\u001b[1m61/61\u001b[0m \u001b[32m━━━━━━━━━━━━━━━━━━━━\u001b[0m\u001b[37m\u001b[0m \u001b[1m0s\u001b[0m 2ms/step - loss: 51538.4531\n"
     ]
    },
    {
     "data": {
      "text/plain": [
       "<keras.src.callbacks.history.History at 0x7fd66c1f2860>"
      ]
     },
     "execution_count": 363,
     "metadata": {},
     "output_type": "execute_result"
    }
   ],
   "source": [
    "model = Sequential()\n",
    "model.add(LSTM(50, activation='relu', input_shape=(1, 1)))\n",
    "model.add(Dense(1))\n",
    "model.compile(loss='mean_squared_error', optimizer='adam')\n",
    "model.fit(trainX, trainY, epochs=100, batch_size=1, verbose=1)"
   ]
  },
  {
   "cell_type": "code",
   "execution_count": 396,
   "id": "543955b8-dba4-4b6b-b79c-ad89a4554a83",
   "metadata": {},
   "outputs": [
    {
     "name": "stdout",
     "output_type": "stream",
     "text": [
      "\u001b[1m2/2\u001b[0m \u001b[32m━━━━━━━━━━━━━━━━━━━━\u001b[0m\u001b[37m\u001b[0m \u001b[1m0s\u001b[0m 68ms/step\n",
      "\u001b[1m1/1\u001b[0m \u001b[32m━━━━━━━━━━━━━━━━━━━━\u001b[0m\u001b[37m\u001b[0m \u001b[1m0s\u001b[0m 30ms/step\n"
     ]
    }
   ],
   "source": [
    "trainPredict = model.predict(trainX)\n",
    "testPredictog = model.predict(testX)\n",
    "# invert predictions\n",
    "# trainPredict = scaler.inverse_transform(trainPredict)\n",
    "# trainY = scaler.inverse_transform([trainY])\n",
    "# testPredict = scaler.inverse_transform(testPredict)\n",
    "# testY = scaler.inverse_transform([testY])"
   ]
  },
  {
   "cell_type": "code",
   "execution_count": 397,
   "id": "d1c7e9ab-500d-4dcc-a00a-6168d02e6523",
   "metadata": {},
   "outputs": [
    {
     "data": {
      "text/plain": [
       "array([[2783.9817],\n",
       "       [2639.382 ],\n",
       "       [2920.5479],\n",
       "       [2835.194 ],\n",
       "       [2863.3105],\n",
       "       [2646.4114],\n",
       "       [2746.8276],\n",
       "       [2823.1438],\n",
       "       [2938.6228],\n",
       "       [2983.81  ],\n",
       "       [2751.8484],\n",
       "       [2730.761 ],\n",
       "       [3112.343 ],\n",
       "       [3431.6667],\n",
       "       [3737.9368],\n",
       "       [3624.4663],\n",
       "       [3490.9124],\n",
       "       [3399.5337],\n",
       "       [3684.716 ],\n",
       "       [3640.533 ],\n",
       "       [3534.0916],\n",
       "       [3711.8284],\n",
       "       [3762.0366],\n",
       "       [4062.2815],\n",
       "       [4351.48  ],\n",
       "       [4024.1233],\n",
       "       [4271.147 ],\n",
       "       [4074.3315],\n",
       "       [4147.6353],\n",
       "       [3967.89  ],\n",
       "       [3998.015 ],\n",
       "       [4018.0984],\n",
       "       [4040.1897],\n",
       "       [3849.399 ],\n",
       "       [3837.3489],\n",
       "       [4035.169 ],\n",
       "       [4026.1316],\n",
       "       [3687.7285],\n",
       "       [4173.743 ],\n",
       "       [3939.7734],\n",
       "       [4097.427 ],\n",
       "       [4081.3606],\n",
       "       [4103.4517],\n",
       "       [4079.3523],\n",
       "       [3899.607 ],\n",
       "       [4017.094 ],\n",
       "       [3708.8157],\n",
       "       [3993.9983],\n",
       "       [3948.8108],\n",
       "       [3743.9617],\n",
       "       [4304.284 ],\n",
       "       [3951.8235],\n",
       "       [4118.514 ],\n",
       "       [4130.564 ],\n",
       "       [4315.3306],\n",
       "       [4390.6426],\n",
       "       [4271.147 ],\n",
       "       [4549.3003],\n",
       "       [4580.429 ],\n",
       "       [4665.783 ],\n",
       "       [4748.1245]], dtype=float32)"
      ]
     },
     "execution_count": 397,
     "metadata": {},
     "output_type": "execute_result"
    }
   ],
   "source": [
    "trainPredict"
   ]
  },
  {
   "cell_type": "code",
   "execution_count": 398,
   "id": "a5b97b45-2857-4d9e-a2e0-b8e23349e8e5",
   "metadata": {},
   "outputs": [
    {
     "data": {
      "text/plain": [
       "(61, 61)"
      ]
     },
     "execution_count": 398,
     "metadata": {},
     "output_type": "execute_result"
    }
   ],
   "source": [
    "len(trainX), len(trainPredict)"
   ]
  },
  {
   "cell_type": "code",
   "execution_count": 399,
   "id": "66b24e2a-e0ac-4a98-a1d6-ad3e08191ad6",
   "metadata": {},
   "outputs": [
    {
     "data": {
      "text/plain": [
       "array([[4696],\n",
       "       [5365],\n",
       "       [6027],\n",
       "       [7419],\n",
       "       [6307],\n",
       "       [6343],\n",
       "       [6165],\n",
       "       [5683],\n",
       "       [5613],\n",
       "       [5613]])"
      ]
     },
     "execution_count": 399,
     "metadata": {},
     "output_type": "execute_result"
    }
   ],
   "source": [
    "testX"
   ]
  },
  {
   "cell_type": "code",
   "execution_count": 400,
   "id": "a52455c5-7711-4e36-9857-8df47ad645d0",
   "metadata": {},
   "outputs": [
    {
     "data": {
      "text/plain": [
       "array([[4716.9956],\n",
       "       [5388.7803],\n",
       "       [6053.5366],\n",
       "       [7451.332 ],\n",
       "       [6334.7026],\n",
       "       [6370.852 ],\n",
       "       [6192.111 ],\n",
       "       [5708.1045],\n",
       "       [5637.813 ],\n",
       "       [5637.813 ]], dtype=float32)"
      ]
     },
     "execution_count": 400,
     "metadata": {},
     "output_type": "execute_result"
    }
   ],
   "source": [
    "testPredictog"
   ]
  },
  {
   "cell_type": "code",
   "execution_count": 401,
   "id": "04f8fd92-dbfa-4071-b435-10067aeece8b",
   "metadata": {},
   "outputs": [],
   "source": [
    "#GETTING ACTUAL TEST PREDICTIONS\n",
    "def generate_forecast(model, initial_sequence, num_predictions=12):\n",
    "    predictions = []\n",
    "    for_model = initial_sequence\n",
    "    \n",
    "    for _ in range(num_predictions):\n",
    "        # Generate the next prediction\n",
    "        for_model = model.predict(for_model)\n",
    "        predictions.append(for_model[0][0])\n",
    "\n",
    "    return np.array(predictions)"
   ]
  },
  {
   "cell_type": "code",
   "execution_count": 402,
   "id": "72f86231-fc17-4dae-8eca-3395c32f831d",
   "metadata": {},
   "outputs": [
    {
     "data": {
      "text/plain": [
       "array([[4748.1245]], dtype=float32)"
      ]
     },
     "execution_count": 402,
     "metadata": {},
     "output_type": "execute_result"
    }
   ],
   "source": [
    "initial_sequence = np.array([trainPredict[-1]])\n",
    "initial_sequence"
   ]
  },
  {
   "cell_type": "code",
   "execution_count": 403,
   "id": "f6731c90-93ed-41e9-9308-fa6968449904",
   "metadata": {},
   "outputs": [
    {
     "name": "stdout",
     "output_type": "stream",
     "text": [
      "\u001b[1m1/1\u001b[0m \u001b[32m━━━━━━━━━━━━━━━━━━━━\u001b[0m\u001b[37m\u001b[0m \u001b[1m0s\u001b[0m 207ms/step\n"
     ]
    },
    {
     "data": {
      "text/plain": [
       "array([[4769.337]], dtype=float32)"
      ]
     },
     "execution_count": 403,
     "metadata": {},
     "output_type": "execute_result"
    }
   ],
   "source": [
    "model.predict(initial_sequence)"
   ]
  },
  {
   "cell_type": "code",
   "execution_count": 404,
   "id": "4567a757-fd7f-4c97-a251-94cc7c469466",
   "metadata": {},
   "outputs": [
    {
     "name": "stdout",
     "output_type": "stream",
     "text": [
      "\u001b[1m1/1\u001b[0m \u001b[32m━━━━━━━━━━━━━━━━━━━━\u001b[0m\u001b[37m\u001b[0m \u001b[1m0s\u001b[0m 32ms/step\n",
      "\u001b[1m1/1\u001b[0m \u001b[32m━━━━━━━━━━━━━━━━━━━━\u001b[0m\u001b[37m\u001b[0m \u001b[1m0s\u001b[0m 25ms/step\n",
      "\u001b[1m1/1\u001b[0m \u001b[32m━━━━━━━━━━━━━━━━━━━━\u001b[0m\u001b[37m\u001b[0m \u001b[1m0s\u001b[0m 26ms/step\n",
      "\u001b[1m1/1\u001b[0m \u001b[32m━━━━━━━━━━━━━━━━━━━━\u001b[0m\u001b[37m\u001b[0m \u001b[1m0s\u001b[0m 30ms/step\n",
      "\u001b[1m1/1\u001b[0m \u001b[32m━━━━━━━━━━━━━━━━━━━━\u001b[0m\u001b[37m\u001b[0m \u001b[1m0s\u001b[0m 28ms/step\n",
      "\u001b[1m1/1\u001b[0m \u001b[32m━━━━━━━━━━━━━━━━━━━━\u001b[0m\u001b[37m\u001b[0m \u001b[1m0s\u001b[0m 30ms/step\n",
      "\u001b[1m1/1\u001b[0m \u001b[32m━━━━━━━━━━━━━━━━━━━━\u001b[0m\u001b[37m\u001b[0m \u001b[1m0s\u001b[0m 33ms/step\n",
      "\u001b[1m1/1\u001b[0m \u001b[32m━━━━━━━━━━━━━━━━━━━━\u001b[0m\u001b[37m\u001b[0m \u001b[1m0s\u001b[0m 31ms/step\n",
      "\u001b[1m1/1\u001b[0m \u001b[32m━━━━━━━━━━━━━━━━━━━━\u001b[0m\u001b[37m\u001b[0m \u001b[1m0s\u001b[0m 30ms/step\n",
      "\u001b[1m1/1\u001b[0m \u001b[32m━━━━━━━━━━━━━━━━━━━━\u001b[0m\u001b[37m\u001b[0m \u001b[1m0s\u001b[0m 29ms/step\n",
      "[4769.337  4790.6377 4812.027  4833.5054 4855.073  4876.731  4898.4785\n",
      " 4920.317  4942.246  4964.267 ]\n"
     ]
    }
   ],
   "source": [
    "testPredict = generate_forecast(model, initial_sequence, num_predictions=10)\n",
    "print(testPredict)"
   ]
  },
  {
   "cell_type": "code",
   "execution_count": 405,
   "id": "1393fb35-d35a-4c29-8476-54e3e124d98e",
   "metadata": {},
   "outputs": [
    {
     "data": {
      "text/plain": [
       "array([[4696],\n",
       "       [5365],\n",
       "       [6027],\n",
       "       [7419],\n",
       "       [6307],\n",
       "       [6343],\n",
       "       [6165],\n",
       "       [5683],\n",
       "       [5613],\n",
       "       [5613]])"
      ]
     },
     "execution_count": 405,
     "metadata": {},
     "output_type": "execute_result"
    }
   ],
   "source": [
    "testX"
   ]
  },
  {
   "cell_type": "code",
   "execution_count": 406,
   "id": "c3f1b4a1-9866-408c-9c9c-1c539ba2d7f8",
   "metadata": {},
   "outputs": [
    {
     "data": {
      "text/plain": [
       "array([4769.337 , 4790.6377, 4812.027 , 4833.5054, 4855.073 , 4876.731 ,\n",
       "       4898.4785, 4920.317 , 4942.246 , 4964.267 ], dtype=float32)"
      ]
     },
     "execution_count": 406,
     "metadata": {},
     "output_type": "execute_result"
    }
   ],
   "source": [
    "testPredict"
   ]
  },
  {
   "cell_type": "code",
   "execution_count": 407,
   "id": "f7e79448-3de5-4dd6-9b14-c94c36c8746d",
   "metadata": {},
   "outputs": [
    {
     "data": {
      "text/plain": [
       "61"
      ]
     },
     "execution_count": 407,
     "metadata": {},
     "output_type": "execute_result"
    }
   ],
   "source": [
    "len(trainPredict)"
   ]
  },
  {
   "cell_type": "code",
   "execution_count": 408,
   "id": "3e74c298-76e0-4e5e-a80b-f7a5b8a25d31",
   "metadata": {},
   "outputs": [
    {
     "data": {
      "text/plain": [
       "10"
      ]
     },
     "execution_count": 408,
     "metadata": {},
     "output_type": "execute_result"
    }
   ],
   "source": [
    "len(testPredict)"
   ]
  },
  {
   "cell_type": "code",
   "execution_count": 410,
   "id": "d7684727-b194-48b2-8780-56fff544f18b",
   "metadata": {},
   "outputs": [
    {
     "data": {
      "text/html": [
       "<div>\n",
       "<style scoped>\n",
       "    .dataframe tbody tr th:only-of-type {\n",
       "        vertical-align: middle;\n",
       "    }\n",
       "\n",
       "    .dataframe tbody tr th {\n",
       "        vertical-align: top;\n",
       "    }\n",
       "\n",
       "    .dataframe thead th {\n",
       "        text-align: right;\n",
       "    }\n",
       "</style>\n",
       "<table border=\"1\" class=\"dataframe\">\n",
       "  <thead>\n",
       "    <tr style=\"text-align: right;\">\n",
       "      <th></th>\n",
       "      <th>Month</th>\n",
       "      <th>Deaths</th>\n",
       "    </tr>\n",
       "  </thead>\n",
       "  <tbody>\n",
       "    <tr>\n",
       "      <th>0</th>\n",
       "      <td>2015-01-01</td>\n",
       "      <td>2771</td>\n",
       "    </tr>\n",
       "    <tr>\n",
       "      <th>1</th>\n",
       "      <td>2015-02-01</td>\n",
       "      <td>2627</td>\n",
       "    </tr>\n",
       "    <tr>\n",
       "      <th>2</th>\n",
       "      <td>2015-03-01</td>\n",
       "      <td>2907</td>\n",
       "    </tr>\n",
       "    <tr>\n",
       "      <th>3</th>\n",
       "      <td>2015-04-01</td>\n",
       "      <td>2822</td>\n",
       "    </tr>\n",
       "    <tr>\n",
       "      <th>4</th>\n",
       "      <td>2015-05-01</td>\n",
       "      <td>2850</td>\n",
       "    </tr>\n",
       "    <tr>\n",
       "      <th>...</th>\n",
       "      <td>...</td>\n",
       "      <td>...</td>\n",
       "    </tr>\n",
       "    <tr>\n",
       "      <th>67</th>\n",
       "      <td>2020-08-01</td>\n",
       "      <td>6165</td>\n",
       "    </tr>\n",
       "    <tr>\n",
       "      <th>68</th>\n",
       "      <td>2020-09-01</td>\n",
       "      <td>5683</td>\n",
       "    </tr>\n",
       "    <tr>\n",
       "      <th>69</th>\n",
       "      <td>2020-10-01</td>\n",
       "      <td>5613</td>\n",
       "    </tr>\n",
       "    <tr>\n",
       "      <th>70</th>\n",
       "      <td>2020-11-01</td>\n",
       "      <td>5613</td>\n",
       "    </tr>\n",
       "    <tr>\n",
       "      <th>71</th>\n",
       "      <td>2020-12-01</td>\n",
       "      <td>5792</td>\n",
       "    </tr>\n",
       "  </tbody>\n",
       "</table>\n",
       "<p>72 rows × 2 columns</p>\n",
       "</div>"
      ],
      "text/plain": [
       "        Month  Deaths\n",
       "0  2015-01-01    2771\n",
       "1  2015-02-01    2627\n",
       "2  2015-03-01    2907\n",
       "3  2015-04-01    2822\n",
       "4  2015-05-01    2850\n",
       "..        ...     ...\n",
       "67 2020-08-01    6165\n",
       "68 2020-09-01    5683\n",
       "69 2020-10-01    5613\n",
       "70 2020-11-01    5613\n",
       "71 2020-12-01    5792\n",
       "\n",
       "[72 rows x 2 columns]"
      ]
     },
     "execution_count": 410,
     "metadata": {},
     "output_type": "execute_result"
    }
   ],
   "source": [
    "df"
   ]
  },
  {
   "cell_type": "markdown",
   "id": "a9c180a4-2261-4f3f-afe1-cc8e0dbfbf97",
   "metadata": {},
   "source": [
    "plotting from 2/2015 onwards"
   ]
  },
  {
   "cell_type": "code",
   "execution_count": 411,
   "id": "55c239d1-95c3-41d8-b6f4-e8b1b141176f",
   "metadata": {},
   "outputs": [
    {
     "data": {
      "text/plain": [
       "61"
      ]
     },
     "execution_count": 411,
     "metadata": {},
     "output_type": "execute_result"
    }
   ],
   "source": [
    "len(trainPredict)"
   ]
  },
  {
   "cell_type": "code",
   "execution_count": 412,
   "id": "e8c0594f-0d8f-4b15-a949-0eac0d6e24c5",
   "metadata": {},
   "outputs": [
    {
     "data": {
      "text/plain": [
       "10"
      ]
     },
     "execution_count": 412,
     "metadata": {},
     "output_type": "execute_result"
    }
   ],
   "source": [
    "len(testPredict)"
   ]
  },
  {
   "cell_type": "code",
   "execution_count": 413,
   "id": "a5f6e403-0e78-4cc6-b746-457df5ecc800",
   "metadata": {},
   "outputs": [],
   "source": [
    "zero = np.array([[0]])"
   ]
  },
  {
   "cell_type": "code",
   "execution_count": 414,
   "id": "bf328e09-2513-4cb2-9fa9-1bc3a33727a8",
   "metadata": {},
   "outputs": [],
   "source": [
    "trainPredictlst = trainPredict.flatten().tolist()"
   ]
  },
  {
   "cell_type": "code",
   "execution_count": 415,
   "id": "db7f5891-2d2f-45a4-8ac6-91b5df241745",
   "metadata": {},
   "outputs": [
    {
     "data": {
      "text/plain": [
       "61"
      ]
     },
     "execution_count": 415,
     "metadata": {},
     "output_type": "execute_result"
    }
   ],
   "source": [
    "len(trainPredictlst)"
   ]
  },
  {
   "cell_type": "code",
   "execution_count": 416,
   "id": "3e3d233d-a920-48cf-af46-39e2ee4f3a7a",
   "metadata": {},
   "outputs": [],
   "source": [
    "testPredictlst = testPredict.flatten().tolist()"
   ]
  },
  {
   "cell_type": "code",
   "execution_count": 417,
   "id": "68208788-fe30-4d3e-9e02-dd10a6a279e0",
   "metadata": {},
   "outputs": [
    {
     "data": {
      "text/plain": [
       "10"
      ]
     },
     "execution_count": 417,
     "metadata": {},
     "output_type": "execute_result"
    }
   ],
   "source": [
    "len(testPredictlst)"
   ]
  },
  {
   "cell_type": "code",
   "execution_count": 418,
   "id": "50aeb74a-37b8-4a6e-8ca8-e8b8965cb101",
   "metadata": {},
   "outputs": [],
   "source": [
    "combined_array = [0] + trainPredictlst + testPredictlst"
   ]
  },
  {
   "cell_type": "code",
   "execution_count": 419,
   "id": "d5800c28-3045-461c-95c0-c4257205c7dc",
   "metadata": {},
   "outputs": [
    {
     "data": {
      "text/plain": [
       "72"
      ]
     },
     "execution_count": 419,
     "metadata": {},
     "output_type": "execute_result"
    }
   ],
   "source": [
    "len(combined_array)"
   ]
  },
  {
   "cell_type": "code",
   "execution_count": 420,
   "id": "8744975e-0081-47a0-8157-73ec447177aa",
   "metadata": {},
   "outputs": [
    {
     "data": {
      "text/html": [
       "<div>\n",
       "<style scoped>\n",
       "    .dataframe tbody tr th:only-of-type {\n",
       "        vertical-align: middle;\n",
       "    }\n",
       "\n",
       "    .dataframe tbody tr th {\n",
       "        vertical-align: top;\n",
       "    }\n",
       "\n",
       "    .dataframe thead th {\n",
       "        text-align: right;\n",
       "    }\n",
       "</style>\n",
       "<table border=\"1\" class=\"dataframe\">\n",
       "  <thead>\n",
       "    <tr style=\"text-align: right;\">\n",
       "      <th></th>\n",
       "      <th>Month</th>\n",
       "      <th>Deaths</th>\n",
       "    </tr>\n",
       "  </thead>\n",
       "  <tbody>\n",
       "    <tr>\n",
       "      <th>0</th>\n",
       "      <td>2015-01-01</td>\n",
       "      <td>2771</td>\n",
       "    </tr>\n",
       "    <tr>\n",
       "      <th>1</th>\n",
       "      <td>2015-02-01</td>\n",
       "      <td>2627</td>\n",
       "    </tr>\n",
       "    <tr>\n",
       "      <th>2</th>\n",
       "      <td>2015-03-01</td>\n",
       "      <td>2907</td>\n",
       "    </tr>\n",
       "    <tr>\n",
       "      <th>3</th>\n",
       "      <td>2015-04-01</td>\n",
       "      <td>2822</td>\n",
       "    </tr>\n",
       "    <tr>\n",
       "      <th>4</th>\n",
       "      <td>2015-05-01</td>\n",
       "      <td>2850</td>\n",
       "    </tr>\n",
       "    <tr>\n",
       "      <th>...</th>\n",
       "      <td>...</td>\n",
       "      <td>...</td>\n",
       "    </tr>\n",
       "    <tr>\n",
       "      <th>67</th>\n",
       "      <td>2020-08-01</td>\n",
       "      <td>6165</td>\n",
       "    </tr>\n",
       "    <tr>\n",
       "      <th>68</th>\n",
       "      <td>2020-09-01</td>\n",
       "      <td>5683</td>\n",
       "    </tr>\n",
       "    <tr>\n",
       "      <th>69</th>\n",
       "      <td>2020-10-01</td>\n",
       "      <td>5613</td>\n",
       "    </tr>\n",
       "    <tr>\n",
       "      <th>70</th>\n",
       "      <td>2020-11-01</td>\n",
       "      <td>5613</td>\n",
       "    </tr>\n",
       "    <tr>\n",
       "      <th>71</th>\n",
       "      <td>2020-12-01</td>\n",
       "      <td>5792</td>\n",
       "    </tr>\n",
       "  </tbody>\n",
       "</table>\n",
       "<p>72 rows × 2 columns</p>\n",
       "</div>"
      ],
      "text/plain": [
       "        Month  Deaths\n",
       "0  2015-01-01    2771\n",
       "1  2015-02-01    2627\n",
       "2  2015-03-01    2907\n",
       "3  2015-04-01    2822\n",
       "4  2015-05-01    2850\n",
       "..        ...     ...\n",
       "67 2020-08-01    6165\n",
       "68 2020-09-01    5683\n",
       "69 2020-10-01    5613\n",
       "70 2020-11-01    5613\n",
       "71 2020-12-01    5792\n",
       "\n",
       "[72 rows x 2 columns]"
      ]
     },
     "execution_count": 420,
     "metadata": {},
     "output_type": "execute_result"
    }
   ],
   "source": [
    "df"
   ]
  },
  {
   "cell_type": "code",
   "execution_count": null,
   "id": "24880ccb-40c8-44fb-aeb0-26b1ae71221e",
   "metadata": {},
   "outputs": [],
   "source": [
    "df['LSTM Predictions'] = combined_array"
   ]
  },
  {
   "cell_type": "code",
   "execution_count": 435,
   "id": "7aeb669f-982b-4505-8ba7-199cfe1f015c",
   "metadata": {},
   "outputs": [
    {
     "data": {
      "text/html": [
       "<div>\n",
       "<style scoped>\n",
       "    .dataframe tbody tr th:only-of-type {\n",
       "        vertical-align: middle;\n",
       "    }\n",
       "\n",
       "    .dataframe tbody tr th {\n",
       "        vertical-align: top;\n",
       "    }\n",
       "\n",
       "    .dataframe thead th {\n",
       "        text-align: right;\n",
       "    }\n",
       "</style>\n",
       "<table border=\"1\" class=\"dataframe\">\n",
       "  <thead>\n",
       "    <tr style=\"text-align: right;\">\n",
       "      <th></th>\n",
       "      <th>Month</th>\n",
       "      <th>Deaths</th>\n",
       "      <th>LSTM Predictions</th>\n",
       "      <th>SARIMA Predictions</th>\n",
       "    </tr>\n",
       "  </thead>\n",
       "  <tbody>\n",
       "    <tr>\n",
       "      <th>0</th>\n",
       "      <td>2015-01-01</td>\n",
       "      <td>2771</td>\n",
       "      <td>0.000000</td>\n",
       "      <td>0.000000</td>\n",
       "    </tr>\n",
       "    <tr>\n",
       "      <th>1</th>\n",
       "      <td>2015-02-01</td>\n",
       "      <td>2627</td>\n",
       "      <td>2783.981689</td>\n",
       "      <td>2540.838172</td>\n",
       "    </tr>\n",
       "    <tr>\n",
       "      <th>2</th>\n",
       "      <td>2015-03-01</td>\n",
       "      <td>2907</td>\n",
       "      <td>2639.382080</td>\n",
       "      <td>2673.336257</td>\n",
       "    </tr>\n",
       "    <tr>\n",
       "      <th>3</th>\n",
       "      <td>2015-04-01</td>\n",
       "      <td>2822</td>\n",
       "      <td>2920.547852</td>\n",
       "      <td>2865.711655</td>\n",
       "    </tr>\n",
       "    <tr>\n",
       "      <th>4</th>\n",
       "      <td>2015-05-01</td>\n",
       "      <td>2850</td>\n",
       "      <td>2835.194092</td>\n",
       "      <td>2837.851862</td>\n",
       "    </tr>\n",
       "    <tr>\n",
       "      <th>...</th>\n",
       "      <td>...</td>\n",
       "      <td>...</td>\n",
       "      <td>...</td>\n",
       "      <td>...</td>\n",
       "    </tr>\n",
       "    <tr>\n",
       "      <th>67</th>\n",
       "      <td>2020-08-01</td>\n",
       "      <td>6165</td>\n",
       "      <td>4876.730957</td>\n",
       "      <td>5041.705897</td>\n",
       "    </tr>\n",
       "    <tr>\n",
       "      <th>68</th>\n",
       "      <td>2020-09-01</td>\n",
       "      <td>5683</td>\n",
       "      <td>4898.478516</td>\n",
       "      <td>4958.628025</td>\n",
       "    </tr>\n",
       "    <tr>\n",
       "      <th>69</th>\n",
       "      <td>2020-10-01</td>\n",
       "      <td>5613</td>\n",
       "      <td>4920.316895</td>\n",
       "      <td>5086.221253</td>\n",
       "    </tr>\n",
       "    <tr>\n",
       "      <th>70</th>\n",
       "      <td>2020-11-01</td>\n",
       "      <td>5613</td>\n",
       "      <td>4942.246094</td>\n",
       "      <td>5029.753481</td>\n",
       "    </tr>\n",
       "    <tr>\n",
       "      <th>71</th>\n",
       "      <td>2020-12-01</td>\n",
       "      <td>5792</td>\n",
       "      <td>4964.267090</td>\n",
       "      <td>5205.366131</td>\n",
       "    </tr>\n",
       "  </tbody>\n",
       "</table>\n",
       "<p>72 rows × 4 columns</p>\n",
       "</div>"
      ],
      "text/plain": [
       "        Month  Deaths  LSTM Predictions  SARIMA Predictions\n",
       "0  2015-01-01    2771          0.000000            0.000000\n",
       "1  2015-02-01    2627       2783.981689         2540.838172\n",
       "2  2015-03-01    2907       2639.382080         2673.336257\n",
       "3  2015-04-01    2822       2920.547852         2865.711655\n",
       "4  2015-05-01    2850       2835.194092         2837.851862\n",
       "..        ...     ...               ...                 ...\n",
       "67 2020-08-01    6165       4876.730957         5041.705897\n",
       "68 2020-09-01    5683       4898.478516         4958.628025\n",
       "69 2020-10-01    5613       4920.316895         5086.221253\n",
       "70 2020-11-01    5613       4942.246094         5029.753481\n",
       "71 2020-12-01    5792       4964.267090         5205.366131\n",
       "\n",
       "[72 rows x 4 columns]"
      ]
     },
     "execution_count": 435,
     "metadata": {},
     "output_type": "execute_result"
    }
   ],
   "source": [
    "df"
   ]
  },
  {
   "cell_type": "code",
   "execution_count": 423,
   "id": "81aa89b3-8c69-42e2-9c65-5b259b2ea5b3",
   "metadata": {},
   "outputs": [],
   "source": [
    "plottable = df.iloc[1:]"
   ]
  },
  {
   "cell_type": "code",
   "execution_count": 424,
   "id": "fc648379-4087-4781-9641-c5379c92e6ce",
   "metadata": {},
   "outputs": [
    {
     "data": {
      "text/html": [
       "<div>\n",
       "<style scoped>\n",
       "    .dataframe tbody tr th:only-of-type {\n",
       "        vertical-align: middle;\n",
       "    }\n",
       "\n",
       "    .dataframe tbody tr th {\n",
       "        vertical-align: top;\n",
       "    }\n",
       "\n",
       "    .dataframe thead th {\n",
       "        text-align: right;\n",
       "    }\n",
       "</style>\n",
       "<table border=\"1\" class=\"dataframe\">\n",
       "  <thead>\n",
       "    <tr style=\"text-align: right;\">\n",
       "      <th></th>\n",
       "      <th>Month</th>\n",
       "      <th>Deaths</th>\n",
       "      <th>Predictions</th>\n",
       "    </tr>\n",
       "  </thead>\n",
       "  <tbody>\n",
       "    <tr>\n",
       "      <th>1</th>\n",
       "      <td>2015-02-01</td>\n",
       "      <td>2627</td>\n",
       "      <td>2783.981689</td>\n",
       "    </tr>\n",
       "    <tr>\n",
       "      <th>2</th>\n",
       "      <td>2015-03-01</td>\n",
       "      <td>2907</td>\n",
       "      <td>2639.382080</td>\n",
       "    </tr>\n",
       "    <tr>\n",
       "      <th>3</th>\n",
       "      <td>2015-04-01</td>\n",
       "      <td>2822</td>\n",
       "      <td>2920.547852</td>\n",
       "    </tr>\n",
       "    <tr>\n",
       "      <th>4</th>\n",
       "      <td>2015-05-01</td>\n",
       "      <td>2850</td>\n",
       "      <td>2835.194092</td>\n",
       "    </tr>\n",
       "    <tr>\n",
       "      <th>5</th>\n",
       "      <td>2015-06-01</td>\n",
       "      <td>2634</td>\n",
       "      <td>2863.310547</td>\n",
       "    </tr>\n",
       "    <tr>\n",
       "      <th>...</th>\n",
       "      <td>...</td>\n",
       "      <td>...</td>\n",
       "      <td>...</td>\n",
       "    </tr>\n",
       "    <tr>\n",
       "      <th>67</th>\n",
       "      <td>2020-08-01</td>\n",
       "      <td>6165</td>\n",
       "      <td>4876.730957</td>\n",
       "    </tr>\n",
       "    <tr>\n",
       "      <th>68</th>\n",
       "      <td>2020-09-01</td>\n",
       "      <td>5683</td>\n",
       "      <td>4898.478516</td>\n",
       "    </tr>\n",
       "    <tr>\n",
       "      <th>69</th>\n",
       "      <td>2020-10-01</td>\n",
       "      <td>5613</td>\n",
       "      <td>4920.316895</td>\n",
       "    </tr>\n",
       "    <tr>\n",
       "      <th>70</th>\n",
       "      <td>2020-11-01</td>\n",
       "      <td>5613</td>\n",
       "      <td>4942.246094</td>\n",
       "    </tr>\n",
       "    <tr>\n",
       "      <th>71</th>\n",
       "      <td>2020-12-01</td>\n",
       "      <td>5792</td>\n",
       "      <td>4964.267090</td>\n",
       "    </tr>\n",
       "  </tbody>\n",
       "</table>\n",
       "<p>71 rows × 3 columns</p>\n",
       "</div>"
      ],
      "text/plain": [
       "        Month  Deaths  Predictions\n",
       "1  2015-02-01    2627  2783.981689\n",
       "2  2015-03-01    2907  2639.382080\n",
       "3  2015-04-01    2822  2920.547852\n",
       "4  2015-05-01    2850  2835.194092\n",
       "5  2015-06-01    2634  2863.310547\n",
       "..        ...     ...          ...\n",
       "67 2020-08-01    6165  4876.730957\n",
       "68 2020-09-01    5683  4898.478516\n",
       "69 2020-10-01    5613  4920.316895\n",
       "70 2020-11-01    5613  4942.246094\n",
       "71 2020-12-01    5792  4964.267090\n",
       "\n",
       "[71 rows x 3 columns]"
      ]
     },
     "execution_count": 424,
     "metadata": {},
     "output_type": "execute_result"
    }
   ],
   "source": [
    "plottable"
   ]
  },
  {
   "cell_type": "code",
   "execution_count": 425,
   "id": "a51a2168-a74a-4817-ac63-f4b6e440fadc",
   "metadata": {},
   "outputs": [],
   "source": [
    "from statsmodels.tsa.statespace.sarimax import SARIMAX"
   ]
  },
  {
   "cell_type": "code",
   "execution_count": 426,
   "id": "679cfdff-59bc-45c2-aa72-67eeeae0c6aa",
   "metadata": {},
   "outputs": [
    {
     "data": {
      "text/html": [
       "<div>\n",
       "<style scoped>\n",
       "    .dataframe tbody tr th:only-of-type {\n",
       "        vertical-align: middle;\n",
       "    }\n",
       "\n",
       "    .dataframe tbody tr th {\n",
       "        vertical-align: top;\n",
       "    }\n",
       "\n",
       "    .dataframe thead th {\n",
       "        text-align: right;\n",
       "    }\n",
       "</style>\n",
       "<table border=\"1\" class=\"dataframe\">\n",
       "  <thead>\n",
       "    <tr style=\"text-align: right;\">\n",
       "      <th></th>\n",
       "      <th>Month</th>\n",
       "      <th>Deaths</th>\n",
       "    </tr>\n",
       "  </thead>\n",
       "  <tbody>\n",
       "    <tr>\n",
       "      <th>0</th>\n",
       "      <td>2015-01-01</td>\n",
       "      <td>2771</td>\n",
       "    </tr>\n",
       "    <tr>\n",
       "      <th>1</th>\n",
       "      <td>2015-02-01</td>\n",
       "      <td>2627</td>\n",
       "    </tr>\n",
       "    <tr>\n",
       "      <th>2</th>\n",
       "      <td>2015-03-01</td>\n",
       "      <td>2907</td>\n",
       "    </tr>\n",
       "    <tr>\n",
       "      <th>3</th>\n",
       "      <td>2015-04-01</td>\n",
       "      <td>2822</td>\n",
       "    </tr>\n",
       "    <tr>\n",
       "      <th>4</th>\n",
       "      <td>2015-05-01</td>\n",
       "      <td>2850</td>\n",
       "    </tr>\n",
       "    <tr>\n",
       "      <th>...</th>\n",
       "      <td>...</td>\n",
       "      <td>...</td>\n",
       "    </tr>\n",
       "    <tr>\n",
       "      <th>57</th>\n",
       "      <td>2019-10-01</td>\n",
       "      <td>4529</td>\n",
       "    </tr>\n",
       "    <tr>\n",
       "      <th>58</th>\n",
       "      <td>2019-11-01</td>\n",
       "      <td>4560</td>\n",
       "    </tr>\n",
       "    <tr>\n",
       "      <th>59</th>\n",
       "      <td>2019-12-01</td>\n",
       "      <td>4645</td>\n",
       "    </tr>\n",
       "    <tr>\n",
       "      <th>60</th>\n",
       "      <td>2020-01-01</td>\n",
       "      <td>4727</td>\n",
       "    </tr>\n",
       "    <tr>\n",
       "      <th>61</th>\n",
       "      <td>2020-02-01</td>\n",
       "      <td>4696</td>\n",
       "    </tr>\n",
       "  </tbody>\n",
       "</table>\n",
       "<p>62 rows × 2 columns</p>\n",
       "</div>"
      ],
      "text/plain": [
       "        Month  Deaths\n",
       "0  2015-01-01    2771\n",
       "1  2015-02-01    2627\n",
       "2  2015-03-01    2907\n",
       "3  2015-04-01    2822\n",
       "4  2015-05-01    2850\n",
       "..        ...     ...\n",
       "57 2019-10-01    4529\n",
       "58 2019-11-01    4560\n",
       "59 2019-12-01    4645\n",
       "60 2020-01-01    4727\n",
       "61 2020-02-01    4696\n",
       "\n",
       "[62 rows x 2 columns]"
      ]
     },
     "execution_count": 426,
     "metadata": {},
     "output_type": "execute_result"
    }
   ],
   "source": [
    "train"
   ]
  },
  {
   "cell_type": "code",
   "execution_count": 427,
   "id": "20fa254c-d83b-45e1-9469-af85f7adbb20",
   "metadata": {},
   "outputs": [],
   "source": [
    "sarima_model = SARIMAX(train['Deaths'], order=(1, 1, 1), seasonal_order=(1, 1, 1, 12),\n",
    "                enforce_stationarity=False,\n",
    "                enforce_invertibility=False)\n",
    "sarima_result = sarima_model.fit(disp=False)"
   ]
  },
  {
   "cell_type": "code",
   "execution_count": 428,
   "id": "6bd20ad6-864f-4e97-b6e5-1428e82e0ecf",
   "metadata": {},
   "outputs": [],
   "source": [
    "sarima_predictions = sarima_result.predict(start=0, end=len(train) + len(test) - 1, dynamic=False)"
   ]
  },
  {
   "cell_type": "code",
   "execution_count": 429,
   "id": "deb1118b-5772-4f28-aaf5-88af61275ac6",
   "metadata": {},
   "outputs": [
    {
     "data": {
      "text/plain": [
       "73"
      ]
     },
     "execution_count": 429,
     "metadata": {},
     "output_type": "execute_result"
    }
   ],
   "source": [
    "len(sarima_predictions)"
   ]
  },
  {
   "cell_type": "code",
   "execution_count": 430,
   "id": "b9132647-60ba-42e8-b814-526a9f5f44e4",
   "metadata": {},
   "outputs": [
    {
     "data": {
      "text/plain": [
       "0        0.000000\n",
       "1     2540.838172\n",
       "2     2673.336257\n",
       "3     2865.711655\n",
       "4     2837.851862\n",
       "         ...     \n",
       "68    4958.628025\n",
       "69    5086.221253\n",
       "70    5029.753481\n",
       "71    5205.366131\n",
       "72    5287.342828\n",
       "Name: predicted_mean, Length: 73, dtype: float64"
      ]
     },
     "execution_count": 430,
     "metadata": {},
     "output_type": "execute_result"
    }
   ],
   "source": [
    "sarima_predictions"
   ]
  },
  {
   "cell_type": "code",
   "execution_count": 432,
   "id": "fd5f68e1-ab31-4cf5-bce8-a6a56edea4dc",
   "metadata": {},
   "outputs": [],
   "source": [
    "df['SARIMA Predictions'] = sarima_predictions"
   ]
  },
  {
   "cell_type": "code",
   "execution_count": 272,
   "id": "93dbb08c-bc31-4a47-a2a0-90ed6b813389",
   "metadata": {},
   "outputs": [
    {
     "data": {
      "text/html": [
       "<div>\n",
       "<style scoped>\n",
       "    .dataframe tbody tr th:only-of-type {\n",
       "        vertical-align: middle;\n",
       "    }\n",
       "\n",
       "    .dataframe tbody tr th {\n",
       "        vertical-align: top;\n",
       "    }\n",
       "\n",
       "    .dataframe thead th {\n",
       "        text-align: right;\n",
       "    }\n",
       "</style>\n",
       "<table border=\"1\" class=\"dataframe\">\n",
       "  <thead>\n",
       "    <tr style=\"text-align: right;\">\n",
       "      <th></th>\n",
       "      <th>Month</th>\n",
       "      <th>Deaths</th>\n",
       "      <th>LSTM Predictions</th>\n",
       "      <th>SARIMA Predictions</th>\n",
       "    </tr>\n",
       "  </thead>\n",
       "  <tbody>\n",
       "    <tr>\n",
       "      <th>0</th>\n",
       "      <td>2015-01-01</td>\n",
       "      <td>2771</td>\n",
       "      <td>0.000000</td>\n",
       "      <td>0.000000</td>\n",
       "    </tr>\n",
       "    <tr>\n",
       "      <th>1</th>\n",
       "      <td>2015-02-01</td>\n",
       "      <td>2627</td>\n",
       "      <td>2784.187012</td>\n",
       "      <td>2540.838172</td>\n",
       "    </tr>\n",
       "    <tr>\n",
       "      <th>2</th>\n",
       "      <td>2015-03-01</td>\n",
       "      <td>2907</td>\n",
       "      <td>2639.579590</td>\n",
       "      <td>2673.336257</td>\n",
       "    </tr>\n",
       "    <tr>\n",
       "      <th>3</th>\n",
       "      <td>2015-04-01</td>\n",
       "      <td>2822</td>\n",
       "      <td>2920.760254</td>\n",
       "      <td>2865.711655</td>\n",
       "    </tr>\n",
       "    <tr>\n",
       "      <th>4</th>\n",
       "      <td>2015-05-01</td>\n",
       "      <td>2850</td>\n",
       "      <td>2835.401855</td>\n",
       "      <td>2837.851862</td>\n",
       "    </tr>\n",
       "    <tr>\n",
       "      <th>...</th>\n",
       "      <td>...</td>\n",
       "      <td>...</td>\n",
       "      <td>...</td>\n",
       "      <td>...</td>\n",
       "    </tr>\n",
       "    <tr>\n",
       "      <th>67</th>\n",
       "      <td>2020-08-01</td>\n",
       "      <td>6165</td>\n",
       "      <td>4878.954102</td>\n",
       "      <td>5041.705897</td>\n",
       "    </tr>\n",
       "    <tr>\n",
       "      <th>68</th>\n",
       "      <td>2020-09-01</td>\n",
       "      <td>5683</td>\n",
       "      <td>4901.029785</td>\n",
       "      <td>4958.628025</td>\n",
       "    </tr>\n",
       "    <tr>\n",
       "      <th>69</th>\n",
       "      <td>2020-10-01</td>\n",
       "      <td>5613</td>\n",
       "      <td>4923.198242</td>\n",
       "      <td>5086.221253</td>\n",
       "    </tr>\n",
       "    <tr>\n",
       "      <th>70</th>\n",
       "      <td>2020-11-01</td>\n",
       "      <td>5613</td>\n",
       "      <td>4945.460449</td>\n",
       "      <td>5029.753481</td>\n",
       "    </tr>\n",
       "    <tr>\n",
       "      <th>71</th>\n",
       "      <td>2020-12-01</td>\n",
       "      <td>5792</td>\n",
       "      <td>4967.816406</td>\n",
       "      <td>5205.366131</td>\n",
       "    </tr>\n",
       "  </tbody>\n",
       "</table>\n",
       "<p>72 rows × 4 columns</p>\n",
       "</div>"
      ],
      "text/plain": [
       "        Month  Deaths  LSTM Predictions  SARIMA Predictions\n",
       "0  2015-01-01    2771          0.000000            0.000000\n",
       "1  2015-02-01    2627       2784.187012         2540.838172\n",
       "2  2015-03-01    2907       2639.579590         2673.336257\n",
       "3  2015-04-01    2822       2920.760254         2865.711655\n",
       "4  2015-05-01    2850       2835.401855         2837.851862\n",
       "..        ...     ...               ...                 ...\n",
       "67 2020-08-01    6165       4878.954102         5041.705897\n",
       "68 2020-09-01    5683       4901.029785         4958.628025\n",
       "69 2020-10-01    5613       4923.198242         5086.221253\n",
       "70 2020-11-01    5613       4945.460449         5029.753481\n",
       "71 2020-12-01    5792       4967.816406         5205.366131\n",
       "\n",
       "[72 rows x 4 columns]"
      ]
     },
     "execution_count": 272,
     "metadata": {},
     "output_type": "execute_result"
    }
   ],
   "source": [
    "df"
   ]
  },
  {
   "cell_type": "code",
   "execution_count": 273,
   "id": "c8b88c80-be5a-46e5-9b6f-5f749fc4adcc",
   "metadata": {},
   "outputs": [],
   "source": [
    "df.to_csv('predictionresults.csv')"
   ]
  },
  {
   "cell_type": "code",
   "execution_count": 274,
   "id": "2a52da44-a361-4cc1-a968-65525015800f",
   "metadata": {},
   "outputs": [],
   "source": [
    "plottable = df.iloc[1:]"
   ]
  },
  {
   "cell_type": "code",
   "execution_count": 275,
   "id": "ef82f78f-d6b2-472f-a772-8f3bb4e4a64a",
   "metadata": {},
   "outputs": [
    {
     "data": {
      "text/html": [
       "<div>\n",
       "<style scoped>\n",
       "    .dataframe tbody tr th:only-of-type {\n",
       "        vertical-align: middle;\n",
       "    }\n",
       "\n",
       "    .dataframe tbody tr th {\n",
       "        vertical-align: top;\n",
       "    }\n",
       "\n",
       "    .dataframe thead th {\n",
       "        text-align: right;\n",
       "    }\n",
       "</style>\n",
       "<table border=\"1\" class=\"dataframe\">\n",
       "  <thead>\n",
       "    <tr style=\"text-align: right;\">\n",
       "      <th></th>\n",
       "      <th>Month</th>\n",
       "      <th>Deaths</th>\n",
       "      <th>LSTM Predictions</th>\n",
       "      <th>SARIMA Predictions</th>\n",
       "    </tr>\n",
       "  </thead>\n",
       "  <tbody>\n",
       "    <tr>\n",
       "      <th>1</th>\n",
       "      <td>2015-02-01</td>\n",
       "      <td>2627</td>\n",
       "      <td>2784.187012</td>\n",
       "      <td>2540.838172</td>\n",
       "    </tr>\n",
       "    <tr>\n",
       "      <th>2</th>\n",
       "      <td>2015-03-01</td>\n",
       "      <td>2907</td>\n",
       "      <td>2639.579590</td>\n",
       "      <td>2673.336257</td>\n",
       "    </tr>\n",
       "    <tr>\n",
       "      <th>3</th>\n",
       "      <td>2015-04-01</td>\n",
       "      <td>2822</td>\n",
       "      <td>2920.760254</td>\n",
       "      <td>2865.711655</td>\n",
       "    </tr>\n",
       "    <tr>\n",
       "      <th>4</th>\n",
       "      <td>2015-05-01</td>\n",
       "      <td>2850</td>\n",
       "      <td>2835.401855</td>\n",
       "      <td>2837.851862</td>\n",
       "    </tr>\n",
       "    <tr>\n",
       "      <th>5</th>\n",
       "      <td>2015-06-01</td>\n",
       "      <td>2634</td>\n",
       "      <td>2863.520020</td>\n",
       "      <td>2844.503804</td>\n",
       "    </tr>\n",
       "    <tr>\n",
       "      <th>...</th>\n",
       "      <td>...</td>\n",
       "      <td>...</td>\n",
       "      <td>...</td>\n",
       "      <td>...</td>\n",
       "    </tr>\n",
       "    <tr>\n",
       "      <th>67</th>\n",
       "      <td>2020-08-01</td>\n",
       "      <td>6165</td>\n",
       "      <td>4878.954102</td>\n",
       "      <td>5041.705897</td>\n",
       "    </tr>\n",
       "    <tr>\n",
       "      <th>68</th>\n",
       "      <td>2020-09-01</td>\n",
       "      <td>5683</td>\n",
       "      <td>4901.029785</td>\n",
       "      <td>4958.628025</td>\n",
       "    </tr>\n",
       "    <tr>\n",
       "      <th>69</th>\n",
       "      <td>2020-10-01</td>\n",
       "      <td>5613</td>\n",
       "      <td>4923.198242</td>\n",
       "      <td>5086.221253</td>\n",
       "    </tr>\n",
       "    <tr>\n",
       "      <th>70</th>\n",
       "      <td>2020-11-01</td>\n",
       "      <td>5613</td>\n",
       "      <td>4945.460449</td>\n",
       "      <td>5029.753481</td>\n",
       "    </tr>\n",
       "    <tr>\n",
       "      <th>71</th>\n",
       "      <td>2020-12-01</td>\n",
       "      <td>5792</td>\n",
       "      <td>4967.816406</td>\n",
       "      <td>5205.366131</td>\n",
       "    </tr>\n",
       "  </tbody>\n",
       "</table>\n",
       "<p>71 rows × 4 columns</p>\n",
       "</div>"
      ],
      "text/plain": [
       "        Month  Deaths  LSTM Predictions  SARIMA Predictions\n",
       "1  2015-02-01    2627       2784.187012         2540.838172\n",
       "2  2015-03-01    2907       2639.579590         2673.336257\n",
       "3  2015-04-01    2822       2920.760254         2865.711655\n",
       "4  2015-05-01    2850       2835.401855         2837.851862\n",
       "5  2015-06-01    2634       2863.520020         2844.503804\n",
       "..        ...     ...               ...                 ...\n",
       "67 2020-08-01    6165       4878.954102         5041.705897\n",
       "68 2020-09-01    5683       4901.029785         4958.628025\n",
       "69 2020-10-01    5613       4923.198242         5086.221253\n",
       "70 2020-11-01    5613       4945.460449         5029.753481\n",
       "71 2020-12-01    5792       4967.816406         5205.366131\n",
       "\n",
       "[71 rows x 4 columns]"
      ]
     },
     "execution_count": 275,
     "metadata": {},
     "output_type": "execute_result"
    }
   ],
   "source": [
    "plottable"
   ]
  },
  {
   "cell_type": "code",
   "execution_count": 276,
   "id": "289f1783-86ad-43b9-9153-ad394ddef83d",
   "metadata": {},
   "outputs": [],
   "source": [
    "plottable.set_index('Month', inplace=True)"
   ]
  },
  {
   "cell_type": "code",
   "execution_count": 278,
   "id": "df8b1dd8-7f33-4f16-a946-e597765bdce7",
   "metadata": {},
   "outputs": [
    {
     "data": {
      "image/png": "[encoded data removed]",
      "text/plain": [
       "<Figure size 1000x600 with 1 Axes>"
      ]
     },
     "metadata": {},
     "output_type": "display_data"
    }
   ],
   "source": [
    "plt.figure(figsize=(10, 6))\n",
    "plt.plot(plottable.index, plottable['Deaths'], label='Actual Data', color='blue')\n",
    "plt.plot(plottable.index, plottable['LSTM Predictions'], label='LSTM Predictions', color='red')\n",
    "plt.plot(plottable.index, plottable['SARIMA Predictions'], label='SARIMA Predictions', color='green')\n",
    "plt.title('Deaths: Actual vs LSTM vs SARIMA Predictions (Without Scaling)')\n",
    "plt.xlabel('Date')\n",
    "plt.ylabel('Deaths')\n",
    "plt.legend()\n",
    "plt.show()"
   ]
  },
  {
   "cell_type": "code",
   "execution_count": 282,
   "id": "e405641c-d285-490f-bba6-a1d9017815da",
   "metadata": {},
   "outputs": [
    {
     "data": {
      "text/plain": [
       "DatetimeIndex(['2020-03-01', '2020-04-01', '2020-05-01', '2020-06-01',\n",
       "               '2020-07-01', '2020-08-01', '2020-09-01', '2020-10-01',\n",
       "               '2020-11-01', '2020-12-01'],\n",
       "              dtype='datetime64[ns]', name='Month', freq=None)"
      ]
     },
     "execution_count": 282,
     "metadata": {},
     "output_type": "execute_result"
    }
   ],
   "source": [
    "plottable.index[61:]"
   ]
  },
  {
   "cell_type": "code",
   "execution_count": 283,
   "id": "93cd516a-1894-4997-ac84-abdbb04a6efb",
   "metadata": {},
   "outputs": [
    {
     "data": {
      "image/png": "[encoded data removed]",
      "text/plain": [
       "<Figure size 1000x600 with 1 Axes>"
      ]
     },
     "metadata": {},
     "output_type": "display_data"
    }
   ],
   "source": [
    "plt.figure(figsize=(10, 6))\n",
    "plt.plot(plottable.index[61:], plottable['Deaths'][61:], label='Actual Data', color='blue')\n",
    "plt.plot(plottable.index[61:], plottable['LSTM Predictions'][61:], label='LSTM Predictions', color='red')\n",
    "plt.plot(plottable.index[61:], plottable['SARIMA Predictions'][61:], label='SARIMA Predictions', color='green')\n",
    "plt.title('Test Predictions (Without Scaling)')\n",
    "plt.xlabel('Date')\n",
    "plt.ylabel('Deaths')\n",
    "plt.legend()\n",
    "plt.show()"
   ]
  },
  {
   "cell_type": "code",
   "execution_count": 289,
   "id": "de5c1867-7783-4096-8204-368cbc3a30c7",
   "metadata": {},
   "outputs": [
    {
     "data": {
      "text/plain": [
       "array([[2784.187 ],\n",
       "       [2639.5796],\n",
       "       [2920.7603],\n",
       "       [2835.4019],\n",
       "       [2863.52  ],\n",
       "       [2646.6091],\n",
       "       [2747.031 ],\n",
       "       [2823.3516],\n",
       "       [2938.8364],\n",
       "       [2984.026 ],\n",
       "       [2752.0518],\n",
       "       [2730.9634],\n",
       "       [3112.5657],\n",
       "       [3431.9067],\n",
       "       [3738.1929],\n",
       "       [3624.716 ],\n",
       "       [3491.1553],\n",
       "       [3399.7715],\n",
       "       [3684.9692],\n",
       "       [3640.7837],\n",
       "       [3534.337 ],\n",
       "       [3712.083 ],\n",
       "       [3762.294 ],\n",
       "       [4062.5547],\n",
       "       [4351.769 ],\n",
       "       [4024.3945],\n",
       "       [4271.4316],\n",
       "       [4074.6055],\n",
       "       [4147.913 ],\n",
       "       [3968.1582],\n",
       "       [3998.2847],\n",
       "       [4018.3691],\n",
       "       [4040.462 ],\n",
       "       [3849.6606],\n",
       "       [3837.6104],\n",
       "       [4035.4407],\n",
       "       [4026.4028],\n",
       "       [3687.982 ],\n",
       "       [4174.023 ],\n",
       "       [3940.0403],\n",
       "       [4097.702 ],\n",
       "       [4081.6348],\n",
       "       [4103.7275],\n",
       "       [4079.6265],\n",
       "       [3899.8716],\n",
       "       [4017.3652],\n",
       "       [3709.0703],\n",
       "       [3994.268 ],\n",
       "       [3949.0781],\n",
       "       [3744.2183],\n",
       "       [4304.571 ],\n",
       "       [3952.0908],\n",
       "       [4118.791 ],\n",
       "       [4130.8413],\n",
       "       [4315.617 ],\n",
       "       [4390.9336],\n",
       "       [4271.4316],\n",
       "       [4549.6   ],\n",
       "       [4580.73  ],\n",
       "       [4666.0894],\n",
       "       [4748.435 ]], dtype=float32)"
      ]
     },
     "execution_count": 289,
     "metadata": {},
     "output_type": "execute_result"
    }
   ],
   "source": [
    "trainPredict"
   ]
  },
  {
   "cell_type": "code",
   "execution_count": 292,
   "id": "57df1690-9a8d-48fe-bef8-58ae123aeae6",
   "metadata": {},
   "outputs": [
    {
     "data": {
      "text/plain": [
       "array([[5365],\n",
       "       [6027],\n",
       "       [7419],\n",
       "       [6307],\n",
       "       [6343],\n",
       "       [6165],\n",
       "       [5683],\n",
       "       [5613],\n",
       "       [5613]])"
      ]
     },
     "execution_count": 292,
     "metadata": {},
     "output_type": "execute_result"
    }
   ],
   "source": [
    "testX"
   ]
  },
  {
   "cell_type": "code",
   "execution_count": null,
   "id": "8c925313-f8ca-4261-8f47-80a19aab8eb0",
   "metadata": {},
   "outputs": [],
   "source": [
    "# calculate root mean squared error\n",
    "trainScore = np.sqrt(mean_squared_error(trainY, trainPredict))\n",
    "print('Train Score: %.2f RMSE' % (trainScore))\n",
    "testScore = np.sqrt(mean_squared_error(testY, testPredict))\n",
    "print('Test Score: %.2f RMSE' % (testScore))"
   ]
  }
 ],
 "metadata": {
  "kernelspec": {
   "display_name": "Python 3 (ipykernel)",
   "language": "python",
   "name": "python3"
  },
  "language_info": {
   "codemirror_mode": {
    "name": "ipython",
    "version": 3
   },
   "file_extension": ".py",
   "mimetype": "text/x-python",
   "name": "python",
   "nbconvert_exporter": "python",
   "pygments_lexer": "ipython3",
   "version": "3.10.12"
  }
 },
 "nbformat": 4,
 "nbformat_minor": 5
}
