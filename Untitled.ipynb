{
 "cells": [
  {
   "cell_type": "code",
   "execution_count": 1,
   "id": "699b10cc-ba5c-42e8-b31f-609e8f8277ce",
   "metadata": {},
   "outputs": [],
   "source": [
    "test = 'trial_0_11month_predictionresults_batch_1_loss_mean_squared_error_epochs_100'"
   ]
  },
  {
   "cell_type": "code",
   "execution_count": 3,
   "id": "1d9df5c4-00c7-4f35-a7dc-f5b5920ecc25",
   "metadata": {},
   "outputs": [
    {
     "data": {
      "text/plain": [
       "['trial', '0', '11']"
      ]
     },
     "execution_count": 3,
     "metadata": {},
     "output_type": "execute_result"
    }
   ],
   "source": [
    "test.split(\"month\")[0].split(\"_\")"
   ]
  },
  {
   "cell_type": "code",
   "execution_count": null,
   "id": "6e20dedb-21d0-4e2d-b81c-d6eae45357f3",
   "metadata": {},
   "outputs": [],
   "source": []
  }
 ],
 "metadata": {
  "kernelspec": {
   "display_name": "Python 3 (ipykernel)",
   "language": "python",
   "name": "python3"
  },
  "language_info": {
   "codemirror_mode": {
    "name": "ipython",
    "version": 3
   },
   "file_extension": ".py",
   "mimetype": "text/x-python",
   "name": "python",
   "nbconvert_exporter": "python",
   "pygments_lexer": "ipython3",
   "version": "3.10.12"
  }
 },
 "nbformat": 4,
 "nbformat_minor": 5
}
