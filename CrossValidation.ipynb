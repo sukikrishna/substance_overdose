{
 "cells": [
  {
   "cell_type": "code",
   "execution_count": 19,
   "id": "c1348f5b-9e4d-4622-9038-94b61a533290",
   "metadata": {},
   "outputs": [
    {
     "name": "stderr",
     "output_type": "stream",
     "text": [
      "/tmp/ipykernel_69043/3489270046.py:12: UserWarning: Could not infer format, so each element will be parsed individually, falling back to `dateutil`. To ensure parsing is consistent and as-expected, please specify a format.\n",
      "  df['Month'] = pd.to_datetime(df['Month'])\n",
      "/home/sukikrishna/.local/lib/python3.10/site-packages/keras/src/layers/rnn/rnn.py:204: UserWarning: Do not pass an `input_shape`/`input_dim` argument to a layer. When using Sequential models, prefer using an `Input(shape)` object as the first layer in the model instead.\n",
      "  super().__init__(**kwargs)\n"
     ]
    },
    {
     "name": "stdout",
     "output_type": "stream",
     "text": [
      "\u001b[1m1/1\u001b[0m \u001b[32m━━━━━━━━━━━━━━━━━━━━\u001b[0m\u001b[37m\u001b[0m \u001b[1m0s\u001b[0m 171ms/step\n"
     ]
    },
    {
     "name": "stderr",
     "output_type": "stream",
     "text": [
      "/home/sukikrishna/.local/lib/python3.10/site-packages/statsmodels/base/model.py:607: ConvergenceWarning: Maximum Likelihood optimization failed to converge. Check mle_retvals\n",
      "  warnings.warn(\"Maximum Likelihood optimization failed to \"\n",
      "/home/sukikrishna/.local/lib/python3.10/site-packages/keras/src/layers/rnn/rnn.py:204: UserWarning: Do not pass an `input_shape`/`input_dim` argument to a layer. When using Sequential models, prefer using an `Input(shape)` object as the first layer in the model instead.\n",
      "  super().__init__(**kwargs)\n"
     ]
    },
    {
     "name": "stdout",
     "output_type": "stream",
     "text": [
      "\u001b[1m1/1\u001b[0m \u001b[32m━━━━━━━━━━━━━━━━━━━━\u001b[0m\u001b[37m\u001b[0m \u001b[1m0s\u001b[0m 169ms/step\n"
     ]
    },
    {
     "name": "stderr",
     "output_type": "stream",
     "text": [
      "/home/sukikrishna/.local/lib/python3.10/site-packages/keras/src/layers/rnn/rnn.py:204: UserWarning: Do not pass an `input_shape`/`input_dim` argument to a layer. When using Sequential models, prefer using an `Input(shape)` object as the first layer in the model instead.\n",
      "  super().__init__(**kwargs)\n"
     ]
    },
    {
     "name": "stdout",
     "output_type": "stream",
     "text": [
      "\u001b[1m1/1\u001b[0m \u001b[32m━━━━━━━━━━━━━━━━━━━━\u001b[0m\u001b[37m\u001b[0m \u001b[1m0s\u001b[0m 157ms/step\n"
     ]
    },
    {
     "name": "stderr",
     "output_type": "stream",
     "text": [
      "/home/sukikrishna/.local/lib/python3.10/site-packages/keras/src/layers/rnn/rnn.py:204: UserWarning: Do not pass an `input_shape`/`input_dim` argument to a layer. When using Sequential models, prefer using an `Input(shape)` object as the first layer in the model instead.\n",
      "  super().__init__(**kwargs)\n"
     ]
    },
    {
     "name": "stdout",
     "output_type": "stream",
     "text": [
      "WARNING:tensorflow:5 out of the last 5 calls to <function TensorFlowTrainer.make_predict_function.<locals>.one_step_on_data_distributed at 0x7f0b0c5971c0> triggered tf.function retracing. Tracing is expensive and the excessive number of tracings could be due to (1) creating @tf.function repeatedly in a loop, (2) passing tensors with different shapes, (3) passing Python objects instead of tensors. For (1), please define your @tf.function outside of the loop. For (2), @tf.function has reduce_retracing=True option that can avoid unnecessary retracing. For (3), please refer to https://www.tensorflow.org/guide/function#controlling_retracing and https://www.tensorflow.org/api_docs/python/tf/function for  more details.\n",
      "\u001b[1m1/1\u001b[0m \u001b[32m━━━━━━━━━━━━━━━━━━━━\u001b[0m\u001b[37m\u001b[0m \u001b[1m0s\u001b[0m 171ms/step\n"
     ]
    },
    {
     "name": "stderr",
     "output_type": "stream",
     "text": [
      "/home/sukikrishna/.local/lib/python3.10/site-packages/statsmodels/tsa/statespace/sarimax.py:866: UserWarning: Too few observations to estimate starting parameters for seasonal ARMA. All parameters except for variances will be set to zeros.\n",
      "  warn('Too few observations to estimate starting parameters%s.'\n",
      "/home/sukikrishna/.local/lib/python3.10/site-packages/keras/src/layers/rnn/rnn.py:204: UserWarning: Do not pass an `input_shape`/`input_dim` argument to a layer. When using Sequential models, prefer using an `Input(shape)` object as the first layer in the model instead.\n",
      "  super().__init__(**kwargs)\n"
     ]
    },
    {
     "name": "stdout",
     "output_type": "stream",
     "text": [
      "WARNING:tensorflow:6 out of the last 6 calls to <function TensorFlowTrainer.make_predict_function.<locals>.one_step_on_data_distributed at 0x7f0b0c10b010> triggered tf.function retracing. Tracing is expensive and the excessive number of tracings could be due to (1) creating @tf.function repeatedly in a loop, (2) passing tensors with different shapes, (3) passing Python objects instead of tensors. For (1), please define your @tf.function outside of the loop. For (2), @tf.function has reduce_retracing=True option that can avoid unnecessary retracing. For (3), please refer to https://www.tensorflow.org/guide/function#controlling_retracing and https://www.tensorflow.org/api_docs/python/tf/function for  more details.\n",
      "\u001b[1m1/1\u001b[0m \u001b[32m━━━━━━━━━━━━━━━━━━━━\u001b[0m\u001b[37m\u001b[0m \u001b[1m0s\u001b[0m 161ms/step\n"
     ]
    },
    {
     "name": "stderr",
     "output_type": "stream",
     "text": [
      "/home/sukikrishna/.local/lib/python3.10/site-packages/statsmodels/tsa/statespace/sarimax.py:866: UserWarning: Too few observations to estimate starting parameters for seasonal ARMA. All parameters except for variances will be set to zeros.\n",
      "  warn('Too few observations to estimate starting parameters%s.'\n",
      "/home/sukikrishna/.local/lib/python3.10/site-packages/statsmodels/base/model.py:607: ConvergenceWarning: Maximum Likelihood optimization failed to converge. Check mle_retvals\n",
      "  warnings.warn(\"Maximum Likelihood optimization failed to \"\n",
      "/home/sukikrishna/.local/lib/python3.10/site-packages/keras/src/layers/rnn/rnn.py:204: UserWarning: Do not pass an `input_shape`/`input_dim` argument to a layer. When using Sequential models, prefer using an `Input(shape)` object as the first layer in the model instead.\n",
      "  super().__init__(**kwargs)\n"
     ]
    },
    {
     "name": "stdout",
     "output_type": "stream",
     "text": [
      "\u001b[1m1/1\u001b[0m \u001b[32m━━━━━━━━━━━━━━━━━━━━\u001b[0m\u001b[37m\u001b[0m \u001b[1m0s\u001b[0m 181ms/step\n"
     ]
    },
    {
     "name": "stderr",
     "output_type": "stream",
     "text": [
      "/home/sukikrishna/.local/lib/python3.10/site-packages/statsmodels/tsa/statespace/sarimax.py:866: UserWarning: Too few observations to estimate starting parameters for seasonal ARMA. All parameters except for variances will be set to zeros.\n",
      "  warn('Too few observations to estimate starting parameters%s.'\n",
      "/home/sukikrishna/.local/lib/python3.10/site-packages/statsmodels/base/model.py:607: ConvergenceWarning: Maximum Likelihood optimization failed to converge. Check mle_retvals\n",
      "  warnings.warn(\"Maximum Likelihood optimization failed to \"\n"
     ]
    },
    {
     "name": "stdout",
     "output_type": "stream",
     "text": [
      "\u001b[1m1/1\u001b[0m \u001b[32m━━━━━━━━━━━━━━━━━━━━\u001b[0m\u001b[37m\u001b[0m \u001b[1m0s\u001b[0m 200ms/step\n",
      "Test Results:\n",
      "MAPE: 0.0824, MSE: 507502.5185, RMSE: 712.3921\n"
     ]
    }
   ],
   "source": [
    "import pandas as pd\n",
    "import numpy as np\n",
    "import matplotlib.pyplot as plt\n",
    "from sklearn.metrics import mean_squared_error, mean_absolute_percentage_error\n",
    "from keras.models import Sequential\n",
    "from keras.layers import LSTM, Dense\n",
    "from statsmodels.tsa.statespace.sarimax import SARIMAX\n",
    "\n",
    "# Load and preprocess the data\n",
    "df = pd.read_excel('data/state_month_overdose.xlsx')\n",
    "df['Deaths'] = df['Deaths'].apply(lambda x: 0 if x == 'Suppressed' else int(x))\n",
    "df['Month'] = pd.to_datetime(df['Month'])\n",
    "df.set_index('Month', inplace=True)\n",
    "df = df.groupby(['Month']).agg({'Deaths': 'sum'}).reset_index()\n",
    "\n",
    "# Define validation periods\n",
    "validation_periods = [\n",
    "    ('2019-11-01', '2020-01-01'),\n",
    "    ('2019-09-01', '2020-01-01'),\n",
    "    ('2019-07-01', '2020-01-01'),\n",
    "    ('2019-01-01', '2020-01-01'),\n",
    "    ('2018-07-01', '2020-01-01'),\n",
    "    ('2018-01-01', '2020-01-01')\n",
    "]\n",
    "\n",
    "# Helper function to create datasets\n",
    "def create_dataset(dataset, look_back):\n",
    "    dataX, dataY = [], []\n",
    "    for i in range(len(dataset) - look_back):\n",
    "        dataX.append(dataset[i:(i + look_back)])\n",
    "        dataY.append(dataset[i + look_back])\n",
    "    return np.array(dataX), np.array(dataY)\n",
    "\n",
    "# Function to calculate confidence intervals\n",
    "def calculate_confidence_intervals(predictions, alpha=0.05):\n",
    "    mean_pred = np.mean(predictions)\n",
    "    std_pred = np.std(predictions)\n",
    "    z_score = 1.96  # For 95% confidence\n",
    "    margin_of_error = z_score * (std_pred / np.sqrt(len(predictions)))\n",
    "    lower_bound = predictions - margin_of_error\n",
    "    upper_bound = predictions + margin_of_error\n",
    "    return lower_bound, upper_bound\n",
    "\n",
    "# Function to calculate overlap percentage\n",
    "def calculate_overlap(lower1, upper1, lower2, upper2):\n",
    "    overlap_count = sum(1 for l1, u1, l2, u2 in zip(lower1, upper1, lower2, upper2) if u1 >= l2 and l1 <= u2)\n",
    "    return (overlap_count / len(lower1)) * 100\n",
    "\n",
    "# Initialize results\n",
    "results = []\n",
    "look_back = 3\n",
    "\n",
    "for val_start, val_end in validation_periods:\n",
    "    # Adjust validation and test start dates to include look-back rows\n",
    "    adjusted_val_start = pd.to_datetime(val_start) - pd.DateOffset(months=look_back)\n",
    "    adjusted_test_start = pd.to_datetime(val_end) - pd.DateOffset(months=look_back)\n",
    "\n",
    "    # Split data into training, validation, and test sets\n",
    "    train = df[df['Month'] <= adjusted_val_start]\n",
    "    validation = df[(df['Month'] >= adjusted_val_start) & (df['Month'] <= val_end)]\n",
    "    test = df[(df['Month'] >= adjusted_test_start)]\n",
    "\n",
    "    # Prepare LSTM datasets\n",
    "    trainX, trainY = create_dataset(train['Deaths'].values, look_back)\n",
    "    valX, valY = create_dataset(validation['Deaths'].values, look_back)\n",
    "    testX, testY = create_dataset(test['Deaths'].values, look_back)\n",
    "\n",
    "    trainX = trainX.reshape((trainX.shape[0], look_back, 1))\n",
    "    valX = valX.reshape((valX.shape[0], look_back, 1))\n",
    "    testX = testX.reshape((testX.shape[0], look_back, 1))\n",
    "\n",
    "    # Train LSTM model\n",
    "    model = Sequential()\n",
    "    model.add(LSTM(50, activation='relu', input_shape=(look_back, 1)))\n",
    "    model.add(Dense(1))\n",
    "    model.compile(loss='mean_squared_error', optimizer='adam')\n",
    "    model.fit(trainX, trainY, epochs=50, batch_size=1, verbose=0)\n",
    "\n",
    "    # Evaluate LSTM on validation\n",
    "    valPred = model.predict(valX).flatten()\n",
    "    lstm_mse = mean_squared_error(valY, valPred)\n",
    "    lstm_rmse = np.sqrt(lstm_mse)\n",
    "    lstm_mape = mean_absolute_percentage_error(valY, valPred)\n",
    "\n",
    "    # Prepare SARIMA model\n",
    "    sarima_model = SARIMAX(train['Deaths'], order=(1, 1, 1), seasonal_order=(1, 1, 1, 12),\n",
    "                           enforce_stationarity=False, enforce_invertibility=False)\n",
    "    sarima_result = sarima_model.fit(disp=False)\n",
    "\n",
    "    # Evaluate SARIMA on validation\n",
    "    sarima_val_pred = sarima_result.predict(start=len(train), end=len(train) + len(validation) - 1, dynamic=False)\n",
    "    sarima_mse = mean_squared_error(validation['Deaths'], sarima_val_pred)\n",
    "    sarima_rmse = np.sqrt(sarima_mse)\n",
    "    sarima_mape = mean_absolute_percentage_error(validation['Deaths'], sarima_val_pred)\n",
    "\n",
    "    # Calculate confidence intervals and overlap\n",
    "    lower_bound_val, upper_bound_val = calculate_confidence_intervals(valPred)\n",
    "    lower_bound_sarima, upper_bound_sarima = calculate_confidence_intervals(sarima_val_pred)\n",
    "    ci_overlap = calculate_overlap(lower_bound_val, upper_bound_val, lower_bound_sarima, upper_bound_sarima)\n",
    "\n",
    "    # Save results for this validation period\n",
    "    results.append({\n",
    "        'Validation Period': f\"{val_start} to {val_end}\",\n",
    "        'Look-back': look_back,\n",
    "        'LSTM MAPE': lstm_mape,\n",
    "        'LSTM MSE': lstm_mse,\n",
    "        'LSTM RMSE': lstm_rmse,\n",
    "        'SARIMA MAPE': sarima_mape,\n",
    "        'SARIMA MSE': sarima_mse,\n",
    "        'SARIMA RMSE': sarima_rmse,\n",
    "        'CI Overlap %': ci_overlap\n",
    "    })\n",
    "\n",
    "# Save results to CSV\n",
    "results_df = pd.DataFrame(results)\n",
    "results_df.to_csv('kfold_cross_validation_results.csv', index=False)\n",
    "\n",
    "# Train best model on full training + validation data and evaluate on test\n",
    "best_model_period = results_df.loc[results_df['LSTM MSE'].idxmin()]\n",
    "best_val_start, best_val_end = best_model_period['Validation Period'].split(' to ')\n",
    "full_train = df[df['Month'] < best_val_end]\n",
    "\n",
    "trainX, trainY = create_dataset(full_train['Deaths'].values, look_back)\n",
    "testX, testY = create_dataset(test['Deaths'].values, look_back)\n",
    "\n",
    "trainX = trainX.reshape((trainX.shape[0], look_back, 1))\n",
    "testX = testX.reshape((testX.shape[0], look_back, 1))\n",
    "\n",
    "model.fit(trainX, trainY, epochs=50, batch_size=1, verbose=0)\n",
    "testPred = model.predict(testX).flatten()\n",
    "\n",
    "# Save test results\n",
    "test_mse = mean_squared_error(testY, testPred)\n",
    "test_rmse = np.sqrt(test_mse)\n",
    "test_mape = mean_absolute_percentage_error(testY, testPred)\n",
    "print(f\"Test Results:\\nMAPE: {test_mape:.4f}, MSE: {test_mse:.4f}, RMSE: {test_rmse:.4f}\")"
   ]
  },
  {
   "cell_type": "code",
   "execution_count": 20,
   "id": "e2b0c8ba-020f-4e43-ab45-6b611a3282b0",
   "metadata": {},
   "outputs": [
    {
     "data": {
      "text/plain": [
       "Validation Period    2019-09-01 to 2020-01-01\n",
       "Look-back                                   3\n",
       "LSTM MAPE                            0.022304\n",
       "LSTM MSE                         11090.543981\n",
       "LSTM RMSE                          105.311652\n",
       "SARIMA MAPE                          0.426371\n",
       "SARIMA MSE                     4604725.039945\n",
       "SARIMA RMSE                       2145.862307\n",
       "CI Overlap %                             20.0\n",
       "Name: 1, dtype: object"
      ]
     },
     "execution_count": 20,
     "metadata": {},
     "output_type": "execute_result"
    }
   ],
   "source": [
    "best_model_period"
   ]
  },
  {
   "cell_type": "markdown",
   "id": "b6558ee9-6d8f-4fb4-af1f-972e0646c1da",
   "metadata": {},
   "source": [
    "TEST"
   ]
  },
  {
   "cell_type": "code",
   "execution_count": 16,
   "id": "7cafa3a5-bb41-4250-8643-f35ba3cbe087",
   "metadata": {},
   "outputs": [],
   "source": [
    "val_start, val_end = validation_periods[0]\n",
    "\n",
    "adjusted_val_start = pd.to_datetime(val_start) - pd.DateOffset(months=look_back)\n",
    "adjusted_test_start = pd.to_datetime(val_end) - pd.DateOffset(months=look_back)\n",
    "\n",
    "\n",
    "train = df[df['Month'] <= val_start]\n",
    "validation = df[(df['Month'] >= adjusted_val_start) & (df['Month'] <= val_end)]\n",
    "test = df[df['Month'] >= adjusted_test_start]\n",
    "\n",
    "# Prepare LSTM datasets\n",
    "trainX, trainY = create_dataset(train['Deaths'].values, look_back)\n",
    "valX, valY = create_dataset(validation['Deaths'].values, look_back)\n",
    "testX, testY = create_dataset(test['Deaths'].values, look_back)\n",
    "\n",
    "trainX = trainX.reshape((trainX.shape[0], look_back, 1))\n",
    "valX = valX.reshape((valX.shape[0], look_back, 1))\n",
    "testX = testX.reshape((testX.shape[0], look_back, 1))"
   ]
  },
  {
   "cell_type": "code",
   "execution_count": 17,
   "id": "cb3a5b86-4a78-4ab2-88b4-2273609264bd",
   "metadata": {},
   "outputs": [
    {
     "data": {
      "text/html": [
       "<div>\n",
       "<style scoped>\n",
       "    .dataframe tbody tr th:only-of-type {\n",
       "        vertical-align: middle;\n",
       "    }\n",
       "\n",
       "    .dataframe tbody tr th {\n",
       "        vertical-align: top;\n",
       "    }\n",
       "\n",
       "    .dataframe thead th {\n",
       "        text-align: right;\n",
       "    }\n",
       "</style>\n",
       "<table border=\"1\" class=\"dataframe\">\n",
       "  <thead>\n",
       "    <tr style=\"text-align: right;\">\n",
       "      <th></th>\n",
       "      <th>Month</th>\n",
       "      <th>Deaths</th>\n",
       "    </tr>\n",
       "  </thead>\n",
       "  <tbody>\n",
       "    <tr>\n",
       "      <th>55</th>\n",
       "      <td>2019-08-01</td>\n",
       "      <td>4371</td>\n",
       "    </tr>\n",
       "    <tr>\n",
       "      <th>56</th>\n",
       "      <td>2019-09-01</td>\n",
       "      <td>4252</td>\n",
       "    </tr>\n",
       "    <tr>\n",
       "      <th>57</th>\n",
       "      <td>2019-10-01</td>\n",
       "      <td>4529</td>\n",
       "    </tr>\n",
       "    <tr>\n",
       "      <th>58</th>\n",
       "      <td>2019-11-01</td>\n",
       "      <td>4560</td>\n",
       "    </tr>\n",
       "    <tr>\n",
       "      <th>59</th>\n",
       "      <td>2019-12-01</td>\n",
       "      <td>4645</td>\n",
       "    </tr>\n",
       "    <tr>\n",
       "      <th>60</th>\n",
       "      <td>2020-01-01</td>\n",
       "      <td>4727</td>\n",
       "    </tr>\n",
       "  </tbody>\n",
       "</table>\n",
       "</div>"
      ],
      "text/plain": [
       "        Month  Deaths\n",
       "55 2019-08-01    4371\n",
       "56 2019-09-01    4252\n",
       "57 2019-10-01    4529\n",
       "58 2019-11-01    4560\n",
       "59 2019-12-01    4645\n",
       "60 2020-01-01    4727"
      ]
     },
     "execution_count": 17,
     "metadata": {},
     "output_type": "execute_result"
    }
   ],
   "source": [
    "validation"
   ]
  },
  {
   "cell_type": "code",
   "execution_count": null,
   "id": "67dd78b4-bbb9-47f2-8d91-a574e6fc58f7",
   "metadata": {},
   "outputs": [],
   "source": []
  }
 ],
 "metadata": {
  "kernelspec": {
   "display_name": "Python 3 (ipykernel)",
   "language": "python",
   "name": "python3"
  },
  "language_info": {
   "codemirror_mode": {
    "name": "ipython",
    "version": 3
   },
   "file_extension": ".py",
   "mimetype": "text/x-python",
   "name": "python",
   "nbconvert_exporter": "python",
   "pygments_lexer": "ipython3",
   "version": "3.10.12"
  }
 },
 "nbformat": 4,
 "nbformat_minor": 5
}
